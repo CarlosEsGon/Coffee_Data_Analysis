{
 "cells": [
  {
   "cell_type": "code",
   "execution_count": 217,
   "id": "ba804b65",
   "metadata": {},
   "outputs": [],
   "source": [
    "import pandas as pd\n",
    "import numpy as np\n",
    "import matplotlib.pyplot as plt\n",
    "import seaborn as sns\n",
    "import plotly.express as px\n",
    "import plotly.graph_objects as go\n",
    "from plotly.subplots import make_subplots"
   ]
  },
  {
   "cell_type": "code",
   "execution_count": 218,
   "id": "6261f253",
   "metadata": {},
   "outputs": [],
   "source": [
    "#import all the necessary machine learning libraries\n",
    "from sklearn.preprocessing import StandardScaler \n",
    "from sklearn.metrics import confusion_matrix, accuracy_score, classification_report, mean_squared_error\n",
    "from sklearn.model_selection import train_test_split, GridSearchCV, cross_val_score\n",
    "from sklearn.neural_network import MLPClassifier\n",
    "from sklearn.linear_model import LogisticRegression\n",
    "from sklearn.preprocessing import LabelEncoder, StandardScaler, MinMaxScaler, OneHotEncoder\n",
    "from sklearn.ensemble import RandomForestClassifier, GradientBoostingClassifier, RandomForestRegressor\n",
    "from sklearn.metrics import confusion_matrix, accuracy_score, classification_report, mean_squared_error\n",
    "from sklearn.pipeline import Pipeline\n",
    "from sklearn.compose import ColumnTransformer\n",
    "from sklearn.manifold import TSNE"
   ]
  },
  {
   "cell_type": "markdown",
   "id": "d0f5c0f7",
   "metadata": {},
   "source": [
    "## Load the Dataset and Cleaning"
   ]
  },
  {
   "cell_type": "code",
   "execution_count": 219,
   "id": "aefd5c47",
   "metadata": {},
   "outputs": [],
   "source": [
    "coffee = pd.read_csv(\"df_arabica_clean.csv\")"
   ]
  },
  {
   "cell_type": "code",
   "execution_count": 220,
   "id": "c0fafd0f",
   "metadata": {},
   "outputs": [
    {
     "data": {
      "text/html": [
       "<div>\n",
       "<style scoped>\n",
       "    .dataframe tbody tr th:only-of-type {\n",
       "        vertical-align: middle;\n",
       "    }\n",
       "\n",
       "    .dataframe tbody tr th {\n",
       "        vertical-align: top;\n",
       "    }\n",
       "\n",
       "    .dataframe thead th {\n",
       "        text-align: right;\n",
       "    }\n",
       "</style>\n",
       "<table border=\"1\" class=\"dataframe\">\n",
       "  <thead>\n",
       "    <tr style=\"text-align: right;\">\n",
       "      <th></th>\n",
       "      <th>Unnamed: 0</th>\n",
       "      <th>ID</th>\n",
       "      <th>Country of Origin</th>\n",
       "      <th>Farm Name</th>\n",
       "      <th>Lot Number</th>\n",
       "      <th>Mill</th>\n",
       "      <th>ICO Number</th>\n",
       "      <th>Company</th>\n",
       "      <th>Altitude</th>\n",
       "      <th>Region</th>\n",
       "      <th>...</th>\n",
       "      <th>Total Cup Points</th>\n",
       "      <th>Moisture Percentage</th>\n",
       "      <th>Category One Defects</th>\n",
       "      <th>Quakers</th>\n",
       "      <th>Color</th>\n",
       "      <th>Category Two Defects</th>\n",
       "      <th>Expiration</th>\n",
       "      <th>Certification Body</th>\n",
       "      <th>Certification Address</th>\n",
       "      <th>Certification Contact</th>\n",
       "    </tr>\n",
       "  </thead>\n",
       "  <tbody>\n",
       "    <tr>\n",
       "      <th>0</th>\n",
       "      <td>0</td>\n",
       "      <td>0</td>\n",
       "      <td>Colombia</td>\n",
       "      <td>Finca El Paraiso</td>\n",
       "      <td>CQU2022015</td>\n",
       "      <td>Finca El Paraiso</td>\n",
       "      <td>NaN</td>\n",
       "      <td>Coffee Quality Union</td>\n",
       "      <td>1700-1930</td>\n",
       "      <td>Piendamo,Cauca</td>\n",
       "      <td>...</td>\n",
       "      <td>89.33</td>\n",
       "      <td>11.8</td>\n",
       "      <td>0</td>\n",
       "      <td>0</td>\n",
       "      <td>green</td>\n",
       "      <td>3</td>\n",
       "      <td>September 21st, 2023</td>\n",
       "      <td>Japan Coffee Exchange</td>\n",
       "      <td>〒413-0002 静岡県熱海市伊豆山１１７３−５８ 1173-58 Izusan, Ata...</td>\n",
       "      <td>松澤　宏樹　Koju Matsuzawa - +81(0)9085642901</td>\n",
       "    </tr>\n",
       "    <tr>\n",
       "      <th>1</th>\n",
       "      <td>1</td>\n",
       "      <td>1</td>\n",
       "      <td>Taiwan</td>\n",
       "      <td>Royal Bean Geisha Estate</td>\n",
       "      <td>The 2022 Pacific Rim Coffee Summit,T037</td>\n",
       "      <td>Royal Bean Geisha Estate</td>\n",
       "      <td>NaN</td>\n",
       "      <td>Taiwan Coffee Laboratory</td>\n",
       "      <td>1200</td>\n",
       "      <td>Chiayi</td>\n",
       "      <td>...</td>\n",
       "      <td>87.58</td>\n",
       "      <td>10.5</td>\n",
       "      <td>0</td>\n",
       "      <td>0</td>\n",
       "      <td>blue-green</td>\n",
       "      <td>0</td>\n",
       "      <td>November 15th, 2023</td>\n",
       "      <td>Taiwan Coffee Laboratory 台灣咖啡研究室</td>\n",
       "      <td>QAHWAH CO., LTD 4F, No. 225, Sec. 3, Beixin Rd...</td>\n",
       "      <td>Lin, Jen-An Neil 林仁安 - 886-289116612</td>\n",
       "    </tr>\n",
       "    <tr>\n",
       "      <th>2</th>\n",
       "      <td>2</td>\n",
       "      <td>2</td>\n",
       "      <td>Laos</td>\n",
       "      <td>OKLAO coffee farms</td>\n",
       "      <td>The 2022 Pacific Rim Coffee Summit,LA01</td>\n",
       "      <td>oklao coffee processing plant</td>\n",
       "      <td>NaN</td>\n",
       "      <td>Taiwan Coffee Laboratory</td>\n",
       "      <td>1300</td>\n",
       "      <td>Laos Borofen Plateau</td>\n",
       "      <td>...</td>\n",
       "      <td>87.42</td>\n",
       "      <td>10.4</td>\n",
       "      <td>0</td>\n",
       "      <td>0</td>\n",
       "      <td>yellowish</td>\n",
       "      <td>2</td>\n",
       "      <td>November 15th, 2023</td>\n",
       "      <td>Taiwan Coffee Laboratory 台灣咖啡研究室</td>\n",
       "      <td>QAHWAH CO., LTD 4F, No. 225, Sec. 3, Beixin Rd...</td>\n",
       "      <td>Lin, Jen-An Neil 林仁安 - 886-289116612</td>\n",
       "    </tr>\n",
       "    <tr>\n",
       "      <th>3</th>\n",
       "      <td>3</td>\n",
       "      <td>3</td>\n",
       "      <td>Costa Rica</td>\n",
       "      <td>La Cumbre</td>\n",
       "      <td>CQU2022017</td>\n",
       "      <td>La Montana Tarrazu MIll</td>\n",
       "      <td>NaN</td>\n",
       "      <td>Coffee Quality Union</td>\n",
       "      <td>1900</td>\n",
       "      <td>Los Santos,Tarrazu</td>\n",
       "      <td>...</td>\n",
       "      <td>87.17</td>\n",
       "      <td>11.8</td>\n",
       "      <td>0</td>\n",
       "      <td>0</td>\n",
       "      <td>green</td>\n",
       "      <td>0</td>\n",
       "      <td>September 21st, 2023</td>\n",
       "      <td>Japan Coffee Exchange</td>\n",
       "      <td>〒413-0002 静岡県熱海市伊豆山１１７３−５８ 1173-58 Izusan, Ata...</td>\n",
       "      <td>松澤　宏樹　Koju Matsuzawa - +81(0)9085642901</td>\n",
       "    </tr>\n",
       "    <tr>\n",
       "      <th>4</th>\n",
       "      <td>4</td>\n",
       "      <td>4</td>\n",
       "      <td>Colombia</td>\n",
       "      <td>Finca Santuario</td>\n",
       "      <td>CQU2023002</td>\n",
       "      <td>Finca Santuario</td>\n",
       "      <td>NaN</td>\n",
       "      <td>Coffee Quality Union</td>\n",
       "      <td>1850-2100</td>\n",
       "      <td>Popayan,Cauca</td>\n",
       "      <td>...</td>\n",
       "      <td>87.08</td>\n",
       "      <td>11.6</td>\n",
       "      <td>0</td>\n",
       "      <td>2</td>\n",
       "      <td>yellow-green</td>\n",
       "      <td>2</td>\n",
       "      <td>March 5th, 2024</td>\n",
       "      <td>Japan Coffee Exchange</td>\n",
       "      <td>〒413-0002 静岡県熱海市伊豆山１１７３−５８ 1173-58 Izusan, Ata...</td>\n",
       "      <td>松澤　宏樹　Koju Matsuzawa - +81(0)9085642901</td>\n",
       "    </tr>\n",
       "  </tbody>\n",
       "</table>\n",
       "<p>5 rows × 41 columns</p>\n",
       "</div>"
      ],
      "text/plain": [
       "   Unnamed: 0  ID Country of Origin                 Farm Name  \\\n",
       "0           0   0          Colombia          Finca El Paraiso   \n",
       "1           1   1            Taiwan  Royal Bean Geisha Estate   \n",
       "2           2   2              Laos        OKLAO coffee farms   \n",
       "3           3   3        Costa Rica                 La Cumbre   \n",
       "4           4   4          Colombia           Finca Santuario   \n",
       "\n",
       "                                Lot Number                           Mill  \\\n",
       "0                               CQU2022015               Finca El Paraiso   \n",
       "1  The 2022 Pacific Rim Coffee Summit,T037       Royal Bean Geisha Estate   \n",
       "2  The 2022 Pacific Rim Coffee Summit,LA01  oklao coffee processing plant   \n",
       "3                               CQU2022017        La Montana Tarrazu MIll   \n",
       "4                               CQU2023002                Finca Santuario   \n",
       "\n",
       "  ICO Number                   Company   Altitude                Region  ...  \\\n",
       "0        NaN      Coffee Quality Union  1700-1930        Piendamo,Cauca  ...   \n",
       "1        NaN  Taiwan Coffee Laboratory       1200                Chiayi  ...   \n",
       "2        NaN  Taiwan Coffee Laboratory       1300  Laos Borofen Plateau  ...   \n",
       "3        NaN      Coffee Quality Union       1900    Los Santos,Tarrazu  ...   \n",
       "4        NaN      Coffee Quality Union  1850-2100         Popayan,Cauca  ...   \n",
       "\n",
       "  Total Cup Points  Moisture Percentage Category One Defects Quakers  \\\n",
       "0            89.33                 11.8                    0       0   \n",
       "1            87.58                 10.5                    0       0   \n",
       "2            87.42                 10.4                    0       0   \n",
       "3            87.17                 11.8                    0       0   \n",
       "4            87.08                 11.6                    0       2   \n",
       "\n",
       "          Color Category Two Defects            Expiration  \\\n",
       "0         green                    3  September 21st, 2023   \n",
       "1    blue-green                    0   November 15th, 2023   \n",
       "2     yellowish                    2   November 15th, 2023   \n",
       "3         green                    0  September 21st, 2023   \n",
       "4  yellow-green                    2       March 5th, 2024   \n",
       "\n",
       "                 Certification Body  \\\n",
       "0             Japan Coffee Exchange   \n",
       "1  Taiwan Coffee Laboratory 台灣咖啡研究室   \n",
       "2  Taiwan Coffee Laboratory 台灣咖啡研究室   \n",
       "3             Japan Coffee Exchange   \n",
       "4             Japan Coffee Exchange   \n",
       "\n",
       "                               Certification Address  \\\n",
       "0  〒413-0002 静岡県熱海市伊豆山１１７３−５８ 1173-58 Izusan, Ata...   \n",
       "1  QAHWAH CO., LTD 4F, No. 225, Sec. 3, Beixin Rd...   \n",
       "2  QAHWAH CO., LTD 4F, No. 225, Sec. 3, Beixin Rd...   \n",
       "3  〒413-0002 静岡県熱海市伊豆山１１７３−５８ 1173-58 Izusan, Ata...   \n",
       "4  〒413-0002 静岡県熱海市伊豆山１１７３−５８ 1173-58 Izusan, Ata...   \n",
       "\n",
       "                     Certification Contact  \n",
       "0  松澤　宏樹　Koju Matsuzawa - +81(0)9085642901  \n",
       "1     Lin, Jen-An Neil 林仁安 - 886-289116612  \n",
       "2     Lin, Jen-An Neil 林仁安 - 886-289116612  \n",
       "3  松澤　宏樹　Koju Matsuzawa - +81(0)9085642901  \n",
       "4  松澤　宏樹　Koju Matsuzawa - +81(0)9085642901  \n",
       "\n",
       "[5 rows x 41 columns]"
      ]
     },
     "execution_count": 220,
     "metadata": {},
     "output_type": "execute_result"
    }
   ],
   "source": [
    "coffee.head()"
   ]
  },
  {
   "cell_type": "code",
   "execution_count": 221,
   "id": "43ed019b",
   "metadata": {},
   "outputs": [
    {
     "data": {
      "text/plain": [
       "(207, 41)"
      ]
     },
     "execution_count": 221,
     "metadata": {},
     "output_type": "execute_result"
    }
   ],
   "source": [
    "coffee.shape"
   ]
  },
  {
   "cell_type": "code",
   "execution_count": 222,
   "id": "cd1aacd5",
   "metadata": {},
   "outputs": [
    {
     "data": {
      "text/plain": [
       "Unnamed: 0                 int64\n",
       "ID                         int64\n",
       "Country of Origin         object\n",
       "Farm Name                 object\n",
       "Lot Number                object\n",
       "Mill                      object\n",
       "ICO Number                object\n",
       "Company                   object\n",
       "Altitude                  object\n",
       "Region                    object\n",
       "Producer                  object\n",
       "Number of Bags             int64\n",
       "Bag Weight                object\n",
       "In-Country Partner        object\n",
       "Harvest Year              object\n",
       "Grading Date              object\n",
       "Owner                     object\n",
       "Variety                   object\n",
       "Status                    object\n",
       "Processing Method         object\n",
       "Aroma                    float64\n",
       "Flavor                   float64\n",
       "Aftertaste               float64\n",
       "Acidity                  float64\n",
       "Body                     float64\n",
       "Balance                  float64\n",
       "Uniformity               float64\n",
       "Clean Cup                float64\n",
       "Sweetness                float64\n",
       "Overall                  float64\n",
       "Defects                  float64\n",
       "Total Cup Points         float64\n",
       "Moisture Percentage      float64\n",
       "Category One Defects       int64\n",
       "Quakers                    int64\n",
       "Color                     object\n",
       "Category Two Defects       int64\n",
       "Expiration                object\n",
       "Certification Body        object\n",
       "Certification Address     object\n",
       "Certification Contact     object\n",
       "dtype: object"
      ]
     },
     "execution_count": 222,
     "metadata": {},
     "output_type": "execute_result"
    }
   ],
   "source": [
    "coffee.dtypes"
   ]
  },
  {
   "cell_type": "code",
   "execution_count": 223,
   "id": "87c0a616",
   "metadata": {},
   "outputs": [],
   "source": [
    "null_values = (coffee.isnull().sum() / len(coffee))*100\n",
    "null_values = null_values.drop(null_values[null_values == 0].index)"
   ]
  },
  {
   "cell_type": "code",
   "execution_count": 224,
   "id": "70f50f2b",
   "metadata": {},
   "outputs": [
    {
     "data": {
      "text/html": [
       "<div>\n",
       "<style scoped>\n",
       "    .dataframe tbody tr th:only-of-type {\n",
       "        vertical-align: middle;\n",
       "    }\n",
       "\n",
       "    .dataframe tbody tr th {\n",
       "        vertical-align: top;\n",
       "    }\n",
       "\n",
       "    .dataframe thead th {\n",
       "        text-align: right;\n",
       "    }\n",
       "</style>\n",
       "<table border=\"1\" class=\"dataframe\">\n",
       "  <thead>\n",
       "    <tr style=\"text-align: right;\">\n",
       "      <th></th>\n",
       "      <th>Null Values (%)</th>\n",
       "    </tr>\n",
       "  </thead>\n",
       "  <tbody>\n",
       "    <tr>\n",
       "      <th>ICO Number</th>\n",
       "      <td>63.768116</td>\n",
       "    </tr>\n",
       "    <tr>\n",
       "      <th>Variety</th>\n",
       "      <td>2.898551</td>\n",
       "    </tr>\n",
       "    <tr>\n",
       "      <th>Processing Method</th>\n",
       "      <td>2.415459</td>\n",
       "    </tr>\n",
       "    <tr>\n",
       "      <th>Mill</th>\n",
       "      <td>1.449275</td>\n",
       "    </tr>\n",
       "    <tr>\n",
       "      <th>Farm Name</th>\n",
       "      <td>0.966184</td>\n",
       "    </tr>\n",
       "    <tr>\n",
       "      <th>Region</th>\n",
       "      <td>0.966184</td>\n",
       "    </tr>\n",
       "    <tr>\n",
       "      <th>Lot Number</th>\n",
       "      <td>0.483092</td>\n",
       "    </tr>\n",
       "    <tr>\n",
       "      <th>Altitude</th>\n",
       "      <td>0.483092</td>\n",
       "    </tr>\n",
       "    <tr>\n",
       "      <th>Producer</th>\n",
       "      <td>0.483092</td>\n",
       "    </tr>\n",
       "  </tbody>\n",
       "</table>\n",
       "</div>"
      ],
      "text/plain": [
       "                   Null Values (%)\n",
       "ICO Number               63.768116\n",
       "Variety                   2.898551\n",
       "Processing Method         2.415459\n",
       "Mill                      1.449275\n",
       "Farm Name                 0.966184\n",
       "Region                    0.966184\n",
       "Lot Number                0.483092\n",
       "Altitude                  0.483092\n",
       "Producer                  0.483092"
      ]
     },
     "execution_count": 224,
     "metadata": {},
     "output_type": "execute_result"
    }
   ],
   "source": [
    "null_values = pd.DataFrame(null_values.sort_values(ascending = False))\n",
    "null_values.rename(columns = {0: \"Null Values (%)\"}, inplace = True)\n",
    "null_values"
   ]
  },
  {
   "cell_type": "code",
   "execution_count": 225,
   "id": "fefaf7ca",
   "metadata": {},
   "outputs": [],
   "source": [
    "coffee[\"Processing Method\"].unique()\n",
    "coffee[\"Processing Method\"].fillna(\"Washed / Wet\", inplace= True)"
   ]
  },
  {
   "cell_type": "markdown",
   "id": "eaf43886",
   "metadata": {},
   "source": [
    "We have filled the NaN values for the processing method column with Washed/Wet - Now let's see if how many of the NaN columns are necessary for the analysis"
   ]
  },
  {
   "cell_type": "code",
   "execution_count": 226,
   "id": "a1c16871",
   "metadata": {},
   "outputs": [
    {
     "data": {
      "text/plain": [
       "Index(['Unnamed: 0', 'ID', 'Country of Origin', 'Farm Name', 'Lot Number',\n",
       "       'Mill', 'ICO Number', 'Company', 'Altitude', 'Region', 'Producer',\n",
       "       'Number of Bags', 'Bag Weight', 'In-Country Partner', 'Harvest Year',\n",
       "       'Grading Date', 'Owner', 'Variety', 'Status', 'Processing Method',\n",
       "       'Aroma', 'Flavor', 'Aftertaste', 'Acidity', 'Body', 'Balance',\n",
       "       'Uniformity', 'Clean Cup', 'Sweetness', 'Overall', 'Defects',\n",
       "       'Total Cup Points', 'Moisture Percentage', 'Category One Defects',\n",
       "       'Quakers', 'Color', 'Category Two Defects', 'Expiration',\n",
       "       'Certification Body', 'Certification Address', 'Certification Contact'],\n",
       "      dtype='object')"
      ]
     },
     "execution_count": 226,
     "metadata": {},
     "output_type": "execute_result"
    }
   ],
   "source": [
    "coffee.columns"
   ]
  },
  {
   "cell_type": "code",
   "execution_count": 227,
   "id": "eadb12da",
   "metadata": {},
   "outputs": [],
   "source": [
    "# Mapping the Education\n",
    "processing_mapping = {\n",
    "    \"Double Anaerobic Washed\": \"Washed / Wet\",\n",
    "    \"Semi Washed\": \"Washed / Wet\",\n",
    "    \"Honey,Mossto\": \"Pulped natural / honey\",\n",
    "    \"Double Carbonic Maceration / Natural\": \"Natural / Dry\",\n",
    "    \"Wet Hulling\": \"Washed / Wet\",\n",
    "    \"Anaerobico 1000h\": \"Washed / Wet\",\n",
    "    \"SEMI-LAVADO\": \"Natural / Dry\"\n",
    "}\n",
    "# Fixing the values in the column\n",
    "coffee['Processing Method'] = coffee['Processing Method'].map(processing_mapping)\n",
    "coffee['Processing Method'].fillna(\"Washed / Wet\", inplace=True)"
   ]
  },
  {
   "cell_type": "code",
   "execution_count": 228,
   "id": "710e9f48",
   "metadata": {},
   "outputs": [],
   "source": [
    "irrelevant_columns = ['Unnamed: 0', 'ID', 'Farm Name', 'Lot Number',\n",
    "       'Mill', 'ICO Number', 'Company', 'Region', 'Producer',\n",
    "       'Number of Bags', 'Bag Weight', 'In-Country Partner','Defects',\n",
    "       'Certification Body', 'Certification Address', 'Certification Contact', \"Grading Date\"]\n",
    "\n",
    "coffee.drop(irrelevant_columns, axis = 1, inplace = True)"
   ]
  },
  {
   "cell_type": "markdown",
   "id": "7704c930",
   "metadata": {},
   "source": [
    "It seems that most of the columns that contain NaN values are not necessary for the analysis - ICO Number, Mill, Farm Name\t, Region, Lot Number, Producer"
   ]
  },
  {
   "cell_type": "code",
   "execution_count": 229,
   "id": "7dfdb334",
   "metadata": {},
   "outputs": [
    {
     "data": {
      "text/html": [
       "<div>\n",
       "<style scoped>\n",
       "    .dataframe tbody tr th:only-of-type {\n",
       "        vertical-align: middle;\n",
       "    }\n",
       "\n",
       "    .dataframe tbody tr th {\n",
       "        vertical-align: top;\n",
       "    }\n",
       "\n",
       "    .dataframe thead th {\n",
       "        text-align: right;\n",
       "    }\n",
       "</style>\n",
       "<table border=\"1\" class=\"dataframe\">\n",
       "  <thead>\n",
       "    <tr style=\"text-align: right;\">\n",
       "      <th></th>\n",
       "      <th>Country of Origin</th>\n",
       "      <th>Altitude</th>\n",
       "      <th>Harvest Year</th>\n",
       "      <th>Owner</th>\n",
       "      <th>Variety</th>\n",
       "      <th>Status</th>\n",
       "      <th>Processing Method</th>\n",
       "      <th>Aroma</th>\n",
       "      <th>Flavor</th>\n",
       "      <th>Aftertaste</th>\n",
       "      <th>...</th>\n",
       "      <th>Clean Cup</th>\n",
       "      <th>Sweetness</th>\n",
       "      <th>Overall</th>\n",
       "      <th>Total Cup Points</th>\n",
       "      <th>Moisture Percentage</th>\n",
       "      <th>Category One Defects</th>\n",
       "      <th>Quakers</th>\n",
       "      <th>Color</th>\n",
       "      <th>Category Two Defects</th>\n",
       "      <th>Expiration</th>\n",
       "    </tr>\n",
       "  </thead>\n",
       "  <tbody>\n",
       "    <tr>\n",
       "      <th>0</th>\n",
       "      <td>Colombia</td>\n",
       "      <td>1700-1930</td>\n",
       "      <td>2021 / 2022</td>\n",
       "      <td>Coffee Quality Union</td>\n",
       "      <td>Castillo</td>\n",
       "      <td>Completed</td>\n",
       "      <td>Washed / Wet</td>\n",
       "      <td>8.58</td>\n",
       "      <td>8.50</td>\n",
       "      <td>8.42</td>\n",
       "      <td>...</td>\n",
       "      <td>10.0</td>\n",
       "      <td>10.0</td>\n",
       "      <td>8.58</td>\n",
       "      <td>89.33</td>\n",
       "      <td>11.8</td>\n",
       "      <td>0</td>\n",
       "      <td>0</td>\n",
       "      <td>green</td>\n",
       "      <td>3</td>\n",
       "      <td>September 21st, 2023</td>\n",
       "    </tr>\n",
       "    <tr>\n",
       "      <th>1</th>\n",
       "      <td>Taiwan</td>\n",
       "      <td>1200</td>\n",
       "      <td>2021 / 2022</td>\n",
       "      <td>Taiwan Coffee Laboratory 台灣咖啡研究室</td>\n",
       "      <td>Gesha</td>\n",
       "      <td>Completed</td>\n",
       "      <td>Washed / Wet</td>\n",
       "      <td>8.50</td>\n",
       "      <td>8.50</td>\n",
       "      <td>7.92</td>\n",
       "      <td>...</td>\n",
       "      <td>10.0</td>\n",
       "      <td>10.0</td>\n",
       "      <td>8.50</td>\n",
       "      <td>87.58</td>\n",
       "      <td>10.5</td>\n",
       "      <td>0</td>\n",
       "      <td>0</td>\n",
       "      <td>blue-green</td>\n",
       "      <td>0</td>\n",
       "      <td>November 15th, 2023</td>\n",
       "    </tr>\n",
       "    <tr>\n",
       "      <th>2</th>\n",
       "      <td>Laos</td>\n",
       "      <td>1300</td>\n",
       "      <td>2021 / 2022</td>\n",
       "      <td>Taiwan Coffee Laboratory 台灣咖啡研究室</td>\n",
       "      <td>Java</td>\n",
       "      <td>Completed</td>\n",
       "      <td>Washed / Wet</td>\n",
       "      <td>8.33</td>\n",
       "      <td>8.42</td>\n",
       "      <td>8.08</td>\n",
       "      <td>...</td>\n",
       "      <td>10.0</td>\n",
       "      <td>10.0</td>\n",
       "      <td>8.33</td>\n",
       "      <td>87.42</td>\n",
       "      <td>10.4</td>\n",
       "      <td>0</td>\n",
       "      <td>0</td>\n",
       "      <td>yellowish</td>\n",
       "      <td>2</td>\n",
       "      <td>November 15th, 2023</td>\n",
       "    </tr>\n",
       "    <tr>\n",
       "      <th>3</th>\n",
       "      <td>Costa Rica</td>\n",
       "      <td>1900</td>\n",
       "      <td>2022</td>\n",
       "      <td>Coffee Quality Union</td>\n",
       "      <td>Gesha</td>\n",
       "      <td>Completed</td>\n",
       "      <td>Washed / Wet</td>\n",
       "      <td>8.08</td>\n",
       "      <td>8.17</td>\n",
       "      <td>8.17</td>\n",
       "      <td>...</td>\n",
       "      <td>10.0</td>\n",
       "      <td>10.0</td>\n",
       "      <td>8.25</td>\n",
       "      <td>87.17</td>\n",
       "      <td>11.8</td>\n",
       "      <td>0</td>\n",
       "      <td>0</td>\n",
       "      <td>green</td>\n",
       "      <td>0</td>\n",
       "      <td>September 21st, 2023</td>\n",
       "    </tr>\n",
       "    <tr>\n",
       "      <th>4</th>\n",
       "      <td>Colombia</td>\n",
       "      <td>1850-2100</td>\n",
       "      <td>2022</td>\n",
       "      <td>Coffee Quality Union</td>\n",
       "      <td>Red Bourbon</td>\n",
       "      <td>Completed</td>\n",
       "      <td>Pulped natural / honey</td>\n",
       "      <td>8.33</td>\n",
       "      <td>8.33</td>\n",
       "      <td>8.08</td>\n",
       "      <td>...</td>\n",
       "      <td>10.0</td>\n",
       "      <td>10.0</td>\n",
       "      <td>8.25</td>\n",
       "      <td>87.08</td>\n",
       "      <td>11.6</td>\n",
       "      <td>0</td>\n",
       "      <td>2</td>\n",
       "      <td>yellow-green</td>\n",
       "      <td>2</td>\n",
       "      <td>March 5th, 2024</td>\n",
       "    </tr>\n",
       "  </tbody>\n",
       "</table>\n",
       "<p>5 rows × 24 columns</p>\n",
       "</div>"
      ],
      "text/plain": [
       "  Country of Origin   Altitude Harvest Year                             Owner  \\\n",
       "0          Colombia  1700-1930  2021 / 2022              Coffee Quality Union   \n",
       "1            Taiwan       1200  2021 / 2022  Taiwan Coffee Laboratory 台灣咖啡研究室   \n",
       "2              Laos       1300  2021 / 2022  Taiwan Coffee Laboratory 台灣咖啡研究室   \n",
       "3        Costa Rica       1900         2022              Coffee Quality Union   \n",
       "4          Colombia  1850-2100         2022              Coffee Quality Union   \n",
       "\n",
       "       Variety     Status       Processing Method  Aroma  Flavor  Aftertaste  \\\n",
       "0     Castillo  Completed            Washed / Wet   8.58    8.50        8.42   \n",
       "1        Gesha  Completed            Washed / Wet   8.50    8.50        7.92   \n",
       "2         Java  Completed            Washed / Wet   8.33    8.42        8.08   \n",
       "3        Gesha  Completed            Washed / Wet   8.08    8.17        8.17   \n",
       "4  Red Bourbon  Completed  Pulped natural / honey   8.33    8.33        8.08   \n",
       "\n",
       "   ...  Clean Cup  Sweetness  Overall  Total Cup Points  Moisture Percentage  \\\n",
       "0  ...       10.0       10.0     8.58             89.33                 11.8   \n",
       "1  ...       10.0       10.0     8.50             87.58                 10.5   \n",
       "2  ...       10.0       10.0     8.33             87.42                 10.4   \n",
       "3  ...       10.0       10.0     8.25             87.17                 11.8   \n",
       "4  ...       10.0       10.0     8.25             87.08                 11.6   \n",
       "\n",
       "   Category One Defects  Quakers         Color  Category Two Defects  \\\n",
       "0                     0        0         green                     3   \n",
       "1                     0        0    blue-green                     0   \n",
       "2                     0        0     yellowish                     2   \n",
       "3                     0        0         green                     0   \n",
       "4                     0        2  yellow-green                     2   \n",
       "\n",
       "             Expiration  \n",
       "0  September 21st, 2023  \n",
       "1   November 15th, 2023  \n",
       "2   November 15th, 2023  \n",
       "3  September 21st, 2023  \n",
       "4       March 5th, 2024  \n",
       "\n",
       "[5 rows x 24 columns]"
      ]
     },
     "execution_count": 229,
     "metadata": {},
     "output_type": "execute_result"
    }
   ],
   "source": [
    "coffee.head()"
   ]
  },
  {
   "cell_type": "markdown",
   "id": "76086c27",
   "metadata": {},
   "source": [
    "In addition, the Altitude column needs to be cleaned - calculate the average of altitudes when there is more than 1 altitude for row"
   ]
  },
  {
   "cell_type": "markdown",
   "id": "bd1303a5",
   "metadata": {},
   "source": [
    "### Cleaning the Altitude column"
   ]
  },
  {
   "cell_type": "code",
   "execution_count": 230,
   "id": "4292d351",
   "metadata": {},
   "outputs": [
    {
     "name": "stdout",
     "output_type": "stream",
     "text": [
      "[1815.0 '1200' '1300' '1900' 1975.0 '1668' '1250' 1550.0 2000.0 '2000'\n",
      " 1950.0 '1850' '1100' 1585.0 '850' 1600.0 '1350' '1060' '600' 200.0 '668'\n",
      " '1950' 2250.0 '1700' '650' 1750.0 400.0 '1000' '800' '1905' '150' '1600'\n",
      " '4700' 375.0 '230' '1750' '1654' '1400' '4895' 250.0 '700' '1450' '520'\n",
      " '1368' '1943' '400' 1350.0 '2361' '1500' '2100' 1300.0 '1800' 1675.0\n",
      " '1411' 5272.5 500.0 'nan' 300.0 '1470' 325.0 275.0 1390.0 1650.0 1302.5\n",
      " '300' '750' 1400.0 '950' 1150.0 '1390' '340' 1250.0 '1650' '1280' '900'\n",
      " '165' '465' '640' '1340' '139' 1275.0 '1040' '140' 1725.0 '460' '500'\n",
      " 1000.0 1450.0 '5400' 950.0 '1574' '435' 700.0 975.0]\n"
     ]
    }
   ],
   "source": [
    "#calculate the altitude mean for those values that include 2 altitudes\n",
    "coffee[\"Altitude\"] = coffee[\"Altitude\"].astype(str)\n",
    "\n",
    "for i, value in enumerate(coffee[\"Altitude\"]):\n",
    "    value = value.replace(\"A\", \"\")\n",
    "    value = str(value)\n",
    "    if \"-\" in value:\n",
    "        first_digit, second_digit = value.split(\"-\")\n",
    "        first_digit = int(first_digit)\n",
    "        second_digit = int(second_digit)\n",
    "        mean = (first_digit + second_digit) / 2\n",
    "        coffee.loc[i, \"Altitude\"] = mean\n",
    "    elif \"~\" in value:\n",
    "        first_digit, second_digit = value.split(\"~\")\n",
    "        first_digit = int(first_digit)\n",
    "        second_digit = int(second_digit)\n",
    "        mean = (first_digit + second_digit) / 2\n",
    "        coffee.loc[i, \"Altitude\"] = mean\n",
    "    elif \"4895  5650\" == value:\n",
    "        first_digit, second_digit = value.split(\"  \")\n",
    "        first_digit = int(first_digit)\n",
    "        second_digit = int(second_digit)\n",
    "        mean = (first_digit + second_digit) / 2\n",
    "        coffee.loc[i, \"Altitude\"] = mean\n",
    "        \n",
    "#coffee = coffee[coffee[\"Altitude\"] != \"nan\"]\n",
    "# Print the updated \"Altitude\" column\n",
    "print(coffee[\"Altitude\"].unique())    "
   ]
  },
  {
   "cell_type": "markdown",
   "id": "708fc3ef",
   "metadata": {},
   "source": [
    "###  Converting the Harvest Year and Expiration columns to datetime"
   ]
  },
  {
   "cell_type": "code",
   "execution_count": 231,
   "id": "d72578bd",
   "metadata": {},
   "outputs": [
    {
     "data": {
      "text/plain": [
       "0     2021-01-01\n",
       "1     2021-01-01\n",
       "2     2021-01-01\n",
       "3     2022-01-01\n",
       "4     2022-01-01\n",
       "         ...    \n",
       "202   2022-01-01\n",
       "203   2022-01-01\n",
       "204   2021-01-01\n",
       "205   2023-01-01\n",
       "206   2021-01-01\n",
       "Name: Harvest Year, Length: 207, dtype: datetime64[ns]"
      ]
     },
     "execution_count": 231,
     "metadata": {},
     "output_type": "execute_result"
    }
   ],
   "source": [
    "coffee[\"Harvest Year\"] = coffee[\"Harvest Year\"].astype(str).str.split(\"/\").str[0]\n",
    "coffee[\"Harvest Year\"] = pd.to_datetime(coffee[\"Harvest Year\"])\n",
    "coffee[\"Harvest Year\"]"
   ]
  },
  {
   "cell_type": "code",
   "execution_count": 232,
   "id": "83f3d73e",
   "metadata": {},
   "outputs": [
    {
     "data": {
      "text/plain": [
       "0     2023-09-21\n",
       "1     2023-11-15\n",
       "2     2023-11-15\n",
       "3     2023-09-21\n",
       "4     2024-03-05\n",
       "         ...    \n",
       "202   2024-02-02\n",
       "203   2024-03-02\n",
       "204   2023-11-11\n",
       "205   2024-03-07\n",
       "206   2023-11-18\n",
       "Name: Expiration, Length: 207, dtype: datetime64[ns]"
      ]
     },
     "execution_count": 232,
     "metadata": {},
     "output_type": "execute_result"
    }
   ],
   "source": [
    "coffee[\"Expiration\"] = pd.to_datetime(coffee[\"Expiration\"])\n",
    "coffee[\"Expiration\"]"
   ]
  },
  {
   "cell_type": "markdown",
   "id": "7ff46996",
   "metadata": {},
   "source": [
    "## Explanatory Data Analysis (EDA)"
   ]
  },
  {
   "cell_type": "code",
   "execution_count": 233,
   "id": "1dea39ba",
   "metadata": {},
   "outputs": [
    {
     "data": {
      "text/plain": [
       "array([1815.0, '1200', '1300', '1900', 1975.0, '1668', '1250', 1550.0,\n",
       "       2000.0, '2000', 1950.0, '1850', '1100', 1585.0, '850', 1600.0,\n",
       "       '1350', '1060', '600', 200.0, '668', '1950', 2250.0, '1700', '650',\n",
       "       1750.0, 400.0, '1000', '800', '1905', '150', '1600', '4700', 375.0,\n",
       "       '230', '1750', '1654', '1400', '4895', 250.0, '700', '1450', '520',\n",
       "       '1368', '1943', '400', 1350.0, '2361', '1500', '2100', 1300.0,\n",
       "       '1800', 1675.0, '1411', 5272.5, 500.0, 'nan', 300.0, '1470', 325.0,\n",
       "       275.0, 1390.0, 1650.0, 1302.5, '300', '750', 1400.0, '950', 1150.0,\n",
       "       '1390', '340', 1250.0, '1650', '1280', '900', '165', '465', '640',\n",
       "       '1340', '139', 1275.0, '1040', '140', 1725.0, '460', '500', 1000.0,\n",
       "       1450.0, '5400', 950.0, '1574', '435', 700.0, 975.0], dtype=object)"
      ]
     },
     "execution_count": 233,
     "metadata": {},
     "output_type": "execute_result"
    }
   ],
   "source": [
    "coffee[\"Altitude\"].unique()"
   ]
  },
  {
   "cell_type": "code",
   "execution_count": 234,
   "id": "3cf9dcbe",
   "metadata": {
    "scrolled": true
   },
   "outputs": [
    {
     "data": {
      "text/plain": [
       "Index(['Country of Origin', 'Altitude', 'Harvest Year', 'Owner', 'Variety',\n",
       "       'Status', 'Processing Method', 'Aroma', 'Flavor', 'Aftertaste',\n",
       "       'Acidity', 'Body', 'Balance', 'Uniformity', 'Clean Cup', 'Sweetness',\n",
       "       'Overall', 'Total Cup Points', 'Moisture Percentage',\n",
       "       'Category One Defects', 'Quakers', 'Color', 'Category Two Defects',\n",
       "       'Expiration'],\n",
       "      dtype='object')"
      ]
     },
     "execution_count": 234,
     "metadata": {},
     "output_type": "execute_result"
    }
   ],
   "source": [
    "coffee.columns"
   ]
  },
  {
   "cell_type": "code",
   "execution_count": 235,
   "id": "827276b2",
   "metadata": {},
   "outputs": [],
   "source": [
    "#let's select a list of numeric variables and look at their distribution\n",
    "numeric_variables = ['Aroma', 'Flavor', 'Aftertaste','Acidity', 'Body', 'Balance', \n",
    "       'Overall', 'Total Cup Points', 'Moisture Percentage',]"
   ]
  },
  {
   "cell_type": "code",
   "execution_count": 236,
   "id": "48f10ead",
   "metadata": {},
   "outputs": [
    {
     "data": {
      "application/vnd.plotly.v1+json": {
       "config": {
        "plotlyServerURL": "https://plot.ly"
       },
       "data": [
        {
         "name": "Aroma",
         "nbinsx": 50,
         "type": "histogram",
         "x": [
          8.58,
          8.5,
          8.33,
          8.08,
          8.33,
          8.33,
          8.33,
          8.25,
          8.08,
          8.08,
          8.08,
          8.08,
          8.08,
          7.67,
          8.08,
          8.17,
          8.17,
          8,
          8.08,
          8.17,
          8,
          8.08,
          7.67,
          8.08,
          7.83,
          7.83,
          7.92,
          8.17,
          8,
          8,
          8,
          7.92,
          8.08,
          7.67,
          8,
          7.92,
          8,
          8.25,
          8.17,
          7.75,
          8,
          8,
          8,
          8,
          7.92,
          8.17,
          7.67,
          7.67,
          7.83,
          7.92,
          8,
          7.83,
          8,
          7.92,
          7.83,
          7.67,
          7.83,
          7.83,
          7.92,
          7.67,
          7.83,
          7.58,
          7.83,
          8.17,
          7.92,
          8.08,
          7.83,
          8,
          7.75,
          7.75,
          7.83,
          7.92,
          8.08,
          7.83,
          7.67,
          7.92,
          7.83,
          7.83,
          7.75,
          7.67,
          7.58,
          7.92,
          7.75,
          7.58,
          7.83,
          7.92,
          7.67,
          7.67,
          7.75,
          7.58,
          8,
          7.75,
          7.67,
          7.67,
          7.83,
          7.58,
          7.75,
          7.67,
          7.58,
          7.58,
          7.83,
          7.92,
          7.67,
          7.67,
          7.67,
          7.83,
          7.67,
          7.83,
          7.58,
          7.67,
          7.58,
          7.58,
          7.58,
          7.75,
          7.75,
          7.42,
          7.42,
          7.67,
          7.75,
          7.75,
          7.75,
          7.58,
          7.5,
          7.58,
          7.67,
          7.58,
          7.75,
          7.92,
          7.92,
          7.58,
          7.75,
          7.67,
          7.67,
          7.75,
          7.75,
          7.67,
          7.67,
          7.67,
          7.75,
          8,
          7.5,
          7.75,
          7.58,
          7.67,
          7.67,
          7.17,
          7.58,
          7.33,
          7.33,
          7.58,
          7.33,
          7.5,
          7.67,
          7.67,
          7.67,
          7.5,
          7.67,
          7.75,
          7.5,
          7.33,
          7.67,
          7.58,
          7.42,
          7.58,
          7.5,
          7.5,
          7.33,
          7.67,
          7.67,
          7.75,
          7.5,
          7.67,
          7.5,
          7.33,
          7.5,
          7.17,
          7.42,
          7.42,
          7.67,
          7.5,
          7.33,
          7.25,
          7.5,
          7.5,
          7.42,
          7.33,
          7.58,
          7.33,
          7.42,
          7.33,
          7.33,
          7.42,
          7.25,
          7.42,
          7.42,
          7.42,
          7.25,
          7.42,
          7.25,
          7.5,
          7.08,
          7.25,
          7.17,
          7.33,
          7.25,
          6.5,
          7.25
         ],
         "xaxis": "x",
         "yaxis": "y"
        },
        {
         "name": "Flavor",
         "nbinsx": 50,
         "type": "histogram",
         "x": [
          8.5,
          8.5,
          8.42,
          8.17,
          8.33,
          8.33,
          8.17,
          8.25,
          8.08,
          8.17,
          8.25,
          8,
          8,
          8.17,
          8,
          8.08,
          8.08,
          8.17,
          8.17,
          8,
          7.92,
          8,
          8,
          8,
          8,
          8.08,
          7.92,
          8.08,
          8,
          7.92,
          8,
          8,
          8.17,
          7.83,
          8.08,
          7.75,
          7.92,
          8.08,
          7.75,
          7.92,
          7.92,
          8.08,
          7.92,
          7.92,
          8,
          8.08,
          8.08,
          8,
          7.92,
          7.92,
          8,
          7.92,
          8,
          7.75,
          7.83,
          7.92,
          7.92,
          7.83,
          8.08,
          8,
          8,
          7.83,
          7.83,
          7.83,
          7.75,
          7.83,
          8,
          7.83,
          7.83,
          7.92,
          7.92,
          7.83,
          7.92,
          8,
          7.83,
          7.83,
          7.75,
          7.83,
          7.75,
          7.67,
          7.92,
          7.92,
          7.75,
          7.92,
          7.92,
          7.75,
          7.83,
          7.92,
          7.75,
          7.67,
          7.75,
          7.58,
          7.83,
          7.92,
          7.83,
          7.83,
          7.67,
          7.75,
          7.83,
          7.92,
          7.67,
          7.75,
          7.92,
          7.92,
          7.67,
          7.75,
          7.67,
          7.83,
          7.75,
          7.67,
          7.67,
          7.75,
          7.83,
          7.67,
          7.75,
          7.83,
          7.42,
          7.67,
          7.75,
          7.92,
          7.67,
          7.67,
          7.75,
          7.67,
          7.67,
          7.75,
          7.83,
          7.92,
          7.67,
          7.5,
          7.75,
          7.67,
          7.75,
          7.58,
          7.75,
          7.67,
          7.75,
          7.67,
          7.58,
          7.67,
          7.67,
          7.5,
          7.5,
          7.5,
          7.58,
          7.92,
          7.42,
          7.58,
          7.5,
          7.67,
          7.58,
          7.58,
          7.58,
          7.67,
          7.58,
          7.58,
          7.33,
          7.67,
          7.58,
          7.58,
          7.42,
          7.58,
          7.42,
          7.58,
          7.5,
          7.5,
          7.67,
          7.58,
          7.5,
          7.42,
          7.5,
          7.5,
          7.67,
          7.42,
          7.58,
          7.5,
          7.42,
          7.42,
          7.33,
          7.5,
          7.42,
          7.42,
          7.5,
          7.5,
          7.5,
          7.5,
          7.42,
          7.42,
          7.5,
          7.5,
          7.42,
          7.25,
          7.25,
          7.25,
          7.42,
          7.33,
          7.25,
          7.17,
          7.25,
          7.25,
          7.25,
          7.17,
          7.17,
          7.08,
          7.17,
          6.75,
          7.08
         ],
         "xaxis": "x2",
         "yaxis": "y2"
        },
        {
         "name": "Aftertaste",
         "nbinsx": 50,
         "type": "histogram",
         "x": [
          8.42,
          7.92,
          8.08,
          8.17,
          8.08,
          8.25,
          8.08,
          8.17,
          8.25,
          8.08,
          8,
          8,
          8.08,
          8,
          8.08,
          8,
          7.92,
          8,
          7.75,
          7.92,
          8.08,
          7.92,
          7.83,
          7.83,
          7.92,
          7.83,
          8,
          7.92,
          8,
          8,
          7.83,
          7.83,
          7.67,
          7.83,
          8,
          7.83,
          7.83,
          7.83,
          7.83,
          7.75,
          7.83,
          7.67,
          7.67,
          7.75,
          7.92,
          7.83,
          7.67,
          7.75,
          7.75,
          7.83,
          7.75,
          7.75,
          7.83,
          7.75,
          7.67,
          7.92,
          7.75,
          7.75,
          7.67,
          7.67,
          7.67,
          7.5,
          7.75,
          7.67,
          7.67,
          7.67,
          7.67,
          7.75,
          7.67,
          7.83,
          7.75,
          7.75,
          7.75,
          7.5,
          7.75,
          7.75,
          7.58,
          7.83,
          7.75,
          7.83,
          7.67,
          7.58,
          7.58,
          7.58,
          7.83,
          7.67,
          7.67,
          7.67,
          7.75,
          7.75,
          7.5,
          7.58,
          7.58,
          7.58,
          7.58,
          7.58,
          7.58,
          7.67,
          7.67,
          7.5,
          7.5,
          7.42,
          7.58,
          7.67,
          7.58,
          7.5,
          7.75,
          7.67,
          7.67,
          7.58,
          7.5,
          7.58,
          7.58,
          7.58,
          7.5,
          7.58,
          7.42,
          7.5,
          7.5,
          7.67,
          7.58,
          7.5,
          7.58,
          7.58,
          7.42,
          7.42,
          7.58,
          7.75,
          7.42,
          7.5,
          7.58,
          7.58,
          7.67,
          7.58,
          7.5,
          7.5,
          7.33,
          7.5,
          7.58,
          7.42,
          7.58,
          7.42,
          7.5,
          7.42,
          7.5,
          7.58,
          7.58,
          7.25,
          7.25,
          7.58,
          7.58,
          7.5,
          7.33,
          7.42,
          7.42,
          7.42,
          7.17,
          7.17,
          7.5,
          7.5,
          7.5,
          7.33,
          7.58,
          7.42,
          7.33,
          7.42,
          7.25,
          7.42,
          7.33,
          7.33,
          7.42,
          7.25,
          7.33,
          7.42,
          7.42,
          7.42,
          7.42,
          7.42,
          7.25,
          7.33,
          7.33,
          7.42,
          7.25,
          7.42,
          7.58,
          7.33,
          7.25,
          7.25,
          7.33,
          7.42,
          7.25,
          7.33,
          7.42,
          7.25,
          7.25,
          7.33,
          7.17,
          7,
          7.17,
          7.17,
          7.08,
          7.17,
          6.92,
          6.75,
          7.08,
          6.75,
          6.67
         ],
         "xaxis": "x3",
         "yaxis": "y3"
        },
        {
         "name": "Acidity",
         "nbinsx": 50,
         "type": "histogram",
         "x": [
          8.58,
          8,
          8.17,
          8.25,
          8.25,
          7.83,
          8,
          8,
          8.08,
          8.17,
          8.08,
          7.75,
          8.08,
          8.33,
          7.92,
          7.92,
          8.17,
          7.92,
          7.92,
          7.92,
          7.92,
          7.92,
          8,
          8.17,
          8,
          7.92,
          7.92,
          8,
          7.92,
          7.83,
          7.83,
          7.92,
          7.83,
          8,
          8,
          8.17,
          7.92,
          7.75,
          7.58,
          8,
          7.92,
          7.75,
          8,
          7.75,
          8,
          7.67,
          8,
          7.92,
          8,
          7.83,
          7.75,
          7.83,
          7.83,
          7.92,
          7.67,
          7.83,
          7.92,
          7.92,
          7.92,
          7.83,
          7.83,
          7.67,
          7.75,
          7.83,
          7.67,
          7.67,
          7.75,
          7.67,
          7.83,
          7.75,
          7.75,
          7.92,
          7.83,
          7.75,
          7.75,
          7.92,
          7.92,
          7.83,
          7.75,
          7.83,
          7.75,
          7.75,
          7.83,
          7.83,
          7.58,
          7.75,
          7.83,
          7.75,
          7.67,
          7.75,
          7.67,
          7.92,
          7.92,
          7.75,
          7.67,
          7.75,
          7.75,
          7.75,
          7.67,
          7.67,
          7.92,
          7.58,
          7.58,
          7.58,
          7.67,
          7.58,
          7.75,
          7.58,
          7.83,
          7.75,
          7.75,
          7.75,
          7.67,
          7.58,
          7.58,
          7.67,
          8,
          7.67,
          7.5,
          7.92,
          7.5,
          7.75,
          7.75,
          7.75,
          7.75,
          7.67,
          7.58,
          7.33,
          7.5,
          7.83,
          7.67,
          7.67,
          7.58,
          7.58,
          7.75,
          7.58,
          7.67,
          7.58,
          7.58,
          7.58,
          7.58,
          7.67,
          7.67,
          7.75,
          7.5,
          7.5,
          7.5,
          7.33,
          7.92,
          7.5,
          7.5,
          7.42,
          7.5,
          7.42,
          7.42,
          7.58,
          7.67,
          7.67,
          7.5,
          7.5,
          7.5,
          7.5,
          7.42,
          7.42,
          7.5,
          7.42,
          7.67,
          7.5,
          7.58,
          7.5,
          7.5,
          7.5,
          7.5,
          7.5,
          7.42,
          7.42,
          7.33,
          7.33,
          7.67,
          7.5,
          7.42,
          7.5,
          7.42,
          7.33,
          7.33,
          7.42,
          7.25,
          7.42,
          7.33,
          7.33,
          7.33,
          7.42,
          7.25,
          7.42,
          7.25,
          7.5,
          7.33,
          7.08,
          7.33,
          7.17,
          7.42,
          7.08,
          7.17,
          7.17,
          7,
          7.17,
          6.83
         ],
         "xaxis": "x4",
         "yaxis": "y4"
        },
        {
         "name": "Body",
         "nbinsx": 50,
         "type": "histogram",
         "x": [
          8.25,
          7.92,
          7.92,
          8.17,
          7.92,
          7.83,
          7.83,
          7.92,
          7.92,
          8,
          7.92,
          8.25,
          8,
          8,
          8.08,
          8,
          7.75,
          7.92,
          7.83,
          8.17,
          7.75,
          8,
          8.08,
          7.75,
          8,
          8,
          7.83,
          7.58,
          7.75,
          7.67,
          7.75,
          7.83,
          7.67,
          8,
          7.67,
          8,
          7.83,
          7.67,
          7.92,
          7.83,
          7.75,
          7.92,
          7.75,
          7.75,
          7.58,
          7.67,
          7.92,
          8,
          7.75,
          7.75,
          7.67,
          7.83,
          7.58,
          7.83,
          7.83,
          7.75,
          7.67,
          7.83,
          7.67,
          7.92,
          7.75,
          7.83,
          7.75,
          7.67,
          7.83,
          7.67,
          7.67,
          7.58,
          7.75,
          7.75,
          7.75,
          7.58,
          7.5,
          7.75,
          7.83,
          7.5,
          8,
          7.67,
          7.83,
          7.67,
          7.83,
          7.58,
          7.75,
          7.75,
          7.58,
          7.75,
          7.75,
          7.67,
          7.75,
          7.75,
          7.67,
          7.67,
          7.67,
          7.67,
          7.67,
          7.67,
          7.75,
          7.67,
          7.67,
          7.75,
          7.5,
          7.92,
          7.58,
          7.67,
          7.83,
          7.67,
          7.5,
          7.58,
          7.5,
          7.67,
          7.75,
          7.58,
          7.58,
          7.58,
          7.83,
          7.67,
          7.92,
          7.58,
          7.58,
          7.75,
          7.67,
          7.5,
          7.67,
          7.42,
          7.5,
          7.5,
          7.58,
          7.58,
          7.67,
          7.67,
          7.42,
          7.58,
          7.5,
          7.5,
          7.5,
          7.58,
          7.58,
          7.58,
          7.58,
          7.58,
          7.5,
          7.58,
          7.58,
          7.42,
          7.58,
          7.58,
          7.67,
          7.75,
          7.75,
          7.33,
          7.67,
          7.5,
          7.58,
          7.42,
          7.5,
          7.5,
          7.83,
          7.42,
          7.67,
          7.5,
          7.67,
          7.58,
          7.58,
          7.5,
          7.5,
          7.42,
          7.83,
          7.33,
          7.33,
          7.33,
          7.25,
          7.5,
          7.25,
          7.42,
          7.25,
          7.58,
          7.58,
          7.5,
          7.42,
          7.33,
          7.58,
          7.42,
          7.42,
          7.33,
          7.33,
          7.42,
          7.5,
          7.42,
          7.33,
          7.33,
          7.5,
          7.33,
          7.42,
          7.17,
          7.17,
          7.08,
          7.08,
          7.42,
          7,
          7.17,
          7.42,
          7.17,
          7.42,
          7.42,
          7.08,
          7.08,
          6.83
         ],
         "xaxis": "x5",
         "yaxis": "y5"
        },
        {
         "name": "Balance",
         "nbinsx": 50,
         "type": "histogram",
         "x": [
          8.42,
          8.25,
          8.17,
          8.08,
          7.92,
          8.17,
          8.25,
          8.08,
          8,
          8,
          7.92,
          8.17,
          8,
          8,
          8,
          7.92,
          7.92,
          7.92,
          8,
          7.75,
          8,
          7.83,
          8,
          7.83,
          7.92,
          7.83,
          7.92,
          7.83,
          7.92,
          8,
          7.92,
          7.83,
          7.92,
          8,
          7.75,
          7.75,
          7.83,
          7.75,
          8,
          7.92,
          7.75,
          7.83,
          7.83,
          7.92,
          7.75,
          7.75,
          7.83,
          7.83,
          7.75,
          7.83,
          7.75,
          7.83,
          7.83,
          7.83,
          8,
          7.83,
          7.83,
          7.75,
          7.75,
          7.67,
          7.75,
          7.67,
          7.75,
          7.67,
          7.75,
          7.75,
          7.75,
          7.83,
          7.75,
          7.75,
          7.75,
          7.67,
          7.58,
          7.75,
          7.75,
          7.67,
          7.5,
          7.67,
          7.67,
          7.75,
          7.75,
          7.67,
          7.75,
          7.67,
          7.67,
          8,
          7.67,
          7.58,
          7.67,
          7.75,
          7.67,
          7.75,
          7.67,
          7.58,
          7.58,
          7.75,
          7.67,
          7.67,
          7.67,
          7.67,
          7.67,
          7.67,
          7.75,
          7.67,
          7.58,
          7.67,
          7.67,
          7.58,
          7.67,
          7.67,
          7.67,
          7.67,
          7.58,
          7.67,
          7.5,
          7.75,
          7.67,
          7.67,
          7.58,
          7.83,
          7.5,
          7.58,
          7.58,
          7.58,
          7.75,
          7.75,
          7.5,
          7.5,
          7.58,
          7.5,
          7.5,
          7.58,
          7.58,
          7.58,
          7.42,
          7.5,
          7.5,
          7.5,
          7.5,
          7.42,
          7.5,
          7.5,
          7.5,
          7.58,
          7.5,
          7.67,
          7.75,
          8.17,
          7.58,
          7.5,
          7.67,
          7.58,
          7.5,
          7.5,
          7.5,
          7.58,
          7.5,
          7.42,
          7.42,
          7.58,
          7.42,
          7.42,
          7.5,
          7.5,
          7.42,
          7.67,
          7.42,
          7.42,
          7.42,
          7.5,
          7.5,
          7.33,
          7.33,
          7.5,
          7.42,
          7.5,
          7.33,
          7.42,
          7.25,
          7.33,
          7.42,
          7.42,
          7.42,
          7.33,
          7.25,
          7.42,
          7.33,
          7.33,
          7.33,
          7.25,
          7.42,
          7.33,
          7.42,
          7.33,
          7.25,
          7,
          7.25,
          7.17,
          7.17,
          7.08,
          7.08,
          7.17,
          7.17,
          7.17,
          7.08,
          7,
          6.67
         ],
         "xaxis": "x6",
         "yaxis": "y6"
        },
        {
         "name": "Overall",
         "nbinsx": 50,
         "type": "histogram",
         "x": [
          8.58,
          8.5,
          8.33,
          8.25,
          8.25,
          8.25,
          8.25,
          8.08,
          8.25,
          8,
          8,
          8,
          8,
          8,
          8,
          8,
          8.08,
          8.17,
          8.17,
          7.92,
          8.08,
          7.92,
          8.08,
          8,
          7.92,
          8,
          8,
          7.92,
          7.92,
          8,
          8.08,
          8,
          8,
          8,
          7.83,
          7.83,
          7.92,
          7.92,
          8,
          8,
          7.92,
          7.83,
          7.92,
          7.92,
          7.83,
          7.83,
          7.83,
          7.83,
          7.92,
          7.83,
          7.92,
          7.83,
          7.75,
          7.83,
          8,
          7.83,
          7.83,
          7.83,
          7.75,
          7.92,
          7.83,
          8.58,
          7.92,
          7.75,
          8,
          7.92,
          7.92,
          7.92,
          7.92,
          7.75,
          7.75,
          7.83,
          7.83,
          7.83,
          7.75,
          7.75,
          7.75,
          7.67,
          7.83,
          7.83,
          7.75,
          7.83,
          7.75,
          7.75,
          7.67,
          7.92,
          7.67,
          7.75,
          7.67,
          7.75,
          7.75,
          7.75,
          7.67,
          7.75,
          7.75,
          7.75,
          7.75,
          7.67,
          7.75,
          7.75,
          7.75,
          7.58,
          7.75,
          7.58,
          7.75,
          7.67,
          7.67,
          7.58,
          7.67,
          7.67,
          7.67,
          7.67,
          7.75,
          7.67,
          7.58,
          7.58,
          7.67,
          7.67,
          7.75,
          7.92,
          7.67,
          7.75,
          7.5,
          7.75,
          7.58,
          7.67,
          7.5,
          7.33,
          7.5,
          7.67,
          7.58,
          7.5,
          7.5,
          7.67,
          7.5,
          7.67,
          7.58,
          7.58,
          7.5,
          7.33,
          7.58,
          7.5,
          7.58,
          7.58,
          7.5,
          7.42,
          7.33,
          7.33,
          7.42,
          7.5,
          7.33,
          7.58,
          7.5,
          7.5,
          7.5,
          7.42,
          7.33,
          7.42,
          7.33,
          7.5,
          7.33,
          7.5,
          7.58,
          7.42,
          7.58,
          7.42,
          7.17,
          7.42,
          7.42,
          7.33,
          7.5,
          7.42,
          7.5,
          7.5,
          7.42,
          7.42,
          7.5,
          7.5,
          7.42,
          7.42,
          7.42,
          7.42,
          7.33,
          7.42,
          7.33,
          7.33,
          7.33,
          7.42,
          7.33,
          7.33,
          7.17,
          7.25,
          7.17,
          7.33,
          7.25,
          7.17,
          7.17,
          7.17,
          7.25,
          7,
          7,
          7.17,
          7.08,
          7.08,
          7,
          6.83,
          6.67
         ],
         "xaxis": "x7",
         "yaxis": "y7"
        },
        {
         "name": "Total Cup Points",
         "nbinsx": 50,
         "type": "histogram",
         "x": [
          89.33,
          87.58,
          87.42,
          87.17,
          87.08,
          87,
          86.92,
          86.75,
          86.67,
          86.5,
          86.25,
          86.25,
          86.25,
          86.17,
          86.17,
          86.08,
          86.08,
          86.08,
          85.92,
          85.83,
          85.75,
          85.67,
          85.67,
          85.67,
          85.58,
          85.5,
          85.5,
          85.5,
          85.5,
          85.42,
          85.42,
          85.33,
          85.33,
          85.33,
          85.33,
          85.25,
          85.25,
          85.25,
          85.25,
          85.17,
          85.08,
          85.08,
          85.08,
          85,
          85,
          85,
          85,
          85,
          84.92,
          84.92,
          84.83,
          84.83,
          84.83,
          84.83,
          84.83,
          84.75,
          84.75,
          84.75,
          84.75,
          84.67,
          84.67,
          84.67,
          84.58,
          84.58,
          84.58,
          84.58,
          84.58,
          84.58,
          84.5,
          84.5,
          84.5,
          84.5,
          84.5,
          84.42,
          84.33,
          84.33,
          84.33,
          84.33,
          84.33,
          84.25,
          84.25,
          84.25,
          84.17,
          84.08,
          84.08,
          84.08,
          84.08,
          84,
          84,
          84,
          84,
          84,
          84,
          83.92,
          83.92,
          83.92,
          83.92,
          83.83,
          83.83,
          83.83,
          83.83,
          83.83,
          83.83,
          83.75,
          83.75,
          83.67,
          83.67,
          83.67,
          83.67,
          83.67,
          83.58,
          83.58,
          83.58,
          83.5,
          83.5,
          83.5,
          83.5,
          83.42,
          83.42,
          83.42,
          83.33,
          83.33,
          83.33,
          83.33,
          83.33,
          83.33,
          83.33,
          83.33,
          83.25,
          83.25,
          83.25,
          83.25,
          83.25,
          83.25,
          83.17,
          83.17,
          83.08,
          83.08,
          83.08,
          83,
          82.92,
          82.92,
          82.92,
          82.92,
          82.83,
          82.83,
          82.83,
          82.75,
          82.75,
          82.67,
          82.67,
          82.67,
          82.67,
          82.58,
          82.58,
          82.58,
          82.5,
          82.5,
          82.5,
          82.5,
          82.5,
          82.5,
          82.5,
          82.42,
          82.33,
          82.33,
          82.33,
          82.33,
          82.25,
          82.17,
          82.17,
          82.17,
          82.08,
          82.08,
          82,
          82,
          82,
          82,
          82,
          81.92,
          81.92,
          81.83,
          81.83,
          81.83,
          81.75,
          81.75,
          81.67,
          81.58,
          81.58,
          81.5,
          81.42,
          81.33,
          81.17,
          81.17,
          81,
          80.83,
          80.5,
          80.42,
          80.42,
          80.33,
          80.33,
          80.17,
          80.08,
          80,
          79.67,
          78.08,
          78
         ],
         "xaxis": "x8",
         "yaxis": "y8"
        },
        {
         "name": "Moisture Percentage",
         "nbinsx": 50,
         "type": "histogram",
         "x": [
          11.8,
          10.5,
          10.4,
          11.8,
          11.6,
          10.7,
          9.1,
          10,
          10.8,
          11,
          11.8,
          11.5,
          11.9,
          11.6,
          10.6,
          10.2,
          11.3,
          10.3,
          11,
          10,
          11.6,
          10.4,
          9.8,
          11.3,
          10.6,
          11.3,
          9.1,
          10.6,
          10.2,
          9.3,
          11.4,
          10.8,
          11.3,
          9.9,
          12.3,
          9.4,
          9.5,
          11.3,
          9.2,
          10.3,
          10,
          10.5,
          10,
          11,
          10.9,
          10.1,
          9.9,
          11.3,
          11.7,
          9.5,
          9.7,
          11.9,
          10.7,
          11.2,
          9.5,
          10.4,
          11.2,
          10.3,
          10,
          10.6,
          10.9,
          10,
          9.6,
          11.5,
          9.9,
          11.2,
          10.3,
          11.6,
          11.7,
          11.3,
          9.8,
          10.9,
          10.2,
          10.1,
          9.2,
          10.1,
          11,
          10.3,
          11.6,
          11.5,
          10,
          12.1,
          10.2,
          11,
          10.8,
          10.6,
          11,
          11,
          9.4,
          9.8,
          11.3,
          11.6,
          13.3,
          9.5,
          11.9,
          10,
          11.6,
          11.9,
          10.8,
          10.9,
          12,
          12.1,
          11.8,
          10.6,
          11.7,
          12.4,
          10,
          10.2,
          9.2,
          11.1,
          8.4,
          9.1,
          10.9,
          11.2,
          12.2,
          13.1,
          10.4,
          11.6,
          10.1,
          10.1,
          11.1,
          9.7,
          11.4,
          9.6,
          13.5,
          0,
          10.7,
          12.3,
          10.4,
          11.6,
          9.6,
          10.9,
          10.5,
          11.3,
          9.7,
          11.8,
          11.8,
          10.6,
          9.6,
          13.1,
          8.9,
          11.9,
          11.5,
          10.2,
          10,
          11.8,
          13.3,
          10.5,
          11.8,
          11.8,
          13,
          11.2,
          9.6,
          9.8,
          8.4,
          10.1,
          11.3,
          10,
          11.8,
          11.7,
          10.7,
          10.6,
          8.4,
          11.4,
          10.5,
          12,
          11.8,
          10.8,
          11.7,
          10.6,
          11.2,
          10.6,
          9.7,
          8.1,
          8.2,
          9.8,
          10.5,
          11.5,
          12.5,
          11.6,
          10.3,
          11.3,
          11.2,
          11.3,
          11.1,
          11.2,
          11.8,
          9.7,
          9,
          8.5,
          11.6,
          10.5,
          10.4,
          11.4,
          10.6,
          10.5,
          11.5,
          11.2,
          11,
          11.8,
          11.5,
          11.6,
          11.4,
          10.4,
          11.6,
          11,
          11.3
         ],
         "xaxis": "x9",
         "yaxis": "y9"
        }
       ],
       "layout": {
        "height": 1575,
        "template": {
         "data": {
          "bar": [
           {
            "error_x": {
             "color": "#2a3f5f"
            },
            "error_y": {
             "color": "#2a3f5f"
            },
            "marker": {
             "line": {
              "color": "#E5ECF6",
              "width": 0.5
             },
             "pattern": {
              "fillmode": "overlay",
              "size": 10,
              "solidity": 0.2
             }
            },
            "type": "bar"
           }
          ],
          "barpolar": [
           {
            "marker": {
             "line": {
              "color": "#E5ECF6",
              "width": 0.5
             },
             "pattern": {
              "fillmode": "overlay",
              "size": 10,
              "solidity": 0.2
             }
            },
            "type": "barpolar"
           }
          ],
          "carpet": [
           {
            "aaxis": {
             "endlinecolor": "#2a3f5f",
             "gridcolor": "white",
             "linecolor": "white",
             "minorgridcolor": "white",
             "startlinecolor": "#2a3f5f"
            },
            "baxis": {
             "endlinecolor": "#2a3f5f",
             "gridcolor": "white",
             "linecolor": "white",
             "minorgridcolor": "white",
             "startlinecolor": "#2a3f5f"
            },
            "type": "carpet"
           }
          ],
          "choropleth": [
           {
            "colorbar": {
             "outlinewidth": 0,
             "ticks": ""
            },
            "type": "choropleth"
           }
          ],
          "contour": [
           {
            "colorbar": {
             "outlinewidth": 0,
             "ticks": ""
            },
            "colorscale": [
             [
              0,
              "#0d0887"
             ],
             [
              0.1111111111111111,
              "#46039f"
             ],
             [
              0.2222222222222222,
              "#7201a8"
             ],
             [
              0.3333333333333333,
              "#9c179e"
             ],
             [
              0.4444444444444444,
              "#bd3786"
             ],
             [
              0.5555555555555556,
              "#d8576b"
             ],
             [
              0.6666666666666666,
              "#ed7953"
             ],
             [
              0.7777777777777778,
              "#fb9f3a"
             ],
             [
              0.8888888888888888,
              "#fdca26"
             ],
             [
              1,
              "#f0f921"
             ]
            ],
            "type": "contour"
           }
          ],
          "contourcarpet": [
           {
            "colorbar": {
             "outlinewidth": 0,
             "ticks": ""
            },
            "type": "contourcarpet"
           }
          ],
          "heatmap": [
           {
            "colorbar": {
             "outlinewidth": 0,
             "ticks": ""
            },
            "colorscale": [
             [
              0,
              "#0d0887"
             ],
             [
              0.1111111111111111,
              "#46039f"
             ],
             [
              0.2222222222222222,
              "#7201a8"
             ],
             [
              0.3333333333333333,
              "#9c179e"
             ],
             [
              0.4444444444444444,
              "#bd3786"
             ],
             [
              0.5555555555555556,
              "#d8576b"
             ],
             [
              0.6666666666666666,
              "#ed7953"
             ],
             [
              0.7777777777777778,
              "#fb9f3a"
             ],
             [
              0.8888888888888888,
              "#fdca26"
             ],
             [
              1,
              "#f0f921"
             ]
            ],
            "type": "heatmap"
           }
          ],
          "heatmapgl": [
           {
            "colorbar": {
             "outlinewidth": 0,
             "ticks": ""
            },
            "colorscale": [
             [
              0,
              "#0d0887"
             ],
             [
              0.1111111111111111,
              "#46039f"
             ],
             [
              0.2222222222222222,
              "#7201a8"
             ],
             [
              0.3333333333333333,
              "#9c179e"
             ],
             [
              0.4444444444444444,
              "#bd3786"
             ],
             [
              0.5555555555555556,
              "#d8576b"
             ],
             [
              0.6666666666666666,
              "#ed7953"
             ],
             [
              0.7777777777777778,
              "#fb9f3a"
             ],
             [
              0.8888888888888888,
              "#fdca26"
             ],
             [
              1,
              "#f0f921"
             ]
            ],
            "type": "heatmapgl"
           }
          ],
          "histogram": [
           {
            "marker": {
             "pattern": {
              "fillmode": "overlay",
              "size": 10,
              "solidity": 0.2
             }
            },
            "type": "histogram"
           }
          ],
          "histogram2d": [
           {
            "colorbar": {
             "outlinewidth": 0,
             "ticks": ""
            },
            "colorscale": [
             [
              0,
              "#0d0887"
             ],
             [
              0.1111111111111111,
              "#46039f"
             ],
             [
              0.2222222222222222,
              "#7201a8"
             ],
             [
              0.3333333333333333,
              "#9c179e"
             ],
             [
              0.4444444444444444,
              "#bd3786"
             ],
             [
              0.5555555555555556,
              "#d8576b"
             ],
             [
              0.6666666666666666,
              "#ed7953"
             ],
             [
              0.7777777777777778,
              "#fb9f3a"
             ],
             [
              0.8888888888888888,
              "#fdca26"
             ],
             [
              1,
              "#f0f921"
             ]
            ],
            "type": "histogram2d"
           }
          ],
          "histogram2dcontour": [
           {
            "colorbar": {
             "outlinewidth": 0,
             "ticks": ""
            },
            "colorscale": [
             [
              0,
              "#0d0887"
             ],
             [
              0.1111111111111111,
              "#46039f"
             ],
             [
              0.2222222222222222,
              "#7201a8"
             ],
             [
              0.3333333333333333,
              "#9c179e"
             ],
             [
              0.4444444444444444,
              "#bd3786"
             ],
             [
              0.5555555555555556,
              "#d8576b"
             ],
             [
              0.6666666666666666,
              "#ed7953"
             ],
             [
              0.7777777777777778,
              "#fb9f3a"
             ],
             [
              0.8888888888888888,
              "#fdca26"
             ],
             [
              1,
              "#f0f921"
             ]
            ],
            "type": "histogram2dcontour"
           }
          ],
          "mesh3d": [
           {
            "colorbar": {
             "outlinewidth": 0,
             "ticks": ""
            },
            "type": "mesh3d"
           }
          ],
          "parcoords": [
           {
            "line": {
             "colorbar": {
              "outlinewidth": 0,
              "ticks": ""
             }
            },
            "type": "parcoords"
           }
          ],
          "pie": [
           {
            "automargin": true,
            "type": "pie"
           }
          ],
          "scatter": [
           {
            "marker": {
             "colorbar": {
              "outlinewidth": 0,
              "ticks": ""
             }
            },
            "type": "scatter"
           }
          ],
          "scatter3d": [
           {
            "line": {
             "colorbar": {
              "outlinewidth": 0,
              "ticks": ""
             }
            },
            "marker": {
             "colorbar": {
              "outlinewidth": 0,
              "ticks": ""
             }
            },
            "type": "scatter3d"
           }
          ],
          "scattercarpet": [
           {
            "marker": {
             "colorbar": {
              "outlinewidth": 0,
              "ticks": ""
             }
            },
            "type": "scattercarpet"
           }
          ],
          "scattergeo": [
           {
            "marker": {
             "colorbar": {
              "outlinewidth": 0,
              "ticks": ""
             }
            },
            "type": "scattergeo"
           }
          ],
          "scattergl": [
           {
            "marker": {
             "colorbar": {
              "outlinewidth": 0,
              "ticks": ""
             }
            },
            "type": "scattergl"
           }
          ],
          "scattermapbox": [
           {
            "marker": {
             "colorbar": {
              "outlinewidth": 0,
              "ticks": ""
             }
            },
            "type": "scattermapbox"
           }
          ],
          "scatterpolar": [
           {
            "marker": {
             "colorbar": {
              "outlinewidth": 0,
              "ticks": ""
             }
            },
            "type": "scatterpolar"
           }
          ],
          "scatterpolargl": [
           {
            "marker": {
             "colorbar": {
              "outlinewidth": 0,
              "ticks": ""
             }
            },
            "type": "scatterpolargl"
           }
          ],
          "scatterternary": [
           {
            "marker": {
             "colorbar": {
              "outlinewidth": 0,
              "ticks": ""
             }
            },
            "type": "scatterternary"
           }
          ],
          "surface": [
           {
            "colorbar": {
             "outlinewidth": 0,
             "ticks": ""
            },
            "colorscale": [
             [
              0,
              "#0d0887"
             ],
             [
              0.1111111111111111,
              "#46039f"
             ],
             [
              0.2222222222222222,
              "#7201a8"
             ],
             [
              0.3333333333333333,
              "#9c179e"
             ],
             [
              0.4444444444444444,
              "#bd3786"
             ],
             [
              0.5555555555555556,
              "#d8576b"
             ],
             [
              0.6666666666666666,
              "#ed7953"
             ],
             [
              0.7777777777777778,
              "#fb9f3a"
             ],
             [
              0.8888888888888888,
              "#fdca26"
             ],
             [
              1,
              "#f0f921"
             ]
            ],
            "type": "surface"
           }
          ],
          "table": [
           {
            "cells": {
             "fill": {
              "color": "#EBF0F8"
             },
             "line": {
              "color": "white"
             }
            },
            "header": {
             "fill": {
              "color": "#C8D4E3"
             },
             "line": {
              "color": "white"
             }
            },
            "type": "table"
           }
          ]
         },
         "layout": {
          "annotationdefaults": {
           "arrowcolor": "#2a3f5f",
           "arrowhead": 0,
           "arrowwidth": 1
          },
          "autotypenumbers": "strict",
          "coloraxis": {
           "colorbar": {
            "outlinewidth": 0,
            "ticks": ""
           }
          },
          "colorscale": {
           "diverging": [
            [
             0,
             "#8e0152"
            ],
            [
             0.1,
             "#c51b7d"
            ],
            [
             0.2,
             "#de77ae"
            ],
            [
             0.3,
             "#f1b6da"
            ],
            [
             0.4,
             "#fde0ef"
            ],
            [
             0.5,
             "#f7f7f7"
            ],
            [
             0.6,
             "#e6f5d0"
            ],
            [
             0.7,
             "#b8e186"
            ],
            [
             0.8,
             "#7fbc41"
            ],
            [
             0.9,
             "#4d9221"
            ],
            [
             1,
             "#276419"
            ]
           ],
           "sequential": [
            [
             0,
             "#0d0887"
            ],
            [
             0.1111111111111111,
             "#46039f"
            ],
            [
             0.2222222222222222,
             "#7201a8"
            ],
            [
             0.3333333333333333,
             "#9c179e"
            ],
            [
             0.4444444444444444,
             "#bd3786"
            ],
            [
             0.5555555555555556,
             "#d8576b"
            ],
            [
             0.6666666666666666,
             "#ed7953"
            ],
            [
             0.7777777777777778,
             "#fb9f3a"
            ],
            [
             0.8888888888888888,
             "#fdca26"
            ],
            [
             1,
             "#f0f921"
            ]
           ],
           "sequentialminus": [
            [
             0,
             "#0d0887"
            ],
            [
             0.1111111111111111,
             "#46039f"
            ],
            [
             0.2222222222222222,
             "#7201a8"
            ],
            [
             0.3333333333333333,
             "#9c179e"
            ],
            [
             0.4444444444444444,
             "#bd3786"
            ],
            [
             0.5555555555555556,
             "#d8576b"
            ],
            [
             0.6666666666666666,
             "#ed7953"
            ],
            [
             0.7777777777777778,
             "#fb9f3a"
            ],
            [
             0.8888888888888888,
             "#fdca26"
            ],
            [
             1,
             "#f0f921"
            ]
           ]
          },
          "colorway": [
           "#636efa",
           "#EF553B",
           "#00cc96",
           "#ab63fa",
           "#FFA15A",
           "#19d3f3",
           "#FF6692",
           "#B6E880",
           "#FF97FF",
           "#FECB52"
          ],
          "font": {
           "color": "#2a3f5f"
          },
          "geo": {
           "bgcolor": "white",
           "lakecolor": "white",
           "landcolor": "#E5ECF6",
           "showlakes": true,
           "showland": true,
           "subunitcolor": "white"
          },
          "hoverlabel": {
           "align": "left"
          },
          "hovermode": "closest",
          "mapbox": {
           "style": "light"
          },
          "paper_bgcolor": "white",
          "plot_bgcolor": "#E5ECF6",
          "polar": {
           "angularaxis": {
            "gridcolor": "white",
            "linecolor": "white",
            "ticks": ""
           },
           "bgcolor": "#E5ECF6",
           "radialaxis": {
            "gridcolor": "white",
            "linecolor": "white",
            "ticks": ""
           }
          },
          "scene": {
           "xaxis": {
            "backgroundcolor": "#E5ECF6",
            "gridcolor": "white",
            "gridwidth": 2,
            "linecolor": "white",
            "showbackground": true,
            "ticks": "",
            "zerolinecolor": "white"
           },
           "yaxis": {
            "backgroundcolor": "#E5ECF6",
            "gridcolor": "white",
            "gridwidth": 2,
            "linecolor": "white",
            "showbackground": true,
            "ticks": "",
            "zerolinecolor": "white"
           },
           "zaxis": {
            "backgroundcolor": "#E5ECF6",
            "gridcolor": "white",
            "gridwidth": 2,
            "linecolor": "white",
            "showbackground": true,
            "ticks": "",
            "zerolinecolor": "white"
           }
          },
          "shapedefaults": {
           "line": {
            "color": "#2a3f5f"
           }
          },
          "ternary": {
           "aaxis": {
            "gridcolor": "white",
            "linecolor": "white",
            "ticks": ""
           },
           "baxis": {
            "gridcolor": "white",
            "linecolor": "white",
            "ticks": ""
           },
           "bgcolor": "#E5ECF6",
           "caxis": {
            "gridcolor": "white",
            "linecolor": "white",
            "ticks": ""
           }
          },
          "title": {
           "x": 0.05
          },
          "xaxis": {
           "automargin": true,
           "gridcolor": "white",
           "linecolor": "white",
           "ticks": "",
           "title": {
            "standoff": 15
           },
           "zerolinecolor": "white",
           "zerolinewidth": 2
          },
          "yaxis": {
           "automargin": true,
           "gridcolor": "white",
           "linecolor": "white",
           "ticks": "",
           "title": {
            "standoff": 15
           },
           "zerolinecolor": "white",
           "zerolinewidth": 2
          }
         }
        },
        "title": {
         "text": "Histograms of Numeric Variables"
        },
        "width": 800,
        "xaxis": {
         "anchor": "y",
         "domain": [
          0,
          1
         ]
        },
        "xaxis2": {
         "anchor": "y2",
         "domain": [
          0,
          1
         ]
        },
        "xaxis3": {
         "anchor": "y3",
         "domain": [
          0,
          1
         ]
        },
        "xaxis4": {
         "anchor": "y4",
         "domain": [
          0,
          1
         ]
        },
        "xaxis5": {
         "anchor": "y5",
         "domain": [
          0,
          1
         ]
        },
        "xaxis6": {
         "anchor": "y6",
         "domain": [
          0,
          1
         ]
        },
        "xaxis7": {
         "anchor": "y7",
         "domain": [
          0,
          1
         ]
        },
        "xaxis8": {
         "anchor": "y8",
         "domain": [
          0,
          1
         ]
        },
        "xaxis9": {
         "anchor": "y9",
         "domain": [
          0,
          1
         ]
        },
        "yaxis": {
         "anchor": "x",
         "domain": [
          0.9185185185185185,
          1
         ]
        },
        "yaxis2": {
         "anchor": "x2",
         "domain": [
          0.8037037037037038,
          0.8851851851851853
         ]
        },
        "yaxis3": {
         "anchor": "x3",
         "domain": [
          0.6888888888888889,
          0.7703703703703704
         ]
        },
        "yaxis4": {
         "anchor": "x4",
         "domain": [
          0.5740740740740741,
          0.6555555555555556
         ]
        },
        "yaxis5": {
         "anchor": "x5",
         "domain": [
          0.45925925925925926,
          0.5407407407407407
         ]
        },
        "yaxis6": {
         "anchor": "x6",
         "domain": [
          0.34444444444444444,
          0.42592592592592593
         ]
        },
        "yaxis7": {
         "anchor": "x7",
         "domain": [
          0.22962962962962963,
          0.3111111111111111
         ]
        },
        "yaxis8": {
         "anchor": "x8",
         "domain": [
          0.11481481481481481,
          0.1962962962962963
         ]
        },
        "yaxis9": {
         "anchor": "x9",
         "domain": [
          0,
          0.08148148148148149
         ]
        }
       }
      },
      "text/html": [
       "<div>                            <div id=\"22a5f68a-7ab9-491f-8e9b-b70a02600920\" class=\"plotly-graph-div\" style=\"height:1575px; width:800px;\"></div>            <script type=\"text/javascript\">                require([\"plotly\"], function(Plotly) {                    window.PLOTLYENV=window.PLOTLYENV || {};                                    if (document.getElementById(\"22a5f68a-7ab9-491f-8e9b-b70a02600920\")) {                    Plotly.newPlot(                        \"22a5f68a-7ab9-491f-8e9b-b70a02600920\",                        [{\"name\":\"Aroma\",\"nbinsx\":50,\"x\":[8.58,8.5,8.33,8.08,8.33,8.33,8.33,8.25,8.08,8.08,8.08,8.08,8.08,7.67,8.08,8.17,8.17,8.0,8.08,8.17,8.0,8.08,7.67,8.08,7.83,7.83,7.92,8.17,8.0,8.0,8.0,7.92,8.08,7.67,8.0,7.92,8.0,8.25,8.17,7.75,8.0,8.0,8.0,8.0,7.92,8.17,7.67,7.67,7.83,7.92,8.0,7.83,8.0,7.92,7.83,7.67,7.83,7.83,7.92,7.67,7.83,7.58,7.83,8.17,7.92,8.08,7.83,8.0,7.75,7.75,7.83,7.92,8.08,7.83,7.67,7.92,7.83,7.83,7.75,7.67,7.58,7.92,7.75,7.58,7.83,7.92,7.67,7.67,7.75,7.58,8.0,7.75,7.67,7.67,7.83,7.58,7.75,7.67,7.58,7.58,7.83,7.92,7.67,7.67,7.67,7.83,7.67,7.83,7.58,7.67,7.58,7.58,7.58,7.75,7.75,7.42,7.42,7.67,7.75,7.75,7.75,7.58,7.5,7.58,7.67,7.58,7.75,7.92,7.92,7.58,7.75,7.67,7.67,7.75,7.75,7.67,7.67,7.67,7.75,8.0,7.5,7.75,7.58,7.67,7.67,7.17,7.58,7.33,7.33,7.58,7.33,7.5,7.67,7.67,7.67,7.5,7.67,7.75,7.5,7.33,7.67,7.58,7.42,7.58,7.5,7.5,7.33,7.67,7.67,7.75,7.5,7.67,7.5,7.33,7.5,7.17,7.42,7.42,7.67,7.5,7.33,7.25,7.5,7.5,7.42,7.33,7.58,7.33,7.42,7.33,7.33,7.42,7.25,7.42,7.42,7.42,7.25,7.42,7.25,7.5,7.08,7.25,7.17,7.33,7.25,6.5,7.25],\"type\":\"histogram\",\"xaxis\":\"x\",\"yaxis\":\"y\"},{\"name\":\"Flavor\",\"nbinsx\":50,\"x\":[8.5,8.5,8.42,8.17,8.33,8.33,8.17,8.25,8.08,8.17,8.25,8.0,8.0,8.17,8.0,8.08,8.08,8.17,8.17,8.0,7.92,8.0,8.0,8.0,8.0,8.08,7.92,8.08,8.0,7.92,8.0,8.0,8.17,7.83,8.08,7.75,7.92,8.08,7.75,7.92,7.92,8.08,7.92,7.92,8.0,8.08,8.08,8.0,7.92,7.92,8.0,7.92,8.0,7.75,7.83,7.92,7.92,7.83,8.08,8.0,8.0,7.83,7.83,7.83,7.75,7.83,8.0,7.83,7.83,7.92,7.92,7.83,7.92,8.0,7.83,7.83,7.75,7.83,7.75,7.67,7.92,7.92,7.75,7.92,7.92,7.75,7.83,7.92,7.75,7.67,7.75,7.58,7.83,7.92,7.83,7.83,7.67,7.75,7.83,7.92,7.67,7.75,7.92,7.92,7.67,7.75,7.67,7.83,7.75,7.67,7.67,7.75,7.83,7.67,7.75,7.83,7.42,7.67,7.75,7.92,7.67,7.67,7.75,7.67,7.67,7.75,7.83,7.92,7.67,7.5,7.75,7.67,7.75,7.58,7.75,7.67,7.75,7.67,7.58,7.67,7.67,7.5,7.5,7.5,7.58,7.92,7.42,7.58,7.5,7.67,7.58,7.58,7.58,7.67,7.58,7.58,7.33,7.67,7.58,7.58,7.42,7.58,7.42,7.58,7.5,7.5,7.67,7.58,7.5,7.42,7.5,7.5,7.67,7.42,7.58,7.5,7.42,7.42,7.33,7.5,7.42,7.42,7.5,7.5,7.5,7.5,7.42,7.42,7.5,7.5,7.42,7.25,7.25,7.25,7.42,7.33,7.25,7.17,7.25,7.25,7.25,7.17,7.17,7.08,7.17,6.75,7.08],\"type\":\"histogram\",\"xaxis\":\"x2\",\"yaxis\":\"y2\"},{\"name\":\"Aftertaste\",\"nbinsx\":50,\"x\":[8.42,7.92,8.08,8.17,8.08,8.25,8.08,8.17,8.25,8.08,8.0,8.0,8.08,8.0,8.08,8.0,7.92,8.0,7.75,7.92,8.08,7.92,7.83,7.83,7.92,7.83,8.0,7.92,8.0,8.0,7.83,7.83,7.67,7.83,8.0,7.83,7.83,7.83,7.83,7.75,7.83,7.67,7.67,7.75,7.92,7.83,7.67,7.75,7.75,7.83,7.75,7.75,7.83,7.75,7.67,7.92,7.75,7.75,7.67,7.67,7.67,7.5,7.75,7.67,7.67,7.67,7.67,7.75,7.67,7.83,7.75,7.75,7.75,7.5,7.75,7.75,7.58,7.83,7.75,7.83,7.67,7.58,7.58,7.58,7.83,7.67,7.67,7.67,7.75,7.75,7.5,7.58,7.58,7.58,7.58,7.58,7.58,7.67,7.67,7.5,7.5,7.42,7.58,7.67,7.58,7.5,7.75,7.67,7.67,7.58,7.5,7.58,7.58,7.58,7.5,7.58,7.42,7.5,7.5,7.67,7.58,7.5,7.58,7.58,7.42,7.42,7.58,7.75,7.42,7.5,7.58,7.58,7.67,7.58,7.5,7.5,7.33,7.5,7.58,7.42,7.58,7.42,7.5,7.42,7.5,7.58,7.58,7.25,7.25,7.58,7.58,7.5,7.33,7.42,7.42,7.42,7.17,7.17,7.5,7.5,7.5,7.33,7.58,7.42,7.33,7.42,7.25,7.42,7.33,7.33,7.42,7.25,7.33,7.42,7.42,7.42,7.42,7.42,7.25,7.33,7.33,7.42,7.25,7.42,7.58,7.33,7.25,7.25,7.33,7.42,7.25,7.33,7.42,7.25,7.25,7.33,7.17,7.0,7.17,7.17,7.08,7.17,6.92,6.75,7.08,6.75,6.67],\"type\":\"histogram\",\"xaxis\":\"x3\",\"yaxis\":\"y3\"},{\"name\":\"Acidity\",\"nbinsx\":50,\"x\":[8.58,8.0,8.17,8.25,8.25,7.83,8.0,8.0,8.08,8.17,8.08,7.75,8.08,8.33,7.92,7.92,8.17,7.92,7.92,7.92,7.92,7.92,8.0,8.17,8.0,7.92,7.92,8.0,7.92,7.83,7.83,7.92,7.83,8.0,8.0,8.17,7.92,7.75,7.58,8.0,7.92,7.75,8.0,7.75,8.0,7.67,8.0,7.92,8.0,7.83,7.75,7.83,7.83,7.92,7.67,7.83,7.92,7.92,7.92,7.83,7.83,7.67,7.75,7.83,7.67,7.67,7.75,7.67,7.83,7.75,7.75,7.92,7.83,7.75,7.75,7.92,7.92,7.83,7.75,7.83,7.75,7.75,7.83,7.83,7.58,7.75,7.83,7.75,7.67,7.75,7.67,7.92,7.92,7.75,7.67,7.75,7.75,7.75,7.67,7.67,7.92,7.58,7.58,7.58,7.67,7.58,7.75,7.58,7.83,7.75,7.75,7.75,7.67,7.58,7.58,7.67,8.0,7.67,7.5,7.92,7.5,7.75,7.75,7.75,7.75,7.67,7.58,7.33,7.5,7.83,7.67,7.67,7.58,7.58,7.75,7.58,7.67,7.58,7.58,7.58,7.58,7.67,7.67,7.75,7.5,7.5,7.5,7.33,7.92,7.5,7.5,7.42,7.5,7.42,7.42,7.58,7.67,7.67,7.5,7.5,7.5,7.5,7.42,7.42,7.5,7.42,7.67,7.5,7.58,7.5,7.5,7.5,7.5,7.5,7.42,7.42,7.33,7.33,7.67,7.5,7.42,7.5,7.42,7.33,7.33,7.42,7.25,7.42,7.33,7.33,7.33,7.42,7.25,7.42,7.25,7.5,7.33,7.08,7.33,7.17,7.42,7.08,7.17,7.17,7.0,7.17,6.83],\"type\":\"histogram\",\"xaxis\":\"x4\",\"yaxis\":\"y4\"},{\"name\":\"Body\",\"nbinsx\":50,\"x\":[8.25,7.92,7.92,8.17,7.92,7.83,7.83,7.92,7.92,8.0,7.92,8.25,8.0,8.0,8.08,8.0,7.75,7.92,7.83,8.17,7.75,8.0,8.08,7.75,8.0,8.0,7.83,7.58,7.75,7.67,7.75,7.83,7.67,8.0,7.67,8.0,7.83,7.67,7.92,7.83,7.75,7.92,7.75,7.75,7.58,7.67,7.92,8.0,7.75,7.75,7.67,7.83,7.58,7.83,7.83,7.75,7.67,7.83,7.67,7.92,7.75,7.83,7.75,7.67,7.83,7.67,7.67,7.58,7.75,7.75,7.75,7.58,7.5,7.75,7.83,7.5,8.0,7.67,7.83,7.67,7.83,7.58,7.75,7.75,7.58,7.75,7.75,7.67,7.75,7.75,7.67,7.67,7.67,7.67,7.67,7.67,7.75,7.67,7.67,7.75,7.5,7.92,7.58,7.67,7.83,7.67,7.5,7.58,7.5,7.67,7.75,7.58,7.58,7.58,7.83,7.67,7.92,7.58,7.58,7.75,7.67,7.5,7.67,7.42,7.5,7.5,7.58,7.58,7.67,7.67,7.42,7.58,7.5,7.5,7.5,7.58,7.58,7.58,7.58,7.58,7.5,7.58,7.58,7.42,7.58,7.58,7.67,7.75,7.75,7.33,7.67,7.5,7.58,7.42,7.5,7.5,7.83,7.42,7.67,7.5,7.67,7.58,7.58,7.5,7.5,7.42,7.83,7.33,7.33,7.33,7.25,7.5,7.25,7.42,7.25,7.58,7.58,7.5,7.42,7.33,7.58,7.42,7.42,7.33,7.33,7.42,7.5,7.42,7.33,7.33,7.5,7.33,7.42,7.17,7.17,7.08,7.08,7.42,7.0,7.17,7.42,7.17,7.42,7.42,7.08,7.08,6.83],\"type\":\"histogram\",\"xaxis\":\"x5\",\"yaxis\":\"y5\"},{\"name\":\"Balance\",\"nbinsx\":50,\"x\":[8.42,8.25,8.17,8.08,7.92,8.17,8.25,8.08,8.0,8.0,7.92,8.17,8.0,8.0,8.0,7.92,7.92,7.92,8.0,7.75,8.0,7.83,8.0,7.83,7.92,7.83,7.92,7.83,7.92,8.0,7.92,7.83,7.92,8.0,7.75,7.75,7.83,7.75,8.0,7.92,7.75,7.83,7.83,7.92,7.75,7.75,7.83,7.83,7.75,7.83,7.75,7.83,7.83,7.83,8.0,7.83,7.83,7.75,7.75,7.67,7.75,7.67,7.75,7.67,7.75,7.75,7.75,7.83,7.75,7.75,7.75,7.67,7.58,7.75,7.75,7.67,7.5,7.67,7.67,7.75,7.75,7.67,7.75,7.67,7.67,8.0,7.67,7.58,7.67,7.75,7.67,7.75,7.67,7.58,7.58,7.75,7.67,7.67,7.67,7.67,7.67,7.67,7.75,7.67,7.58,7.67,7.67,7.58,7.67,7.67,7.67,7.67,7.58,7.67,7.5,7.75,7.67,7.67,7.58,7.83,7.5,7.58,7.58,7.58,7.75,7.75,7.5,7.5,7.58,7.5,7.5,7.58,7.58,7.58,7.42,7.5,7.5,7.5,7.5,7.42,7.5,7.5,7.5,7.58,7.5,7.67,7.75,8.17,7.58,7.5,7.67,7.58,7.5,7.5,7.5,7.58,7.5,7.42,7.42,7.58,7.42,7.42,7.5,7.5,7.42,7.67,7.42,7.42,7.42,7.5,7.5,7.33,7.33,7.5,7.42,7.5,7.33,7.42,7.25,7.33,7.42,7.42,7.42,7.33,7.25,7.42,7.33,7.33,7.33,7.25,7.42,7.33,7.42,7.33,7.25,7.0,7.25,7.17,7.17,7.08,7.08,7.17,7.17,7.17,7.08,7.0,6.67],\"type\":\"histogram\",\"xaxis\":\"x6\",\"yaxis\":\"y6\"},{\"name\":\"Overall\",\"nbinsx\":50,\"x\":[8.58,8.5,8.33,8.25,8.25,8.25,8.25,8.08,8.25,8.0,8.0,8.0,8.0,8.0,8.0,8.0,8.08,8.17,8.17,7.92,8.08,7.92,8.08,8.0,7.92,8.0,8.0,7.92,7.92,8.0,8.08,8.0,8.0,8.0,7.83,7.83,7.92,7.92,8.0,8.0,7.92,7.83,7.92,7.92,7.83,7.83,7.83,7.83,7.92,7.83,7.92,7.83,7.75,7.83,8.0,7.83,7.83,7.83,7.75,7.92,7.83,8.58,7.92,7.75,8.0,7.92,7.92,7.92,7.92,7.75,7.75,7.83,7.83,7.83,7.75,7.75,7.75,7.67,7.83,7.83,7.75,7.83,7.75,7.75,7.67,7.92,7.67,7.75,7.67,7.75,7.75,7.75,7.67,7.75,7.75,7.75,7.75,7.67,7.75,7.75,7.75,7.58,7.75,7.58,7.75,7.67,7.67,7.58,7.67,7.67,7.67,7.67,7.75,7.67,7.58,7.58,7.67,7.67,7.75,7.92,7.67,7.75,7.5,7.75,7.58,7.67,7.5,7.33,7.5,7.67,7.58,7.5,7.5,7.67,7.5,7.67,7.58,7.58,7.5,7.33,7.58,7.5,7.58,7.58,7.5,7.42,7.33,7.33,7.42,7.5,7.33,7.58,7.5,7.5,7.5,7.42,7.33,7.42,7.33,7.5,7.33,7.5,7.58,7.42,7.58,7.42,7.17,7.42,7.42,7.33,7.5,7.42,7.5,7.5,7.42,7.42,7.5,7.5,7.42,7.42,7.42,7.42,7.33,7.42,7.33,7.33,7.33,7.42,7.33,7.33,7.17,7.25,7.17,7.33,7.25,7.17,7.17,7.17,7.25,7.0,7.0,7.17,7.08,7.08,7.0,6.83,6.67],\"type\":\"histogram\",\"xaxis\":\"x7\",\"yaxis\":\"y7\"},{\"name\":\"Total Cup Points\",\"nbinsx\":50,\"x\":[89.33,87.58,87.42,87.17,87.08,87.0,86.92,86.75,86.67,86.5,86.25,86.25,86.25,86.17,86.17,86.08,86.08,86.08,85.92,85.83,85.75,85.67,85.67,85.67,85.58,85.5,85.5,85.5,85.5,85.42,85.42,85.33,85.33,85.33,85.33,85.25,85.25,85.25,85.25,85.17,85.08,85.08,85.08,85.0,85.0,85.0,85.0,85.0,84.92,84.92,84.83,84.83,84.83,84.83,84.83,84.75,84.75,84.75,84.75,84.67,84.67,84.67,84.58,84.58,84.58,84.58,84.58,84.58,84.5,84.5,84.5,84.5,84.5,84.42,84.33,84.33,84.33,84.33,84.33,84.25,84.25,84.25,84.17,84.08,84.08,84.08,84.08,84.0,84.0,84.0,84.0,84.0,84.0,83.92,83.92,83.92,83.92,83.83,83.83,83.83,83.83,83.83,83.83,83.75,83.75,83.67,83.67,83.67,83.67,83.67,83.58,83.58,83.58,83.5,83.5,83.5,83.5,83.42,83.42,83.42,83.33,83.33,83.33,83.33,83.33,83.33,83.33,83.33,83.25,83.25,83.25,83.25,83.25,83.25,83.17,83.17,83.08,83.08,83.08,83.0,82.92,82.92,82.92,82.92,82.83,82.83,82.83,82.75,82.75,82.67,82.67,82.67,82.67,82.58,82.58,82.58,82.5,82.5,82.5,82.5,82.5,82.5,82.5,82.42,82.33,82.33,82.33,82.33,82.25,82.17,82.17,82.17,82.08,82.08,82.0,82.0,82.0,82.0,82.0,81.92,81.92,81.83,81.83,81.83,81.75,81.75,81.67,81.58,81.58,81.5,81.42,81.33,81.17,81.17,81.0,80.83,80.5,80.42,80.42,80.33,80.33,80.17,80.08,80.0,79.67,78.08,78.0],\"type\":\"histogram\",\"xaxis\":\"x8\",\"yaxis\":\"y8\"},{\"name\":\"Moisture Percentage\",\"nbinsx\":50,\"x\":[11.8,10.5,10.4,11.8,11.6,10.7,9.1,10.0,10.8,11.0,11.8,11.5,11.9,11.6,10.6,10.2,11.3,10.3,11.0,10.0,11.6,10.4,9.8,11.3,10.6,11.3,9.1,10.6,10.2,9.3,11.4,10.8,11.3,9.9,12.3,9.4,9.5,11.3,9.2,10.3,10.0,10.5,10.0,11.0,10.9,10.1,9.9,11.3,11.7,9.5,9.7,11.9,10.7,11.2,9.5,10.4,11.2,10.3,10.0,10.6,10.9,10.0,9.6,11.5,9.9,11.2,10.3,11.6,11.7,11.3,9.8,10.9,10.2,10.1,9.2,10.1,11.0,10.3,11.6,11.5,10.0,12.1,10.2,11.0,10.8,10.6,11.0,11.0,9.4,9.8,11.3,11.6,13.3,9.5,11.9,10.0,11.6,11.9,10.8,10.9,12.0,12.1,11.8,10.6,11.7,12.4,10.0,10.2,9.2,11.1,8.4,9.1,10.9,11.2,12.2,13.1,10.4,11.6,10.1,10.1,11.1,9.7,11.4,9.6,13.5,0.0,10.7,12.3,10.4,11.6,9.6,10.9,10.5,11.3,9.7,11.8,11.8,10.6,9.6,13.1,8.9,11.9,11.5,10.2,10.0,11.8,13.3,10.5,11.8,11.8,13.0,11.2,9.6,9.8,8.4,10.1,11.3,10.0,11.8,11.7,10.7,10.6,8.4,11.4,10.5,12.0,11.8,10.8,11.7,10.6,11.2,10.6,9.7,8.1,8.2,9.8,10.5,11.5,12.5,11.6,10.3,11.3,11.2,11.3,11.1,11.2,11.8,9.7,9.0,8.5,11.6,10.5,10.4,11.4,10.6,10.5,11.5,11.2,11.0,11.8,11.5,11.6,11.4,10.4,11.6,11.0,11.3],\"type\":\"histogram\",\"xaxis\":\"x9\",\"yaxis\":\"y9\"}],                        {\"template\":{\"data\":{\"bar\":[{\"error_x\":{\"color\":\"#2a3f5f\"},\"error_y\":{\"color\":\"#2a3f5f\"},\"marker\":{\"line\":{\"color\":\"#E5ECF6\",\"width\":0.5},\"pattern\":{\"fillmode\":\"overlay\",\"size\":10,\"solidity\":0.2}},\"type\":\"bar\"}],\"barpolar\":[{\"marker\":{\"line\":{\"color\":\"#E5ECF6\",\"width\":0.5},\"pattern\":{\"fillmode\":\"overlay\",\"size\":10,\"solidity\":0.2}},\"type\":\"barpolar\"}],\"carpet\":[{\"aaxis\":{\"endlinecolor\":\"#2a3f5f\",\"gridcolor\":\"white\",\"linecolor\":\"white\",\"minorgridcolor\":\"white\",\"startlinecolor\":\"#2a3f5f\"},\"baxis\":{\"endlinecolor\":\"#2a3f5f\",\"gridcolor\":\"white\",\"linecolor\":\"white\",\"minorgridcolor\":\"white\",\"startlinecolor\":\"#2a3f5f\"},\"type\":\"carpet\"}],\"choropleth\":[{\"colorbar\":{\"outlinewidth\":0,\"ticks\":\"\"},\"type\":\"choropleth\"}],\"contour\":[{\"colorbar\":{\"outlinewidth\":0,\"ticks\":\"\"},\"colorscale\":[[0.0,\"#0d0887\"],[0.1111111111111111,\"#46039f\"],[0.2222222222222222,\"#7201a8\"],[0.3333333333333333,\"#9c179e\"],[0.4444444444444444,\"#bd3786\"],[0.5555555555555556,\"#d8576b\"],[0.6666666666666666,\"#ed7953\"],[0.7777777777777778,\"#fb9f3a\"],[0.8888888888888888,\"#fdca26\"],[1.0,\"#f0f921\"]],\"type\":\"contour\"}],\"contourcarpet\":[{\"colorbar\":{\"outlinewidth\":0,\"ticks\":\"\"},\"type\":\"contourcarpet\"}],\"heatmap\":[{\"colorbar\":{\"outlinewidth\":0,\"ticks\":\"\"},\"colorscale\":[[0.0,\"#0d0887\"],[0.1111111111111111,\"#46039f\"],[0.2222222222222222,\"#7201a8\"],[0.3333333333333333,\"#9c179e\"],[0.4444444444444444,\"#bd3786\"],[0.5555555555555556,\"#d8576b\"],[0.6666666666666666,\"#ed7953\"],[0.7777777777777778,\"#fb9f3a\"],[0.8888888888888888,\"#fdca26\"],[1.0,\"#f0f921\"]],\"type\":\"heatmap\"}],\"heatmapgl\":[{\"colorbar\":{\"outlinewidth\":0,\"ticks\":\"\"},\"colorscale\":[[0.0,\"#0d0887\"],[0.1111111111111111,\"#46039f\"],[0.2222222222222222,\"#7201a8\"],[0.3333333333333333,\"#9c179e\"],[0.4444444444444444,\"#bd3786\"],[0.5555555555555556,\"#d8576b\"],[0.6666666666666666,\"#ed7953\"],[0.7777777777777778,\"#fb9f3a\"],[0.8888888888888888,\"#fdca26\"],[1.0,\"#f0f921\"]],\"type\":\"heatmapgl\"}],\"histogram\":[{\"marker\":{\"pattern\":{\"fillmode\":\"overlay\",\"size\":10,\"solidity\":0.2}},\"type\":\"histogram\"}],\"histogram2d\":[{\"colorbar\":{\"outlinewidth\":0,\"ticks\":\"\"},\"colorscale\":[[0.0,\"#0d0887\"],[0.1111111111111111,\"#46039f\"],[0.2222222222222222,\"#7201a8\"],[0.3333333333333333,\"#9c179e\"],[0.4444444444444444,\"#bd3786\"],[0.5555555555555556,\"#d8576b\"],[0.6666666666666666,\"#ed7953\"],[0.7777777777777778,\"#fb9f3a\"],[0.8888888888888888,\"#fdca26\"],[1.0,\"#f0f921\"]],\"type\":\"histogram2d\"}],\"histogram2dcontour\":[{\"colorbar\":{\"outlinewidth\":0,\"ticks\":\"\"},\"colorscale\":[[0.0,\"#0d0887\"],[0.1111111111111111,\"#46039f\"],[0.2222222222222222,\"#7201a8\"],[0.3333333333333333,\"#9c179e\"],[0.4444444444444444,\"#bd3786\"],[0.5555555555555556,\"#d8576b\"],[0.6666666666666666,\"#ed7953\"],[0.7777777777777778,\"#fb9f3a\"],[0.8888888888888888,\"#fdca26\"],[1.0,\"#f0f921\"]],\"type\":\"histogram2dcontour\"}],\"mesh3d\":[{\"colorbar\":{\"outlinewidth\":0,\"ticks\":\"\"},\"type\":\"mesh3d\"}],\"parcoords\":[{\"line\":{\"colorbar\":{\"outlinewidth\":0,\"ticks\":\"\"}},\"type\":\"parcoords\"}],\"pie\":[{\"automargin\":true,\"type\":\"pie\"}],\"scatter\":[{\"marker\":{\"colorbar\":{\"outlinewidth\":0,\"ticks\":\"\"}},\"type\":\"scatter\"}],\"scatter3d\":[{\"line\":{\"colorbar\":{\"outlinewidth\":0,\"ticks\":\"\"}},\"marker\":{\"colorbar\":{\"outlinewidth\":0,\"ticks\":\"\"}},\"type\":\"scatter3d\"}],\"scattercarpet\":[{\"marker\":{\"colorbar\":{\"outlinewidth\":0,\"ticks\":\"\"}},\"type\":\"scattercarpet\"}],\"scattergeo\":[{\"marker\":{\"colorbar\":{\"outlinewidth\":0,\"ticks\":\"\"}},\"type\":\"scattergeo\"}],\"scattergl\":[{\"marker\":{\"colorbar\":{\"outlinewidth\":0,\"ticks\":\"\"}},\"type\":\"scattergl\"}],\"scattermapbox\":[{\"marker\":{\"colorbar\":{\"outlinewidth\":0,\"ticks\":\"\"}},\"type\":\"scattermapbox\"}],\"scatterpolar\":[{\"marker\":{\"colorbar\":{\"outlinewidth\":0,\"ticks\":\"\"}},\"type\":\"scatterpolar\"}],\"scatterpolargl\":[{\"marker\":{\"colorbar\":{\"outlinewidth\":0,\"ticks\":\"\"}},\"type\":\"scatterpolargl\"}],\"scatterternary\":[{\"marker\":{\"colorbar\":{\"outlinewidth\":0,\"ticks\":\"\"}},\"type\":\"scatterternary\"}],\"surface\":[{\"colorbar\":{\"outlinewidth\":0,\"ticks\":\"\"},\"colorscale\":[[0.0,\"#0d0887\"],[0.1111111111111111,\"#46039f\"],[0.2222222222222222,\"#7201a8\"],[0.3333333333333333,\"#9c179e\"],[0.4444444444444444,\"#bd3786\"],[0.5555555555555556,\"#d8576b\"],[0.6666666666666666,\"#ed7953\"],[0.7777777777777778,\"#fb9f3a\"],[0.8888888888888888,\"#fdca26\"],[1.0,\"#f0f921\"]],\"type\":\"surface\"}],\"table\":[{\"cells\":{\"fill\":{\"color\":\"#EBF0F8\"},\"line\":{\"color\":\"white\"}},\"header\":{\"fill\":{\"color\":\"#C8D4E3\"},\"line\":{\"color\":\"white\"}},\"type\":\"table\"}]},\"layout\":{\"annotationdefaults\":{\"arrowcolor\":\"#2a3f5f\",\"arrowhead\":0,\"arrowwidth\":1},\"autotypenumbers\":\"strict\",\"coloraxis\":{\"colorbar\":{\"outlinewidth\":0,\"ticks\":\"\"}},\"colorscale\":{\"diverging\":[[0,\"#8e0152\"],[0.1,\"#c51b7d\"],[0.2,\"#de77ae\"],[0.3,\"#f1b6da\"],[0.4,\"#fde0ef\"],[0.5,\"#f7f7f7\"],[0.6,\"#e6f5d0\"],[0.7,\"#b8e186\"],[0.8,\"#7fbc41\"],[0.9,\"#4d9221\"],[1,\"#276419\"]],\"sequential\":[[0.0,\"#0d0887\"],[0.1111111111111111,\"#46039f\"],[0.2222222222222222,\"#7201a8\"],[0.3333333333333333,\"#9c179e\"],[0.4444444444444444,\"#bd3786\"],[0.5555555555555556,\"#d8576b\"],[0.6666666666666666,\"#ed7953\"],[0.7777777777777778,\"#fb9f3a\"],[0.8888888888888888,\"#fdca26\"],[1.0,\"#f0f921\"]],\"sequentialminus\":[[0.0,\"#0d0887\"],[0.1111111111111111,\"#46039f\"],[0.2222222222222222,\"#7201a8\"],[0.3333333333333333,\"#9c179e\"],[0.4444444444444444,\"#bd3786\"],[0.5555555555555556,\"#d8576b\"],[0.6666666666666666,\"#ed7953\"],[0.7777777777777778,\"#fb9f3a\"],[0.8888888888888888,\"#fdca26\"],[1.0,\"#f0f921\"]]},\"colorway\":[\"#636efa\",\"#EF553B\",\"#00cc96\",\"#ab63fa\",\"#FFA15A\",\"#19d3f3\",\"#FF6692\",\"#B6E880\",\"#FF97FF\",\"#FECB52\"],\"font\":{\"color\":\"#2a3f5f\"},\"geo\":{\"bgcolor\":\"white\",\"lakecolor\":\"white\",\"landcolor\":\"#E5ECF6\",\"showlakes\":true,\"showland\":true,\"subunitcolor\":\"white\"},\"hoverlabel\":{\"align\":\"left\"},\"hovermode\":\"closest\",\"mapbox\":{\"style\":\"light\"},\"paper_bgcolor\":\"white\",\"plot_bgcolor\":\"#E5ECF6\",\"polar\":{\"angularaxis\":{\"gridcolor\":\"white\",\"linecolor\":\"white\",\"ticks\":\"\"},\"bgcolor\":\"#E5ECF6\",\"radialaxis\":{\"gridcolor\":\"white\",\"linecolor\":\"white\",\"ticks\":\"\"}},\"scene\":{\"xaxis\":{\"backgroundcolor\":\"#E5ECF6\",\"gridcolor\":\"white\",\"gridwidth\":2,\"linecolor\":\"white\",\"showbackground\":true,\"ticks\":\"\",\"zerolinecolor\":\"white\"},\"yaxis\":{\"backgroundcolor\":\"#E5ECF6\",\"gridcolor\":\"white\",\"gridwidth\":2,\"linecolor\":\"white\",\"showbackground\":true,\"ticks\":\"\",\"zerolinecolor\":\"white\"},\"zaxis\":{\"backgroundcolor\":\"#E5ECF6\",\"gridcolor\":\"white\",\"gridwidth\":2,\"linecolor\":\"white\",\"showbackground\":true,\"ticks\":\"\",\"zerolinecolor\":\"white\"}},\"shapedefaults\":{\"line\":{\"color\":\"#2a3f5f\"}},\"ternary\":{\"aaxis\":{\"gridcolor\":\"white\",\"linecolor\":\"white\",\"ticks\":\"\"},\"baxis\":{\"gridcolor\":\"white\",\"linecolor\":\"white\",\"ticks\":\"\"},\"bgcolor\":\"#E5ECF6\",\"caxis\":{\"gridcolor\":\"white\",\"linecolor\":\"white\",\"ticks\":\"\"}},\"title\":{\"x\":0.05},\"xaxis\":{\"automargin\":true,\"gridcolor\":\"white\",\"linecolor\":\"white\",\"ticks\":\"\",\"title\":{\"standoff\":15},\"zerolinecolor\":\"white\",\"zerolinewidth\":2},\"yaxis\":{\"automargin\":true,\"gridcolor\":\"white\",\"linecolor\":\"white\",\"ticks\":\"\",\"title\":{\"standoff\":15},\"zerolinecolor\":\"white\",\"zerolinewidth\":2}}},\"xaxis\":{\"anchor\":\"y\",\"domain\":[0.0,1.0]},\"yaxis\":{\"anchor\":\"x\",\"domain\":[0.9185185185185185,1.0]},\"xaxis2\":{\"anchor\":\"y2\",\"domain\":[0.0,1.0]},\"yaxis2\":{\"anchor\":\"x2\",\"domain\":[0.8037037037037038,0.8851851851851853]},\"xaxis3\":{\"anchor\":\"y3\",\"domain\":[0.0,1.0]},\"yaxis3\":{\"anchor\":\"x3\",\"domain\":[0.6888888888888889,0.7703703703703704]},\"xaxis4\":{\"anchor\":\"y4\",\"domain\":[0.0,1.0]},\"yaxis4\":{\"anchor\":\"x4\",\"domain\":[0.5740740740740741,0.6555555555555556]},\"xaxis5\":{\"anchor\":\"y5\",\"domain\":[0.0,1.0]},\"yaxis5\":{\"anchor\":\"x5\",\"domain\":[0.45925925925925926,0.5407407407407407]},\"xaxis6\":{\"anchor\":\"y6\",\"domain\":[0.0,1.0]},\"yaxis6\":{\"anchor\":\"x6\",\"domain\":[0.34444444444444444,0.42592592592592593]},\"xaxis7\":{\"anchor\":\"y7\",\"domain\":[0.0,1.0]},\"yaxis7\":{\"anchor\":\"x7\",\"domain\":[0.22962962962962963,0.3111111111111111]},\"xaxis8\":{\"anchor\":\"y8\",\"domain\":[0.0,1.0]},\"yaxis8\":{\"anchor\":\"x8\",\"domain\":[0.11481481481481481,0.1962962962962963]},\"xaxis9\":{\"anchor\":\"y9\",\"domain\":[0.0,1.0]},\"yaxis9\":{\"anchor\":\"x9\",\"domain\":[0.0,0.08148148148148149]},\"title\":{\"text\":\"Histograms of Numeric Variables\"},\"height\":1575,\"width\":800},                        {\"responsive\": true}                    ).then(function(){\n",
       "                            \n",
       "var gd = document.getElementById('22a5f68a-7ab9-491f-8e9b-b70a02600920');\n",
       "var x = new MutationObserver(function (mutations, observer) {{\n",
       "        var display = window.getComputedStyle(gd).display;\n",
       "        if (!display || display === 'none') {{\n",
       "            console.log([gd, 'removed!']);\n",
       "            Plotly.purge(gd);\n",
       "            observer.disconnect();\n",
       "        }}\n",
       "}});\n",
       "\n",
       "// Listen for the removal of the full notebook cells\n",
       "var notebookContainer = gd.closest('#notebook-container');\n",
       "if (notebookContainer) {{\n",
       "    x.observe(notebookContainer, {childList: true});\n",
       "}}\n",
       "\n",
       "// Listen for the clearing of the current output cell\n",
       "var outputEl = gd.closest('.output');\n",
       "if (outputEl) {{\n",
       "    x.observe(outputEl, {childList: true});\n",
       "}}\n",
       "\n",
       "                        })                };                });            </script>        </div>"
      ]
     },
     "metadata": {},
     "output_type": "display_data"
    }
   ],
   "source": [
    "fig = make_subplots(rows = len(numeric_variables), cols = 1)\n",
    "for i, variable in enumerate(numeric_variables):\n",
    "    fig.add_trace(go.Histogram(x =coffee[variable], nbinsx=50, name=variable), row = i + 1, col = 1)\n",
    "    \n",
    "fig.update_layout(height=175*len(numeric_variables), width=800, title_text=\"Histograms of Numeric Variables\",)\n",
    "fig.show()"
   ]
  },
  {
   "cell_type": "code",
   "execution_count": 237,
   "id": "edeae499",
   "metadata": {},
   "outputs": [],
   "source": [
    "country_total_cup_mean = coffee.groupby(\"Country of Origin\")[\"Total Cup Points\"].mean().reset_index()"
   ]
  },
  {
   "cell_type": "code",
   "execution_count": 238,
   "id": "627afd17",
   "metadata": {},
   "outputs": [
    {
     "data": {
      "application/vnd.plotly.v1+json": {
       "config": {
        "plotlyServerURL": "https://plot.ly"
       },
       "data": [
        {
         "coloraxis": "coloraxis",
         "geo": "geo",
         "hovertemplate": "<b>%{hovertext}</b><br><br>Country of Origin=%{location}<br>Total Cup Points=%{z}<extra></extra>",
         "hovertext": [
          "Brazil",
          "Colombia",
          "Costa Rica",
          "El Salvador",
          "Ethiopia",
          "Guatemala",
          "Honduras",
          "Indonesia",
          "Kenya",
          "Laos",
          "Madagascar",
          "Mexico",
          "Myanmar",
          "Nicaragua",
          "Panama",
          "Peru",
          "Taiwan",
          "Tanzania, United Republic Of",
          "Thailand",
          "Uganda",
          "United States (Hawaii)",
          "Vietnam"
         ],
         "locationmode": "country names",
         "locations": [
          "Brazil",
          "Colombia",
          "Costa Rica",
          "El Salvador",
          "Ethiopia",
          "Guatemala",
          "Honduras",
          "Indonesia",
          "Kenya",
          "Laos",
          "Madagascar",
          "Mexico",
          "Myanmar",
          "Nicaragua",
          "Panama",
          "Peru",
          "Taiwan",
          "Tanzania, United Republic Of",
          "Thailand",
          "Uganda",
          "United States (Hawaii)",
          "Vietnam"
         ],
         "name": "",
         "type": "choropleth",
         "z": [
          81.88300000000001,
          83.87736842105264,
          83.74,
          81.53285714285714,
          84.96090909090908,
          84.30142857142857,
          83.2823076923077,
          83.69333333333333,
          83.71000000000001,
          83.39,
          84.25,
          82.71000000000001,
          83.67,
          81.89285714285714,
          83.625,
          82.3325,
          84.35032786885246,
          84.735,
          82.8275,
          83.91666666666667,
          83.65,
          82.8925
         ]
        }
       ],
       "layout": {
        "coloraxis": {
         "colorbar": {
          "title": {
           "text": "Total Cup Points"
          }
         },
         "colorscale": [
          [
           0,
           "#0d0887"
          ],
          [
           0.1111111111111111,
           "#46039f"
          ],
          [
           0.2222222222222222,
           "#7201a8"
          ],
          [
           0.3333333333333333,
           "#9c179e"
          ],
          [
           0.4444444444444444,
           "#bd3786"
          ],
          [
           0.5555555555555556,
           "#d8576b"
          ],
          [
           0.6666666666666666,
           "#ed7953"
          ],
          [
           0.7777777777777778,
           "#fb9f3a"
          ],
          [
           0.8888888888888888,
           "#fdca26"
          ],
          [
           1,
           "#f0f921"
          ]
         ]
        },
        "geo": {
         "center": {},
         "domain": {
          "x": [
           0,
           1
          ],
          "y": [
           0,
           1
          ]
         }
        },
        "legend": {
         "tracegroupgap": 0
        },
        "template": {
         "data": {
          "bar": [
           {
            "error_x": {
             "color": "#2a3f5f"
            },
            "error_y": {
             "color": "#2a3f5f"
            },
            "marker": {
             "line": {
              "color": "#E5ECF6",
              "width": 0.5
             },
             "pattern": {
              "fillmode": "overlay",
              "size": 10,
              "solidity": 0.2
             }
            },
            "type": "bar"
           }
          ],
          "barpolar": [
           {
            "marker": {
             "line": {
              "color": "#E5ECF6",
              "width": 0.5
             },
             "pattern": {
              "fillmode": "overlay",
              "size": 10,
              "solidity": 0.2
             }
            },
            "type": "barpolar"
           }
          ],
          "carpet": [
           {
            "aaxis": {
             "endlinecolor": "#2a3f5f",
             "gridcolor": "white",
             "linecolor": "white",
             "minorgridcolor": "white",
             "startlinecolor": "#2a3f5f"
            },
            "baxis": {
             "endlinecolor": "#2a3f5f",
             "gridcolor": "white",
             "linecolor": "white",
             "minorgridcolor": "white",
             "startlinecolor": "#2a3f5f"
            },
            "type": "carpet"
           }
          ],
          "choropleth": [
           {
            "colorbar": {
             "outlinewidth": 0,
             "ticks": ""
            },
            "type": "choropleth"
           }
          ],
          "contour": [
           {
            "colorbar": {
             "outlinewidth": 0,
             "ticks": ""
            },
            "colorscale": [
             [
              0,
              "#0d0887"
             ],
             [
              0.1111111111111111,
              "#46039f"
             ],
             [
              0.2222222222222222,
              "#7201a8"
             ],
             [
              0.3333333333333333,
              "#9c179e"
             ],
             [
              0.4444444444444444,
              "#bd3786"
             ],
             [
              0.5555555555555556,
              "#d8576b"
             ],
             [
              0.6666666666666666,
              "#ed7953"
             ],
             [
              0.7777777777777778,
              "#fb9f3a"
             ],
             [
              0.8888888888888888,
              "#fdca26"
             ],
             [
              1,
              "#f0f921"
             ]
            ],
            "type": "contour"
           }
          ],
          "contourcarpet": [
           {
            "colorbar": {
             "outlinewidth": 0,
             "ticks": ""
            },
            "type": "contourcarpet"
           }
          ],
          "heatmap": [
           {
            "colorbar": {
             "outlinewidth": 0,
             "ticks": ""
            },
            "colorscale": [
             [
              0,
              "#0d0887"
             ],
             [
              0.1111111111111111,
              "#46039f"
             ],
             [
              0.2222222222222222,
              "#7201a8"
             ],
             [
              0.3333333333333333,
              "#9c179e"
             ],
             [
              0.4444444444444444,
              "#bd3786"
             ],
             [
              0.5555555555555556,
              "#d8576b"
             ],
             [
              0.6666666666666666,
              "#ed7953"
             ],
             [
              0.7777777777777778,
              "#fb9f3a"
             ],
             [
              0.8888888888888888,
              "#fdca26"
             ],
             [
              1,
              "#f0f921"
             ]
            ],
            "type": "heatmap"
           }
          ],
          "heatmapgl": [
           {
            "colorbar": {
             "outlinewidth": 0,
             "ticks": ""
            },
            "colorscale": [
             [
              0,
              "#0d0887"
             ],
             [
              0.1111111111111111,
              "#46039f"
             ],
             [
              0.2222222222222222,
              "#7201a8"
             ],
             [
              0.3333333333333333,
              "#9c179e"
             ],
             [
              0.4444444444444444,
              "#bd3786"
             ],
             [
              0.5555555555555556,
              "#d8576b"
             ],
             [
              0.6666666666666666,
              "#ed7953"
             ],
             [
              0.7777777777777778,
              "#fb9f3a"
             ],
             [
              0.8888888888888888,
              "#fdca26"
             ],
             [
              1,
              "#f0f921"
             ]
            ],
            "type": "heatmapgl"
           }
          ],
          "histogram": [
           {
            "marker": {
             "pattern": {
              "fillmode": "overlay",
              "size": 10,
              "solidity": 0.2
             }
            },
            "type": "histogram"
           }
          ],
          "histogram2d": [
           {
            "colorbar": {
             "outlinewidth": 0,
             "ticks": ""
            },
            "colorscale": [
             [
              0,
              "#0d0887"
             ],
             [
              0.1111111111111111,
              "#46039f"
             ],
             [
              0.2222222222222222,
              "#7201a8"
             ],
             [
              0.3333333333333333,
              "#9c179e"
             ],
             [
              0.4444444444444444,
              "#bd3786"
             ],
             [
              0.5555555555555556,
              "#d8576b"
             ],
             [
              0.6666666666666666,
              "#ed7953"
             ],
             [
              0.7777777777777778,
              "#fb9f3a"
             ],
             [
              0.8888888888888888,
              "#fdca26"
             ],
             [
              1,
              "#f0f921"
             ]
            ],
            "type": "histogram2d"
           }
          ],
          "histogram2dcontour": [
           {
            "colorbar": {
             "outlinewidth": 0,
             "ticks": ""
            },
            "colorscale": [
             [
              0,
              "#0d0887"
             ],
             [
              0.1111111111111111,
              "#46039f"
             ],
             [
              0.2222222222222222,
              "#7201a8"
             ],
             [
              0.3333333333333333,
              "#9c179e"
             ],
             [
              0.4444444444444444,
              "#bd3786"
             ],
             [
              0.5555555555555556,
              "#d8576b"
             ],
             [
              0.6666666666666666,
              "#ed7953"
             ],
             [
              0.7777777777777778,
              "#fb9f3a"
             ],
             [
              0.8888888888888888,
              "#fdca26"
             ],
             [
              1,
              "#f0f921"
             ]
            ],
            "type": "histogram2dcontour"
           }
          ],
          "mesh3d": [
           {
            "colorbar": {
             "outlinewidth": 0,
             "ticks": ""
            },
            "type": "mesh3d"
           }
          ],
          "parcoords": [
           {
            "line": {
             "colorbar": {
              "outlinewidth": 0,
              "ticks": ""
             }
            },
            "type": "parcoords"
           }
          ],
          "pie": [
           {
            "automargin": true,
            "type": "pie"
           }
          ],
          "scatter": [
           {
            "marker": {
             "colorbar": {
              "outlinewidth": 0,
              "ticks": ""
             }
            },
            "type": "scatter"
           }
          ],
          "scatter3d": [
           {
            "line": {
             "colorbar": {
              "outlinewidth": 0,
              "ticks": ""
             }
            },
            "marker": {
             "colorbar": {
              "outlinewidth": 0,
              "ticks": ""
             }
            },
            "type": "scatter3d"
           }
          ],
          "scattercarpet": [
           {
            "marker": {
             "colorbar": {
              "outlinewidth": 0,
              "ticks": ""
             }
            },
            "type": "scattercarpet"
           }
          ],
          "scattergeo": [
           {
            "marker": {
             "colorbar": {
              "outlinewidth": 0,
              "ticks": ""
             }
            },
            "type": "scattergeo"
           }
          ],
          "scattergl": [
           {
            "marker": {
             "colorbar": {
              "outlinewidth": 0,
              "ticks": ""
             }
            },
            "type": "scattergl"
           }
          ],
          "scattermapbox": [
           {
            "marker": {
             "colorbar": {
              "outlinewidth": 0,
              "ticks": ""
             }
            },
            "type": "scattermapbox"
           }
          ],
          "scatterpolar": [
           {
            "marker": {
             "colorbar": {
              "outlinewidth": 0,
              "ticks": ""
             }
            },
            "type": "scatterpolar"
           }
          ],
          "scatterpolargl": [
           {
            "marker": {
             "colorbar": {
              "outlinewidth": 0,
              "ticks": ""
             }
            },
            "type": "scatterpolargl"
           }
          ],
          "scatterternary": [
           {
            "marker": {
             "colorbar": {
              "outlinewidth": 0,
              "ticks": ""
             }
            },
            "type": "scatterternary"
           }
          ],
          "surface": [
           {
            "colorbar": {
             "outlinewidth": 0,
             "ticks": ""
            },
            "colorscale": [
             [
              0,
              "#0d0887"
             ],
             [
              0.1111111111111111,
              "#46039f"
             ],
             [
              0.2222222222222222,
              "#7201a8"
             ],
             [
              0.3333333333333333,
              "#9c179e"
             ],
             [
              0.4444444444444444,
              "#bd3786"
             ],
             [
              0.5555555555555556,
              "#d8576b"
             ],
             [
              0.6666666666666666,
              "#ed7953"
             ],
             [
              0.7777777777777778,
              "#fb9f3a"
             ],
             [
              0.8888888888888888,
              "#fdca26"
             ],
             [
              1,
              "#f0f921"
             ]
            ],
            "type": "surface"
           }
          ],
          "table": [
           {
            "cells": {
             "fill": {
              "color": "#EBF0F8"
             },
             "line": {
              "color": "white"
             }
            },
            "header": {
             "fill": {
              "color": "#C8D4E3"
             },
             "line": {
              "color": "white"
             }
            },
            "type": "table"
           }
          ]
         },
         "layout": {
          "annotationdefaults": {
           "arrowcolor": "#2a3f5f",
           "arrowhead": 0,
           "arrowwidth": 1
          },
          "autotypenumbers": "strict",
          "coloraxis": {
           "colorbar": {
            "outlinewidth": 0,
            "ticks": ""
           }
          },
          "colorscale": {
           "diverging": [
            [
             0,
             "#8e0152"
            ],
            [
             0.1,
             "#c51b7d"
            ],
            [
             0.2,
             "#de77ae"
            ],
            [
             0.3,
             "#f1b6da"
            ],
            [
             0.4,
             "#fde0ef"
            ],
            [
             0.5,
             "#f7f7f7"
            ],
            [
             0.6,
             "#e6f5d0"
            ],
            [
             0.7,
             "#b8e186"
            ],
            [
             0.8,
             "#7fbc41"
            ],
            [
             0.9,
             "#4d9221"
            ],
            [
             1,
             "#276419"
            ]
           ],
           "sequential": [
            [
             0,
             "#0d0887"
            ],
            [
             0.1111111111111111,
             "#46039f"
            ],
            [
             0.2222222222222222,
             "#7201a8"
            ],
            [
             0.3333333333333333,
             "#9c179e"
            ],
            [
             0.4444444444444444,
             "#bd3786"
            ],
            [
             0.5555555555555556,
             "#d8576b"
            ],
            [
             0.6666666666666666,
             "#ed7953"
            ],
            [
             0.7777777777777778,
             "#fb9f3a"
            ],
            [
             0.8888888888888888,
             "#fdca26"
            ],
            [
             1,
             "#f0f921"
            ]
           ],
           "sequentialminus": [
            [
             0,
             "#0d0887"
            ],
            [
             0.1111111111111111,
             "#46039f"
            ],
            [
             0.2222222222222222,
             "#7201a8"
            ],
            [
             0.3333333333333333,
             "#9c179e"
            ],
            [
             0.4444444444444444,
             "#bd3786"
            ],
            [
             0.5555555555555556,
             "#d8576b"
            ],
            [
             0.6666666666666666,
             "#ed7953"
            ],
            [
             0.7777777777777778,
             "#fb9f3a"
            ],
            [
             0.8888888888888888,
             "#fdca26"
            ],
            [
             1,
             "#f0f921"
            ]
           ]
          },
          "colorway": [
           "#636efa",
           "#EF553B",
           "#00cc96",
           "#ab63fa",
           "#FFA15A",
           "#19d3f3",
           "#FF6692",
           "#B6E880",
           "#FF97FF",
           "#FECB52"
          ],
          "font": {
           "color": "#2a3f5f"
          },
          "geo": {
           "bgcolor": "white",
           "lakecolor": "white",
           "landcolor": "#E5ECF6",
           "showlakes": true,
           "showland": true,
           "subunitcolor": "white"
          },
          "hoverlabel": {
           "align": "left"
          },
          "hovermode": "closest",
          "mapbox": {
           "style": "light"
          },
          "paper_bgcolor": "white",
          "plot_bgcolor": "#E5ECF6",
          "polar": {
           "angularaxis": {
            "gridcolor": "white",
            "linecolor": "white",
            "ticks": ""
           },
           "bgcolor": "#E5ECF6",
           "radialaxis": {
            "gridcolor": "white",
            "linecolor": "white",
            "ticks": ""
           }
          },
          "scene": {
           "xaxis": {
            "backgroundcolor": "#E5ECF6",
            "gridcolor": "white",
            "gridwidth": 2,
            "linecolor": "white",
            "showbackground": true,
            "ticks": "",
            "zerolinecolor": "white"
           },
           "yaxis": {
            "backgroundcolor": "#E5ECF6",
            "gridcolor": "white",
            "gridwidth": 2,
            "linecolor": "white",
            "showbackground": true,
            "ticks": "",
            "zerolinecolor": "white"
           },
           "zaxis": {
            "backgroundcolor": "#E5ECF6",
            "gridcolor": "white",
            "gridwidth": 2,
            "linecolor": "white",
            "showbackground": true,
            "ticks": "",
            "zerolinecolor": "white"
           }
          },
          "shapedefaults": {
           "line": {
            "color": "#2a3f5f"
           }
          },
          "ternary": {
           "aaxis": {
            "gridcolor": "white",
            "linecolor": "white",
            "ticks": ""
           },
           "baxis": {
            "gridcolor": "white",
            "linecolor": "white",
            "ticks": ""
           },
           "bgcolor": "#E5ECF6",
           "caxis": {
            "gridcolor": "white",
            "linecolor": "white",
            "ticks": ""
           }
          },
          "title": {
           "x": 0.05
          },
          "xaxis": {
           "automargin": true,
           "gridcolor": "white",
           "linecolor": "white",
           "ticks": "",
           "title": {
            "standoff": 15
           },
           "zerolinecolor": "white",
           "zerolinewidth": 2
          },
          "yaxis": {
           "automargin": true,
           "gridcolor": "white",
           "linecolor": "white",
           "ticks": "",
           "title": {
            "standoff": 15
           },
           "zerolinecolor": "white",
           "zerolinewidth": 2
          }
         }
        },
        "title": {
         "text": "Mean Total Cup Points per Country",
         "x": 0.5
        }
       }
      },
      "text/html": [
       "<div>                            <div id=\"642cacdd-549d-47d1-8ac0-57f839446b34\" class=\"plotly-graph-div\" style=\"height:525px; width:100%;\"></div>            <script type=\"text/javascript\">                require([\"plotly\"], function(Plotly) {                    window.PLOTLYENV=window.PLOTLYENV || {};                                    if (document.getElementById(\"642cacdd-549d-47d1-8ac0-57f839446b34\")) {                    Plotly.newPlot(                        \"642cacdd-549d-47d1-8ac0-57f839446b34\",                        [{\"coloraxis\":\"coloraxis\",\"geo\":\"geo\",\"hovertemplate\":\"<b>%{hovertext}</b><br><br>Country of Origin=%{location}<br>Total Cup Points=%{z}<extra></extra>\",\"hovertext\":[\"Brazil\",\"Colombia\",\"Costa Rica\",\"El Salvador\",\"Ethiopia\",\"Guatemala\",\"Honduras\",\"Indonesia\",\"Kenya\",\"Laos\",\"Madagascar\",\"Mexico\",\"Myanmar\",\"Nicaragua\",\"Panama\",\"Peru\",\"Taiwan\",\"Tanzania, United Republic Of\",\"Thailand\",\"Uganda\",\"United States (Hawaii)\",\"Vietnam\"],\"locationmode\":\"country names\",\"locations\":[\"Brazil\",\"Colombia\",\"Costa Rica\",\"El Salvador\",\"Ethiopia\",\"Guatemala\",\"Honduras\",\"Indonesia\",\"Kenya\",\"Laos\",\"Madagascar\",\"Mexico\",\"Myanmar\",\"Nicaragua\",\"Panama\",\"Peru\",\"Taiwan\",\"Tanzania, United Republic Of\",\"Thailand\",\"Uganda\",\"United States (Hawaii)\",\"Vietnam\"],\"name\":\"\",\"z\":[81.88300000000001,83.87736842105264,83.74,81.53285714285714,84.96090909090908,84.30142857142857,83.2823076923077,83.69333333333333,83.71000000000001,83.39,84.25,82.71000000000001,83.67,81.89285714285714,83.625,82.3325,84.35032786885246,84.735,82.8275,83.91666666666667,83.65,82.8925],\"type\":\"choropleth\"}],                        {\"template\":{\"data\":{\"bar\":[{\"error_x\":{\"color\":\"#2a3f5f\"},\"error_y\":{\"color\":\"#2a3f5f\"},\"marker\":{\"line\":{\"color\":\"#E5ECF6\",\"width\":0.5},\"pattern\":{\"fillmode\":\"overlay\",\"size\":10,\"solidity\":0.2}},\"type\":\"bar\"}],\"barpolar\":[{\"marker\":{\"line\":{\"color\":\"#E5ECF6\",\"width\":0.5},\"pattern\":{\"fillmode\":\"overlay\",\"size\":10,\"solidity\":0.2}},\"type\":\"barpolar\"}],\"carpet\":[{\"aaxis\":{\"endlinecolor\":\"#2a3f5f\",\"gridcolor\":\"white\",\"linecolor\":\"white\",\"minorgridcolor\":\"white\",\"startlinecolor\":\"#2a3f5f\"},\"baxis\":{\"endlinecolor\":\"#2a3f5f\",\"gridcolor\":\"white\",\"linecolor\":\"white\",\"minorgridcolor\":\"white\",\"startlinecolor\":\"#2a3f5f\"},\"type\":\"carpet\"}],\"choropleth\":[{\"colorbar\":{\"outlinewidth\":0,\"ticks\":\"\"},\"type\":\"choropleth\"}],\"contour\":[{\"colorbar\":{\"outlinewidth\":0,\"ticks\":\"\"},\"colorscale\":[[0.0,\"#0d0887\"],[0.1111111111111111,\"#46039f\"],[0.2222222222222222,\"#7201a8\"],[0.3333333333333333,\"#9c179e\"],[0.4444444444444444,\"#bd3786\"],[0.5555555555555556,\"#d8576b\"],[0.6666666666666666,\"#ed7953\"],[0.7777777777777778,\"#fb9f3a\"],[0.8888888888888888,\"#fdca26\"],[1.0,\"#f0f921\"]],\"type\":\"contour\"}],\"contourcarpet\":[{\"colorbar\":{\"outlinewidth\":0,\"ticks\":\"\"},\"type\":\"contourcarpet\"}],\"heatmap\":[{\"colorbar\":{\"outlinewidth\":0,\"ticks\":\"\"},\"colorscale\":[[0.0,\"#0d0887\"],[0.1111111111111111,\"#46039f\"],[0.2222222222222222,\"#7201a8\"],[0.3333333333333333,\"#9c179e\"],[0.4444444444444444,\"#bd3786\"],[0.5555555555555556,\"#d8576b\"],[0.6666666666666666,\"#ed7953\"],[0.7777777777777778,\"#fb9f3a\"],[0.8888888888888888,\"#fdca26\"],[1.0,\"#f0f921\"]],\"type\":\"heatmap\"}],\"heatmapgl\":[{\"colorbar\":{\"outlinewidth\":0,\"ticks\":\"\"},\"colorscale\":[[0.0,\"#0d0887\"],[0.1111111111111111,\"#46039f\"],[0.2222222222222222,\"#7201a8\"],[0.3333333333333333,\"#9c179e\"],[0.4444444444444444,\"#bd3786\"],[0.5555555555555556,\"#d8576b\"],[0.6666666666666666,\"#ed7953\"],[0.7777777777777778,\"#fb9f3a\"],[0.8888888888888888,\"#fdca26\"],[1.0,\"#f0f921\"]],\"type\":\"heatmapgl\"}],\"histogram\":[{\"marker\":{\"pattern\":{\"fillmode\":\"overlay\",\"size\":10,\"solidity\":0.2}},\"type\":\"histogram\"}],\"histogram2d\":[{\"colorbar\":{\"outlinewidth\":0,\"ticks\":\"\"},\"colorscale\":[[0.0,\"#0d0887\"],[0.1111111111111111,\"#46039f\"],[0.2222222222222222,\"#7201a8\"],[0.3333333333333333,\"#9c179e\"],[0.4444444444444444,\"#bd3786\"],[0.5555555555555556,\"#d8576b\"],[0.6666666666666666,\"#ed7953\"],[0.7777777777777778,\"#fb9f3a\"],[0.8888888888888888,\"#fdca26\"],[1.0,\"#f0f921\"]],\"type\":\"histogram2d\"}],\"histogram2dcontour\":[{\"colorbar\":{\"outlinewidth\":0,\"ticks\":\"\"},\"colorscale\":[[0.0,\"#0d0887\"],[0.1111111111111111,\"#46039f\"],[0.2222222222222222,\"#7201a8\"],[0.3333333333333333,\"#9c179e\"],[0.4444444444444444,\"#bd3786\"],[0.5555555555555556,\"#d8576b\"],[0.6666666666666666,\"#ed7953\"],[0.7777777777777778,\"#fb9f3a\"],[0.8888888888888888,\"#fdca26\"],[1.0,\"#f0f921\"]],\"type\":\"histogram2dcontour\"}],\"mesh3d\":[{\"colorbar\":{\"outlinewidth\":0,\"ticks\":\"\"},\"type\":\"mesh3d\"}],\"parcoords\":[{\"line\":{\"colorbar\":{\"outlinewidth\":0,\"ticks\":\"\"}},\"type\":\"parcoords\"}],\"pie\":[{\"automargin\":true,\"type\":\"pie\"}],\"scatter\":[{\"marker\":{\"colorbar\":{\"outlinewidth\":0,\"ticks\":\"\"}},\"type\":\"scatter\"}],\"scatter3d\":[{\"line\":{\"colorbar\":{\"outlinewidth\":0,\"ticks\":\"\"}},\"marker\":{\"colorbar\":{\"outlinewidth\":0,\"ticks\":\"\"}},\"type\":\"scatter3d\"}],\"scattercarpet\":[{\"marker\":{\"colorbar\":{\"outlinewidth\":0,\"ticks\":\"\"}},\"type\":\"scattercarpet\"}],\"scattergeo\":[{\"marker\":{\"colorbar\":{\"outlinewidth\":0,\"ticks\":\"\"}},\"type\":\"scattergeo\"}],\"scattergl\":[{\"marker\":{\"colorbar\":{\"outlinewidth\":0,\"ticks\":\"\"}},\"type\":\"scattergl\"}],\"scattermapbox\":[{\"marker\":{\"colorbar\":{\"outlinewidth\":0,\"ticks\":\"\"}},\"type\":\"scattermapbox\"}],\"scatterpolar\":[{\"marker\":{\"colorbar\":{\"outlinewidth\":0,\"ticks\":\"\"}},\"type\":\"scatterpolar\"}],\"scatterpolargl\":[{\"marker\":{\"colorbar\":{\"outlinewidth\":0,\"ticks\":\"\"}},\"type\":\"scatterpolargl\"}],\"scatterternary\":[{\"marker\":{\"colorbar\":{\"outlinewidth\":0,\"ticks\":\"\"}},\"type\":\"scatterternary\"}],\"surface\":[{\"colorbar\":{\"outlinewidth\":0,\"ticks\":\"\"},\"colorscale\":[[0.0,\"#0d0887\"],[0.1111111111111111,\"#46039f\"],[0.2222222222222222,\"#7201a8\"],[0.3333333333333333,\"#9c179e\"],[0.4444444444444444,\"#bd3786\"],[0.5555555555555556,\"#d8576b\"],[0.6666666666666666,\"#ed7953\"],[0.7777777777777778,\"#fb9f3a\"],[0.8888888888888888,\"#fdca26\"],[1.0,\"#f0f921\"]],\"type\":\"surface\"}],\"table\":[{\"cells\":{\"fill\":{\"color\":\"#EBF0F8\"},\"line\":{\"color\":\"white\"}},\"header\":{\"fill\":{\"color\":\"#C8D4E3\"},\"line\":{\"color\":\"white\"}},\"type\":\"table\"}]},\"layout\":{\"annotationdefaults\":{\"arrowcolor\":\"#2a3f5f\",\"arrowhead\":0,\"arrowwidth\":1},\"autotypenumbers\":\"strict\",\"coloraxis\":{\"colorbar\":{\"outlinewidth\":0,\"ticks\":\"\"}},\"colorscale\":{\"diverging\":[[0,\"#8e0152\"],[0.1,\"#c51b7d\"],[0.2,\"#de77ae\"],[0.3,\"#f1b6da\"],[0.4,\"#fde0ef\"],[0.5,\"#f7f7f7\"],[0.6,\"#e6f5d0\"],[0.7,\"#b8e186\"],[0.8,\"#7fbc41\"],[0.9,\"#4d9221\"],[1,\"#276419\"]],\"sequential\":[[0.0,\"#0d0887\"],[0.1111111111111111,\"#46039f\"],[0.2222222222222222,\"#7201a8\"],[0.3333333333333333,\"#9c179e\"],[0.4444444444444444,\"#bd3786\"],[0.5555555555555556,\"#d8576b\"],[0.6666666666666666,\"#ed7953\"],[0.7777777777777778,\"#fb9f3a\"],[0.8888888888888888,\"#fdca26\"],[1.0,\"#f0f921\"]],\"sequentialminus\":[[0.0,\"#0d0887\"],[0.1111111111111111,\"#46039f\"],[0.2222222222222222,\"#7201a8\"],[0.3333333333333333,\"#9c179e\"],[0.4444444444444444,\"#bd3786\"],[0.5555555555555556,\"#d8576b\"],[0.6666666666666666,\"#ed7953\"],[0.7777777777777778,\"#fb9f3a\"],[0.8888888888888888,\"#fdca26\"],[1.0,\"#f0f921\"]]},\"colorway\":[\"#636efa\",\"#EF553B\",\"#00cc96\",\"#ab63fa\",\"#FFA15A\",\"#19d3f3\",\"#FF6692\",\"#B6E880\",\"#FF97FF\",\"#FECB52\"],\"font\":{\"color\":\"#2a3f5f\"},\"geo\":{\"bgcolor\":\"white\",\"lakecolor\":\"white\",\"landcolor\":\"#E5ECF6\",\"showlakes\":true,\"showland\":true,\"subunitcolor\":\"white\"},\"hoverlabel\":{\"align\":\"left\"},\"hovermode\":\"closest\",\"mapbox\":{\"style\":\"light\"},\"paper_bgcolor\":\"white\",\"plot_bgcolor\":\"#E5ECF6\",\"polar\":{\"angularaxis\":{\"gridcolor\":\"white\",\"linecolor\":\"white\",\"ticks\":\"\"},\"bgcolor\":\"#E5ECF6\",\"radialaxis\":{\"gridcolor\":\"white\",\"linecolor\":\"white\",\"ticks\":\"\"}},\"scene\":{\"xaxis\":{\"backgroundcolor\":\"#E5ECF6\",\"gridcolor\":\"white\",\"gridwidth\":2,\"linecolor\":\"white\",\"showbackground\":true,\"ticks\":\"\",\"zerolinecolor\":\"white\"},\"yaxis\":{\"backgroundcolor\":\"#E5ECF6\",\"gridcolor\":\"white\",\"gridwidth\":2,\"linecolor\":\"white\",\"showbackground\":true,\"ticks\":\"\",\"zerolinecolor\":\"white\"},\"zaxis\":{\"backgroundcolor\":\"#E5ECF6\",\"gridcolor\":\"white\",\"gridwidth\":2,\"linecolor\":\"white\",\"showbackground\":true,\"ticks\":\"\",\"zerolinecolor\":\"white\"}},\"shapedefaults\":{\"line\":{\"color\":\"#2a3f5f\"}},\"ternary\":{\"aaxis\":{\"gridcolor\":\"white\",\"linecolor\":\"white\",\"ticks\":\"\"},\"baxis\":{\"gridcolor\":\"white\",\"linecolor\":\"white\",\"ticks\":\"\"},\"bgcolor\":\"#E5ECF6\",\"caxis\":{\"gridcolor\":\"white\",\"linecolor\":\"white\",\"ticks\":\"\"}},\"title\":{\"x\":0.05},\"xaxis\":{\"automargin\":true,\"gridcolor\":\"white\",\"linecolor\":\"white\",\"ticks\":\"\",\"title\":{\"standoff\":15},\"zerolinecolor\":\"white\",\"zerolinewidth\":2},\"yaxis\":{\"automargin\":true,\"gridcolor\":\"white\",\"linecolor\":\"white\",\"ticks\":\"\",\"title\":{\"standoff\":15},\"zerolinecolor\":\"white\",\"zerolinewidth\":2}}},\"geo\":{\"domain\":{\"x\":[0.0,1.0],\"y\":[0.0,1.0]},\"center\":{}},\"coloraxis\":{\"colorbar\":{\"title\":{\"text\":\"Total Cup Points\"}},\"colorscale\":[[0.0,\"#0d0887\"],[0.1111111111111111,\"#46039f\"],[0.2222222222222222,\"#7201a8\"],[0.3333333333333333,\"#9c179e\"],[0.4444444444444444,\"#bd3786\"],[0.5555555555555556,\"#d8576b\"],[0.6666666666666666,\"#ed7953\"],[0.7777777777777778,\"#fb9f3a\"],[0.8888888888888888,\"#fdca26\"],[1.0,\"#f0f921\"]]},\"legend\":{\"tracegroupgap\":0},\"title\":{\"text\":\"Mean Total Cup Points per Country\",\"x\":0.5}},                        {\"responsive\": true}                    ).then(function(){\n",
       "                            \n",
       "var gd = document.getElementById('642cacdd-549d-47d1-8ac0-57f839446b34');\n",
       "var x = new MutationObserver(function (mutations, observer) {{\n",
       "        var display = window.getComputedStyle(gd).display;\n",
       "        if (!display || display === 'none') {{\n",
       "            console.log([gd, 'removed!']);\n",
       "            Plotly.purge(gd);\n",
       "            observer.disconnect();\n",
       "        }}\n",
       "}});\n",
       "\n",
       "// Listen for the removal of the full notebook cells\n",
       "var notebookContainer = gd.closest('#notebook-container');\n",
       "if (notebookContainer) {{\n",
       "    x.observe(notebookContainer, {childList: true});\n",
       "}}\n",
       "\n",
       "// Listen for the clearing of the current output cell\n",
       "var outputEl = gd.closest('.output');\n",
       "if (outputEl) {{\n",
       "    x.observe(outputEl, {childList: true});\n",
       "}}\n",
       "\n",
       "                        })                };                });            </script>        </div>"
      ]
     },
     "metadata": {},
     "output_type": "display_data"
    },
    {
     "data": {
      "text/plain": [
       "Text(0.5, 1.0, 'Mean Total Cup Points per Country')"
      ]
     },
     "execution_count": 238,
     "metadata": {},
     "output_type": "execute_result"
    },
    {
     "data": {
      "image/png": "[encoded data removed]",
      "text/plain": [
       "<Figure size 792x360 with 1 Axes>"
      ]
     },
     "metadata": {},
     "output_type": "display_data"
    }
   ],
   "source": [
    "fig = px.choropleth(country_total_cup_mean,\n",
    "                   locations = \"Country of Origin\",\n",
    "                   locationmode = \"country names\",\n",
    "                   color = \"Total Cup Points\",\n",
    "                   hover_name = \"Country of Origin\",\n",
    "                   color_continuous_scale = px.colors.sequential.Plasma,\n",
    "                   title = \"Mean Total Cup Points per Country\", \n",
    "                   )\n",
    "fig.update_layout(title_x = 0.5)\n",
    "fig.show()\n",
    "\n",
    "plt.figure(figsize=(11, 5))\n",
    "plt.xticks(rotation=90)\n",
    "sns.barplot(x = country_total_cup_mean[\"Country of Origin\"], y = country_total_cup_mean[\"Total Cup Points\"])\n",
    "plt.title(\"Mean Total Cup Points per Country\")"
   ]
  },
  {
   "cell_type": "markdown",
   "id": "90b89572",
   "metadata": {},
   "source": [
    "In these 2 graphs we can see the mean total cup score per country on a map and on a bar plot. From the map, we can see that the best coffee quality comes from east African countries, with Ethiopia producing the best coffee in the world (on average)"
   ]
  },
  {
   "cell_type": "code",
   "execution_count": 239,
   "id": "ae59848e",
   "metadata": {},
   "outputs": [
    {
     "data": {
      "application/vnd.plotly.v1+json": {
       "config": {
        "plotlyServerURL": "https://plot.ly"
       },
       "data": [
        {
         "coloraxis": "coloraxis",
         "geo": "geo",
         "hovertemplate": "<b>%{hovertext}</b><br><br>Country of Origin=%{location}<br>Age=%{z}<extra></extra>",
         "hovertext": [
          "Brazil",
          "Colombia",
          "Costa Rica",
          "El Salvador",
          "Ethiopia",
          "Guatemala",
          "Honduras",
          "Indonesia",
          "Kenya",
          "Laos",
          "Madagascar",
          "Mexico",
          "Myanmar",
          "Nicaragua",
          "Panama",
          "Peru",
          "Taiwan",
          "Tanzania, United Republic Of",
          "Thailand",
          "Uganda",
          "United States (Hawaii)",
          "Vietnam"
         ],
         "locationmode": "country names",
         "locations": [
          "Brazil",
          "Colombia",
          "Costa Rica",
          "El Salvador",
          "Ethiopia",
          "Guatemala",
          "Honduras",
          "Indonesia",
          "Kenya",
          "Laos",
          "Madagascar",
          "Mexico",
          "Myanmar",
          "Nicaragua",
          "Panama",
          "Peru",
          "Taiwan",
          "Tanzania, United Republic Of",
          "Thailand",
          "Uganda",
          "United States (Hawaii)",
          "Vietnam"
         ],
         "name": "",
         "type": "choropleth",
         "z": [
          845,
          829.8947368421053,
          990.75,
          690,
          971.4545454545455,
          880.5238095238095,
          915,
          618.6666666666666,
          807,
          940,
          710,
          944,
          683,
          884.5714285714286,
          859.5,
          580,
          1027.8852459016393,
          725.3333333333334,
          664.25,
          933,
          753.6,
          910.25
         ]
        }
       ],
       "layout": {
        "coloraxis": {
         "colorbar": {
          "title": {
           "text": "Age"
          }
         },
         "colorscale": [
          [
           0,
           "#0d0887"
          ],
          [
           0.1111111111111111,
           "#46039f"
          ],
          [
           0.2222222222222222,
           "#7201a8"
          ],
          [
           0.3333333333333333,
           "#9c179e"
          ],
          [
           0.4444444444444444,
           "#bd3786"
          ],
          [
           0.5555555555555556,
           "#d8576b"
          ],
          [
           0.6666666666666666,
           "#ed7953"
          ],
          [
           0.7777777777777778,
           "#fb9f3a"
          ],
          [
           0.8888888888888888,
           "#fdca26"
          ],
          [
           1,
           "#f0f921"
          ]
         ]
        },
        "geo": {
         "center": {},
         "domain": {
          "x": [
           0,
           1
          ],
          "y": [
           0,
           1
          ]
         }
        },
        "legend": {
         "tracegroupgap": 0
        },
        "template": {
         "data": {
          "bar": [
           {
            "error_x": {
             "color": "#2a3f5f"
            },
            "error_y": {
             "color": "#2a3f5f"
            },
            "marker": {
             "line": {
              "color": "#E5ECF6",
              "width": 0.5
             },
             "pattern": {
              "fillmode": "overlay",
              "size": 10,
              "solidity": 0.2
             }
            },
            "type": "bar"
           }
          ],
          "barpolar": [
           {
            "marker": {
             "line": {
              "color": "#E5ECF6",
              "width": 0.5
             },
             "pattern": {
              "fillmode": "overlay",
              "size": 10,
              "solidity": 0.2
             }
            },
            "type": "barpolar"
           }
          ],
          "carpet": [
           {
            "aaxis": {
             "endlinecolor": "#2a3f5f",
             "gridcolor": "white",
             "linecolor": "white",
             "minorgridcolor": "white",
             "startlinecolor": "#2a3f5f"
            },
            "baxis": {
             "endlinecolor": "#2a3f5f",
             "gridcolor": "white",
             "linecolor": "white",
             "minorgridcolor": "white",
             "startlinecolor": "#2a3f5f"
            },
            "type": "carpet"
           }
          ],
          "choropleth": [
           {
            "colorbar": {
             "outlinewidth": 0,
             "ticks": ""
            },
            "type": "choropleth"
           }
          ],
          "contour": [
           {
            "colorbar": {
             "outlinewidth": 0,
             "ticks": ""
            },
            "colorscale": [
             [
              0,
              "#0d0887"
             ],
             [
              0.1111111111111111,
              "#46039f"
             ],
             [
              0.2222222222222222,
              "#7201a8"
             ],
             [
              0.3333333333333333,
              "#9c179e"
             ],
             [
              0.4444444444444444,
              "#bd3786"
             ],
             [
              0.5555555555555556,
              "#d8576b"
             ],
             [
              0.6666666666666666,
              "#ed7953"
             ],
             [
              0.7777777777777778,
              "#fb9f3a"
             ],
             [
              0.8888888888888888,
              "#fdca26"
             ],
             [
              1,
              "#f0f921"
             ]
            ],
            "type": "contour"
           }
          ],
          "contourcarpet": [
           {
            "colorbar": {
             "outlinewidth": 0,
             "ticks": ""
            },
            "type": "contourcarpet"
           }
          ],
          "heatmap": [
           {
            "colorbar": {
             "outlinewidth": 0,
             "ticks": ""
            },
            "colorscale": [
             [
              0,
              "#0d0887"
             ],
             [
              0.1111111111111111,
              "#46039f"
             ],
             [
              0.2222222222222222,
              "#7201a8"
             ],
             [
              0.3333333333333333,
              "#9c179e"
             ],
             [
              0.4444444444444444,
              "#bd3786"
             ],
             [
              0.5555555555555556,
              "#d8576b"
             ],
             [
              0.6666666666666666,
              "#ed7953"
             ],
             [
              0.7777777777777778,
              "#fb9f3a"
             ],
             [
              0.8888888888888888,
              "#fdca26"
             ],
             [
              1,
              "#f0f921"
             ]
            ],
            "type": "heatmap"
           }
          ],
          "heatmapgl": [
           {
            "colorbar": {
             "outlinewidth": 0,
             "ticks": ""
            },
            "colorscale": [
             [
              0,
              "#0d0887"
             ],
             [
              0.1111111111111111,
              "#46039f"
             ],
             [
              0.2222222222222222,
              "#7201a8"
             ],
             [
              0.3333333333333333,
              "#9c179e"
             ],
             [
              0.4444444444444444,
              "#bd3786"
             ],
             [
              0.5555555555555556,
              "#d8576b"
             ],
             [
              0.6666666666666666,
              "#ed7953"
             ],
             [
              0.7777777777777778,
              "#fb9f3a"
             ],
             [
              0.8888888888888888,
              "#fdca26"
             ],
             [
              1,
              "#f0f921"
             ]
            ],
            "type": "heatmapgl"
           }
          ],
          "histogram": [
           {
            "marker": {
             "pattern": {
              "fillmode": "overlay",
              "size": 10,
              "solidity": 0.2
             }
            },
            "type": "histogram"
           }
          ],
          "histogram2d": [
           {
            "colorbar": {
             "outlinewidth": 0,
             "ticks": ""
            },
            "colorscale": [
             [
              0,
              "#0d0887"
             ],
             [
              0.1111111111111111,
              "#46039f"
             ],
             [
              0.2222222222222222,
              "#7201a8"
             ],
             [
              0.3333333333333333,
              "#9c179e"
             ],
             [
              0.4444444444444444,
              "#bd3786"
             ],
             [
              0.5555555555555556,
              "#d8576b"
             ],
             [
              0.6666666666666666,
              "#ed7953"
             ],
             [
              0.7777777777777778,
              "#fb9f3a"
             ],
             [
              0.8888888888888888,
              "#fdca26"
             ],
             [
              1,
              "#f0f921"
             ]
            ],
            "type": "histogram2d"
           }
          ],
          "histogram2dcontour": [
           {
            "colorbar": {
             "outlinewidth": 0,
             "ticks": ""
            },
            "colorscale": [
             [
              0,
              "#0d0887"
             ],
             [
              0.1111111111111111,
              "#46039f"
             ],
             [
              0.2222222222222222,
              "#7201a8"
             ],
             [
              0.3333333333333333,
              "#9c179e"
             ],
             [
              0.4444444444444444,
              "#bd3786"
             ],
             [
              0.5555555555555556,
              "#d8576b"
             ],
             [
              0.6666666666666666,
              "#ed7953"
             ],
             [
              0.7777777777777778,
              "#fb9f3a"
             ],
             [
              0.8888888888888888,
              "#fdca26"
             ],
             [
              1,
              "#f0f921"
             ]
            ],
            "type": "histogram2dcontour"
           }
          ],
          "mesh3d": [
           {
            "colorbar": {
             "outlinewidth": 0,
             "ticks": ""
            },
            "type": "mesh3d"
           }
          ],
          "parcoords": [
           {
            "line": {
             "colorbar": {
              "outlinewidth": 0,
              "ticks": ""
             }
            },
            "type": "parcoords"
           }
          ],
          "pie": [
           {
            "automargin": true,
            "type": "pie"
           }
          ],
          "scatter": [
           {
            "marker": {
             "colorbar": {
              "outlinewidth": 0,
              "ticks": ""
             }
            },
            "type": "scatter"
           }
          ],
          "scatter3d": [
           {
            "line": {
             "colorbar": {
              "outlinewidth": 0,
              "ticks": ""
             }
            },
            "marker": {
             "colorbar": {
              "outlinewidth": 0,
              "ticks": ""
             }
            },
            "type": "scatter3d"
           }
          ],
          "scattercarpet": [
           {
            "marker": {
             "colorbar": {
              "outlinewidth": 0,
              "ticks": ""
             }
            },
            "type": "scattercarpet"
           }
          ],
          "scattergeo": [
           {
            "marker": {
             "colorbar": {
              "outlinewidth": 0,
              "ticks": ""
             }
            },
            "type": "scattergeo"
           }
          ],
          "scattergl": [
           {
            "marker": {
             "colorbar": {
              "outlinewidth": 0,
              "ticks": ""
             }
            },
            "type": "scattergl"
           }
          ],
          "scattermapbox": [
           {
            "marker": {
             "colorbar": {
              "outlinewidth": 0,
              "ticks": ""
             }
            },
            "type": "scattermapbox"
           }
          ],
          "scatterpolar": [
           {
            "marker": {
             "colorbar": {
              "outlinewidth": 0,
              "ticks": ""
             }
            },
            "type": "scatterpolar"
           }
          ],
          "scatterpolargl": [
           {
            "marker": {
             "colorbar": {
              "outlinewidth": 0,
              "ticks": ""
             }
            },
            "type": "scatterpolargl"
           }
          ],
          "scatterternary": [
           {
            "marker": {
             "colorbar": {
              "outlinewidth": 0,
              "ticks": ""
             }
            },
            "type": "scatterternary"
           }
          ],
          "surface": [
           {
            "colorbar": {
             "outlinewidth": 0,
             "ticks": ""
            },
            "colorscale": [
             [
              0,
              "#0d0887"
             ],
             [
              0.1111111111111111,
              "#46039f"
             ],
             [
              0.2222222222222222,
              "#7201a8"
             ],
             [
              0.3333333333333333,
              "#9c179e"
             ],
             [
              0.4444444444444444,
              "#bd3786"
             ],
             [
              0.5555555555555556,
              "#d8576b"
             ],
             [
              0.6666666666666666,
              "#ed7953"
             ],
             [
              0.7777777777777778,
              "#fb9f3a"
             ],
             [
              0.8888888888888888,
              "#fdca26"
             ],
             [
              1,
              "#f0f921"
             ]
            ],
            "type": "surface"
           }
          ],
          "table": [
           {
            "cells": {
             "fill": {
              "color": "#EBF0F8"
             },
             "line": {
              "color": "white"
             }
            },
            "header": {
             "fill": {
              "color": "#C8D4E3"
             },
             "line": {
              "color": "white"
             }
            },
            "type": "table"
           }
          ]
         },
         "layout": {
          "annotationdefaults": {
           "arrowcolor": "#2a3f5f",
           "arrowhead": 0,
           "arrowwidth": 1
          },
          "autotypenumbers": "strict",
          "coloraxis": {
           "colorbar": {
            "outlinewidth": 0,
            "ticks": ""
           }
          },
          "colorscale": {
           "diverging": [
            [
             0,
             "#8e0152"
            ],
            [
             0.1,
             "#c51b7d"
            ],
            [
             0.2,
             "#de77ae"
            ],
            [
             0.3,
             "#f1b6da"
            ],
            [
             0.4,
             "#fde0ef"
            ],
            [
             0.5,
             "#f7f7f7"
            ],
            [
             0.6,
             "#e6f5d0"
            ],
            [
             0.7,
             "#b8e186"
            ],
            [
             0.8,
             "#7fbc41"
            ],
            [
             0.9,
             "#4d9221"
            ],
            [
             1,
             "#276419"
            ]
           ],
           "sequential": [
            [
             0,
             "#0d0887"
            ],
            [
             0.1111111111111111,
             "#46039f"
            ],
            [
             0.2222222222222222,
             "#7201a8"
            ],
            [
             0.3333333333333333,
             "#9c179e"
            ],
            [
             0.4444444444444444,
             "#bd3786"
            ],
            [
             0.5555555555555556,
             "#d8576b"
            ],
            [
             0.6666666666666666,
             "#ed7953"
            ],
            [
             0.7777777777777778,
             "#fb9f3a"
            ],
            [
             0.8888888888888888,
             "#fdca26"
            ],
            [
             1,
             "#f0f921"
            ]
           ],
           "sequentialminus": [
            [
             0,
             "#0d0887"
            ],
            [
             0.1111111111111111,
             "#46039f"
            ],
            [
             0.2222222222222222,
             "#7201a8"
            ],
            [
             0.3333333333333333,
             "#9c179e"
            ],
            [
             0.4444444444444444,
             "#bd3786"
            ],
            [
             0.5555555555555556,
             "#d8576b"
            ],
            [
             0.6666666666666666,
             "#ed7953"
            ],
            [
             0.7777777777777778,
             "#fb9f3a"
            ],
            [
             0.8888888888888888,
             "#fdca26"
            ],
            [
             1,
             "#f0f921"
            ]
           ]
          },
          "colorway": [
           "#636efa",
           "#EF553B",
           "#00cc96",
           "#ab63fa",
           "#FFA15A",
           "#19d3f3",
           "#FF6692",
           "#B6E880",
           "#FF97FF",
           "#FECB52"
          ],
          "font": {
           "color": "#2a3f5f"
          },
          "geo": {
           "bgcolor": "white",
           "lakecolor": "white",
           "landcolor": "#E5ECF6",
           "showlakes": true,
           "showland": true,
           "subunitcolor": "white"
          },
          "hoverlabel": {
           "align": "left"
          },
          "hovermode": "closest",
          "mapbox": {
           "style": "light"
          },
          "paper_bgcolor": "white",
          "plot_bgcolor": "#E5ECF6",
          "polar": {
           "angularaxis": {
            "gridcolor": "white",
            "linecolor": "white",
            "ticks": ""
           },
           "bgcolor": "#E5ECF6",
           "radialaxis": {
            "gridcolor": "white",
            "linecolor": "white",
            "ticks": ""
           }
          },
          "scene": {
           "xaxis": {
            "backgroundcolor": "#E5ECF6",
            "gridcolor": "white",
            "gridwidth": 2,
            "linecolor": "white",
            "showbackground": true,
            "ticks": "",
            "zerolinecolor": "white"
           },
           "yaxis": {
            "backgroundcolor": "#E5ECF6",
            "gridcolor": "white",
            "gridwidth": 2,
            "linecolor": "white",
            "showbackground": true,
            "ticks": "",
            "zerolinecolor": "white"
           },
           "zaxis": {
            "backgroundcolor": "#E5ECF6",
            "gridcolor": "white",
            "gridwidth": 2,
            "linecolor": "white",
            "showbackground": true,
            "ticks": "",
            "zerolinecolor": "white"
           }
          },
          "shapedefaults": {
           "line": {
            "color": "#2a3f5f"
           }
          },
          "ternary": {
           "aaxis": {
            "gridcolor": "white",
            "linecolor": "white",
            "ticks": ""
           },
           "baxis": {
            "gridcolor": "white",
            "linecolor": "white",
            "ticks": ""
           },
           "bgcolor": "#E5ECF6",
           "caxis": {
            "gridcolor": "white",
            "linecolor": "white",
            "ticks": ""
           }
          },
          "title": {
           "x": 0.05
          },
          "xaxis": {
           "automargin": true,
           "gridcolor": "white",
           "linecolor": "white",
           "ticks": "",
           "title": {
            "standoff": 15
           },
           "zerolinecolor": "white",
           "zerolinewidth": 2
          },
          "yaxis": {
           "automargin": true,
           "gridcolor": "white",
           "linecolor": "white",
           "ticks": "",
           "title": {
            "standoff": 15
           },
           "zerolinecolor": "white",
           "zerolinewidth": 2
          }
         }
        },
        "title": {
         "text": "Average Coffee Age in Days per Country",
         "x": 0.5
        }
       }
      },
      "text/html": [
       "<div>                            <div id=\"abac2419-2e8e-4e25-a377-1cec29db665e\" class=\"plotly-graph-div\" style=\"height:525px; width:100%;\"></div>            <script type=\"text/javascript\">                require([\"plotly\"], function(Plotly) {                    window.PLOTLYENV=window.PLOTLYENV || {};                                    if (document.getElementById(\"abac2419-2e8e-4e25-a377-1cec29db665e\")) {                    Plotly.newPlot(                        \"abac2419-2e8e-4e25-a377-1cec29db665e\",                        [{\"coloraxis\":\"coloraxis\",\"geo\":\"geo\",\"hovertemplate\":\"<b>%{hovertext}</b><br><br>Country of Origin=%{location}<br>Age=%{z}<extra></extra>\",\"hovertext\":[\"Brazil\",\"Colombia\",\"Costa Rica\",\"El Salvador\",\"Ethiopia\",\"Guatemala\",\"Honduras\",\"Indonesia\",\"Kenya\",\"Laos\",\"Madagascar\",\"Mexico\",\"Myanmar\",\"Nicaragua\",\"Panama\",\"Peru\",\"Taiwan\",\"Tanzania, United Republic Of\",\"Thailand\",\"Uganda\",\"United States (Hawaii)\",\"Vietnam\"],\"locationmode\":\"country names\",\"locations\":[\"Brazil\",\"Colombia\",\"Costa Rica\",\"El Salvador\",\"Ethiopia\",\"Guatemala\",\"Honduras\",\"Indonesia\",\"Kenya\",\"Laos\",\"Madagascar\",\"Mexico\",\"Myanmar\",\"Nicaragua\",\"Panama\",\"Peru\",\"Taiwan\",\"Tanzania, United Republic Of\",\"Thailand\",\"Uganda\",\"United States (Hawaii)\",\"Vietnam\"],\"name\":\"\",\"z\":[845.0,829.8947368421053,990.75,690.0,971.4545454545455,880.5238095238095,915.0,618.6666666666666,807.0,940.0,710.0,944.0,683.0,884.5714285714286,859.5,580.0,1027.8852459016393,725.3333333333334,664.25,933.0,753.6,910.25],\"type\":\"choropleth\"}],                        {\"template\":{\"data\":{\"bar\":[{\"error_x\":{\"color\":\"#2a3f5f\"},\"error_y\":{\"color\":\"#2a3f5f\"},\"marker\":{\"line\":{\"color\":\"#E5ECF6\",\"width\":0.5},\"pattern\":{\"fillmode\":\"overlay\",\"size\":10,\"solidity\":0.2}},\"type\":\"bar\"}],\"barpolar\":[{\"marker\":{\"line\":{\"color\":\"#E5ECF6\",\"width\":0.5},\"pattern\":{\"fillmode\":\"overlay\",\"size\":10,\"solidity\":0.2}},\"type\":\"barpolar\"}],\"carpet\":[{\"aaxis\":{\"endlinecolor\":\"#2a3f5f\",\"gridcolor\":\"white\",\"linecolor\":\"white\",\"minorgridcolor\":\"white\",\"startlinecolor\":\"#2a3f5f\"},\"baxis\":{\"endlinecolor\":\"#2a3f5f\",\"gridcolor\":\"white\",\"linecolor\":\"white\",\"minorgridcolor\":\"white\",\"startlinecolor\":\"#2a3f5f\"},\"type\":\"carpet\"}],\"choropleth\":[{\"colorbar\":{\"outlinewidth\":0,\"ticks\":\"\"},\"type\":\"choropleth\"}],\"contour\":[{\"colorbar\":{\"outlinewidth\":0,\"ticks\":\"\"},\"colorscale\":[[0.0,\"#0d0887\"],[0.1111111111111111,\"#46039f\"],[0.2222222222222222,\"#7201a8\"],[0.3333333333333333,\"#9c179e\"],[0.4444444444444444,\"#bd3786\"],[0.5555555555555556,\"#d8576b\"],[0.6666666666666666,\"#ed7953\"],[0.7777777777777778,\"#fb9f3a\"],[0.8888888888888888,\"#fdca26\"],[1.0,\"#f0f921\"]],\"type\":\"contour\"}],\"contourcarpet\":[{\"colorbar\":{\"outlinewidth\":0,\"ticks\":\"\"},\"type\":\"contourcarpet\"}],\"heatmap\":[{\"colorbar\":{\"outlinewidth\":0,\"ticks\":\"\"},\"colorscale\":[[0.0,\"#0d0887\"],[0.1111111111111111,\"#46039f\"],[0.2222222222222222,\"#7201a8\"],[0.3333333333333333,\"#9c179e\"],[0.4444444444444444,\"#bd3786\"],[0.5555555555555556,\"#d8576b\"],[0.6666666666666666,\"#ed7953\"],[0.7777777777777778,\"#fb9f3a\"],[0.8888888888888888,\"#fdca26\"],[1.0,\"#f0f921\"]],\"type\":\"heatmap\"}],\"heatmapgl\":[{\"colorbar\":{\"outlinewidth\":0,\"ticks\":\"\"},\"colorscale\":[[0.0,\"#0d0887\"],[0.1111111111111111,\"#46039f\"],[0.2222222222222222,\"#7201a8\"],[0.3333333333333333,\"#9c179e\"],[0.4444444444444444,\"#bd3786\"],[0.5555555555555556,\"#d8576b\"],[0.6666666666666666,\"#ed7953\"],[0.7777777777777778,\"#fb9f3a\"],[0.8888888888888888,\"#fdca26\"],[1.0,\"#f0f921\"]],\"type\":\"heatmapgl\"}],\"histogram\":[{\"marker\":{\"pattern\":{\"fillmode\":\"overlay\",\"size\":10,\"solidity\":0.2}},\"type\":\"histogram\"}],\"histogram2d\":[{\"colorbar\":{\"outlinewidth\":0,\"ticks\":\"\"},\"colorscale\":[[0.0,\"#0d0887\"],[0.1111111111111111,\"#46039f\"],[0.2222222222222222,\"#7201a8\"],[0.3333333333333333,\"#9c179e\"],[0.4444444444444444,\"#bd3786\"],[0.5555555555555556,\"#d8576b\"],[0.6666666666666666,\"#ed7953\"],[0.7777777777777778,\"#fb9f3a\"],[0.8888888888888888,\"#fdca26\"],[1.0,\"#f0f921\"]],\"type\":\"histogram2d\"}],\"histogram2dcontour\":[{\"colorbar\":{\"outlinewidth\":0,\"ticks\":\"\"},\"colorscale\":[[0.0,\"#0d0887\"],[0.1111111111111111,\"#46039f\"],[0.2222222222222222,\"#7201a8\"],[0.3333333333333333,\"#9c179e\"],[0.4444444444444444,\"#bd3786\"],[0.5555555555555556,\"#d8576b\"],[0.6666666666666666,\"#ed7953\"],[0.7777777777777778,\"#fb9f3a\"],[0.8888888888888888,\"#fdca26\"],[1.0,\"#f0f921\"]],\"type\":\"histogram2dcontour\"}],\"mesh3d\":[{\"colorbar\":{\"outlinewidth\":0,\"ticks\":\"\"},\"type\":\"mesh3d\"}],\"parcoords\":[{\"line\":{\"colorbar\":{\"outlinewidth\":0,\"ticks\":\"\"}},\"type\":\"parcoords\"}],\"pie\":[{\"automargin\":true,\"type\":\"pie\"}],\"scatter\":[{\"marker\":{\"colorbar\":{\"outlinewidth\":0,\"ticks\":\"\"}},\"type\":\"scatter\"}],\"scatter3d\":[{\"line\":{\"colorbar\":{\"outlinewidth\":0,\"ticks\":\"\"}},\"marker\":{\"colorbar\":{\"outlinewidth\":0,\"ticks\":\"\"}},\"type\":\"scatter3d\"}],\"scattercarpet\":[{\"marker\":{\"colorbar\":{\"outlinewidth\":0,\"ticks\":\"\"}},\"type\":\"scattercarpet\"}],\"scattergeo\":[{\"marker\":{\"colorbar\":{\"outlinewidth\":0,\"ticks\":\"\"}},\"type\":\"scattergeo\"}],\"scattergl\":[{\"marker\":{\"colorbar\":{\"outlinewidth\":0,\"ticks\":\"\"}},\"type\":\"scattergl\"}],\"scattermapbox\":[{\"marker\":{\"colorbar\":{\"outlinewidth\":0,\"ticks\":\"\"}},\"type\":\"scattermapbox\"}],\"scatterpolar\":[{\"marker\":{\"colorbar\":{\"outlinewidth\":0,\"ticks\":\"\"}},\"type\":\"scatterpolar\"}],\"scatterpolargl\":[{\"marker\":{\"colorbar\":{\"outlinewidth\":0,\"ticks\":\"\"}},\"type\":\"scatterpolargl\"}],\"scatterternary\":[{\"marker\":{\"colorbar\":{\"outlinewidth\":0,\"ticks\":\"\"}},\"type\":\"scatterternary\"}],\"surface\":[{\"colorbar\":{\"outlinewidth\":0,\"ticks\":\"\"},\"colorscale\":[[0.0,\"#0d0887\"],[0.1111111111111111,\"#46039f\"],[0.2222222222222222,\"#7201a8\"],[0.3333333333333333,\"#9c179e\"],[0.4444444444444444,\"#bd3786\"],[0.5555555555555556,\"#d8576b\"],[0.6666666666666666,\"#ed7953\"],[0.7777777777777778,\"#fb9f3a\"],[0.8888888888888888,\"#fdca26\"],[1.0,\"#f0f921\"]],\"type\":\"surface\"}],\"table\":[{\"cells\":{\"fill\":{\"color\":\"#EBF0F8\"},\"line\":{\"color\":\"white\"}},\"header\":{\"fill\":{\"color\":\"#C8D4E3\"},\"line\":{\"color\":\"white\"}},\"type\":\"table\"}]},\"layout\":{\"annotationdefaults\":{\"arrowcolor\":\"#2a3f5f\",\"arrowhead\":0,\"arrowwidth\":1},\"autotypenumbers\":\"strict\",\"coloraxis\":{\"colorbar\":{\"outlinewidth\":0,\"ticks\":\"\"}},\"colorscale\":{\"diverging\":[[0,\"#8e0152\"],[0.1,\"#c51b7d\"],[0.2,\"#de77ae\"],[0.3,\"#f1b6da\"],[0.4,\"#fde0ef\"],[0.5,\"#f7f7f7\"],[0.6,\"#e6f5d0\"],[0.7,\"#b8e186\"],[0.8,\"#7fbc41\"],[0.9,\"#4d9221\"],[1,\"#276419\"]],\"sequential\":[[0.0,\"#0d0887\"],[0.1111111111111111,\"#46039f\"],[0.2222222222222222,\"#7201a8\"],[0.3333333333333333,\"#9c179e\"],[0.4444444444444444,\"#bd3786\"],[0.5555555555555556,\"#d8576b\"],[0.6666666666666666,\"#ed7953\"],[0.7777777777777778,\"#fb9f3a\"],[0.8888888888888888,\"#fdca26\"],[1.0,\"#f0f921\"]],\"sequentialminus\":[[0.0,\"#0d0887\"],[0.1111111111111111,\"#46039f\"],[0.2222222222222222,\"#7201a8\"],[0.3333333333333333,\"#9c179e\"],[0.4444444444444444,\"#bd3786\"],[0.5555555555555556,\"#d8576b\"],[0.6666666666666666,\"#ed7953\"],[0.7777777777777778,\"#fb9f3a\"],[0.8888888888888888,\"#fdca26\"],[1.0,\"#f0f921\"]]},\"colorway\":[\"#636efa\",\"#EF553B\",\"#00cc96\",\"#ab63fa\",\"#FFA15A\",\"#19d3f3\",\"#FF6692\",\"#B6E880\",\"#FF97FF\",\"#FECB52\"],\"font\":{\"color\":\"#2a3f5f\"},\"geo\":{\"bgcolor\":\"white\",\"lakecolor\":\"white\",\"landcolor\":\"#E5ECF6\",\"showlakes\":true,\"showland\":true,\"subunitcolor\":\"white\"},\"hoverlabel\":{\"align\":\"left\"},\"hovermode\":\"closest\",\"mapbox\":{\"style\":\"light\"},\"paper_bgcolor\":\"white\",\"plot_bgcolor\":\"#E5ECF6\",\"polar\":{\"angularaxis\":{\"gridcolor\":\"white\",\"linecolor\":\"white\",\"ticks\":\"\"},\"bgcolor\":\"#E5ECF6\",\"radialaxis\":{\"gridcolor\":\"white\",\"linecolor\":\"white\",\"ticks\":\"\"}},\"scene\":{\"xaxis\":{\"backgroundcolor\":\"#E5ECF6\",\"gridcolor\":\"white\",\"gridwidth\":2,\"linecolor\":\"white\",\"showbackground\":true,\"ticks\":\"\",\"zerolinecolor\":\"white\"},\"yaxis\":{\"backgroundcolor\":\"#E5ECF6\",\"gridcolor\":\"white\",\"gridwidth\":2,\"linecolor\":\"white\",\"showbackground\":true,\"ticks\":\"\",\"zerolinecolor\":\"white\"},\"zaxis\":{\"backgroundcolor\":\"#E5ECF6\",\"gridcolor\":\"white\",\"gridwidth\":2,\"linecolor\":\"white\",\"showbackground\":true,\"ticks\":\"\",\"zerolinecolor\":\"white\"}},\"shapedefaults\":{\"line\":{\"color\":\"#2a3f5f\"}},\"ternary\":{\"aaxis\":{\"gridcolor\":\"white\",\"linecolor\":\"white\",\"ticks\":\"\"},\"baxis\":{\"gridcolor\":\"white\",\"linecolor\":\"white\",\"ticks\":\"\"},\"bgcolor\":\"#E5ECF6\",\"caxis\":{\"gridcolor\":\"white\",\"linecolor\":\"white\",\"ticks\":\"\"}},\"title\":{\"x\":0.05},\"xaxis\":{\"automargin\":true,\"gridcolor\":\"white\",\"linecolor\":\"white\",\"ticks\":\"\",\"title\":{\"standoff\":15},\"zerolinecolor\":\"white\",\"zerolinewidth\":2},\"yaxis\":{\"automargin\":true,\"gridcolor\":\"white\",\"linecolor\":\"white\",\"ticks\":\"\",\"title\":{\"standoff\":15},\"zerolinecolor\":\"white\",\"zerolinewidth\":2}}},\"geo\":{\"domain\":{\"x\":[0.0,1.0],\"y\":[0.0,1.0]},\"center\":{}},\"coloraxis\":{\"colorbar\":{\"title\":{\"text\":\"Age\"}},\"colorscale\":[[0.0,\"#0d0887\"],[0.1111111111111111,\"#46039f\"],[0.2222222222222222,\"#7201a8\"],[0.3333333333333333,\"#9c179e\"],[0.4444444444444444,\"#bd3786\"],[0.5555555555555556,\"#d8576b\"],[0.6666666666666666,\"#ed7953\"],[0.7777777777777778,\"#fb9f3a\"],[0.8888888888888888,\"#fdca26\"],[1.0,\"#f0f921\"]]},\"legend\":{\"tracegroupgap\":0},\"title\":{\"text\":\"Average Coffee Age in Days per Country\",\"x\":0.5}},                        {\"responsive\": true}                    ).then(function(){\n",
       "                            \n",
       "var gd = document.getElementById('abac2419-2e8e-4e25-a377-1cec29db665e');\n",
       "var x = new MutationObserver(function (mutations, observer) {{\n",
       "        var display = window.getComputedStyle(gd).display;\n",
       "        if (!display || display === 'none') {{\n",
       "            console.log([gd, 'removed!']);\n",
       "            Plotly.purge(gd);\n",
       "            observer.disconnect();\n",
       "        }}\n",
       "}});\n",
       "\n",
       "// Listen for the removal of the full notebook cells\n",
       "var notebookContainer = gd.closest('#notebook-container');\n",
       "if (notebookContainer) {{\n",
       "    x.observe(notebookContainer, {childList: true});\n",
       "}}\n",
       "\n",
       "// Listen for the clearing of the current output cell\n",
       "var outputEl = gd.closest('.output');\n",
       "if (outputEl) {{\n",
       "    x.observe(outputEl, {childList: true});\n",
       "}}\n",
       "\n",
       "                        })                };                });            </script>        </div>"
      ]
     },
     "metadata": {},
     "output_type": "display_data"
    },
    {
     "data": {
      "text/plain": [
       "Text(0.5, 1.0, 'Average Coffee Age in Days per Country - Barplot')"
      ]
     },
     "execution_count": 239,
     "metadata": {},
     "output_type": "execute_result"
    },
    {
     "data": {
      "image/png": "[encoded data removed]",
      "text/plain": [
       "<Figure size 792x432 with 1 Axes>"
      ]
     },
     "metadata": {},
     "output_type": "display_data"
    }
   ],
   "source": [
    "coffee[\"Age\"] = (coffee[\"Expiration\"] - coffee[\"Harvest Year\"]).dt.days\n",
    "coffee_age = coffee.groupby(\"Country of Origin\")[\"Age\"].mean().reset_index()\n",
    "\n",
    "fig = px.choropleth(coffee_age,\n",
    "                   locations=\"Country of Origin\",\n",
    "                   locationmode=\"country names\",\n",
    "                   color = \"Age\",\n",
    "                   hover_name=\"Country of Origin\",\n",
    "                   title = \"Average Coffee Age in Days per Country\")\n",
    "\n",
    "fig.update_layout(title_x = 0.5)\n",
    "fig.show()\n",
    "\n",
    "\n",
    "plt.figure(figsize=(11, 6))\n",
    "plt.xticks(rotation = 90)\n",
    "sns.barplot(x = coffee_age[\"Country of Origin\"], y = coffee_age[\"Age\"])\n",
    "plt.title(\"Average Coffee Age in Days per Country - Barplot\")"
   ]
  },
  {
   "cell_type": "code",
   "execution_count": null,
   "id": "f9d06f7f",
   "metadata": {},
   "outputs": [],
   "source": []
  },
  {
   "cell_type": "markdown",
   "id": "282c6a5d",
   "metadata": {},
   "source": [
    "## Dealing with the Input Variables"
   ]
  },
  {
   "cell_type": "markdown",
   "id": "3007e16a",
   "metadata": {},
   "source": [
    "### Creating dummy variables"
   ]
  },
  {
   "cell_type": "code",
   "execution_count": 240,
   "id": "1683c333",
   "metadata": {},
   "outputs": [],
   "source": [
    "#Categorical variables need to be converted to numbers in order to be processed - this can be done by creating dummy \n",
    "#variables (0 - 1)\n",
    "\n",
    "df = coffee.copy()\n",
    "categorical_columns = [\"Processing Method\"]\n",
    "numerical_columns = ['Altitude', 'Aroma', 'Flavor', 'Aftertaste',\n",
    "       'Acidity', 'Body', 'Balance', 'Uniformity',\n",
    "       'Overall', 'Total Cup Points', 'Moisture Percentage',\n",
    "       'Category One Defects', 'Quakers', 'Category Two Defects',\n",
    "       'Age']\n",
    "columns_to_drop = ['Country of Origin', 'Owner', 'Variety',\n",
    "       'Status', 'Color', \"Harvest Year\", \"Expiration\", 'Clean Cup', 'Sweetness']\n",
    "\n",
    "df.drop(columns_to_drop, axis = 1, inplace = True)\n",
    "dummy_variables = pd.get_dummies(df, columns=categorical_columns, drop_first=False)"
   ]
  },
  {
   "cell_type": "markdown",
   "id": "70f50d5b",
   "metadata": {},
   "source": [
    "### Scaling Numerical Variables"
   ]
  },
  {
   "cell_type": "code",
   "execution_count": 241,
   "id": "91b0229f",
   "metadata": {},
   "outputs": [],
   "source": [
    "scaler = StandardScaler()\n",
    "\n",
    "scaled_numerical = scaler.fit_transform(df[numerical_columns])\n",
    "\n",
    "scaled_numerical_df = pd.DataFrame(scaled_numerical, columns=numerical_columns)"
   ]
  },
  {
   "cell_type": "markdown",
   "id": "2f32d624",
   "metadata": {},
   "source": [
    "### Creating df with scaled numerical variables and dummy variables"
   ]
  },
  {
   "cell_type": "code",
   "execution_count": 242,
   "id": "58eaf989",
   "metadata": {},
   "outputs": [],
   "source": [
    "dummy_variables = dummy_variables.drop(numerical_columns, axis = 1)\n",
    "\n",
    "df_prep = pd.concat([scaled_numerical_df, dummy_variables], axis = 1)"
   ]
  },
  {
   "cell_type": "code",
   "execution_count": 243,
   "id": "2792900f",
   "metadata": {},
   "outputs": [
    {
     "data": {
      "text/html": [
       "<div>\n",
       "<style scoped>\n",
       "    .dataframe tbody tr th:only-of-type {\n",
       "        vertical-align: middle;\n",
       "    }\n",
       "\n",
       "    .dataframe tbody tr th {\n",
       "        vertical-align: top;\n",
       "    }\n",
       "\n",
       "    .dataframe thead th {\n",
       "        text-align: right;\n",
       "    }\n",
       "</style>\n",
       "<table border=\"1\" class=\"dataframe\">\n",
       "  <thead>\n",
       "    <tr style=\"text-align: right;\">\n",
       "      <th></th>\n",
       "      <th>Altitude</th>\n",
       "      <th>Aroma</th>\n",
       "      <th>Flavor</th>\n",
       "      <th>Aftertaste</th>\n",
       "      <th>Acidity</th>\n",
       "      <th>Body</th>\n",
       "      <th>Balance</th>\n",
       "      <th>Uniformity</th>\n",
       "      <th>Overall</th>\n",
       "      <th>Total Cup Points</th>\n",
       "      <th>Moisture Percentage</th>\n",
       "      <th>Category One Defects</th>\n",
       "      <th>Quakers</th>\n",
       "      <th>Category Two Defects</th>\n",
       "      <th>Age</th>\n",
       "      <th>Processing Method_Natural / Dry</th>\n",
       "      <th>Processing Method_Pulped natural / honey</th>\n",
       "      <th>Processing Method_Washed / Wet</th>\n",
       "    </tr>\n",
       "  </thead>\n",
       "  <tbody>\n",
       "    <tr>\n",
       "      <th>0</th>\n",
       "      <td>0.699217</td>\n",
       "      <td>2.993534</td>\n",
       "      <td>2.707661</td>\n",
       "      <td>2.980060</td>\n",
       "      <td>3.436732</td>\n",
       "      <td>2.614819</td>\n",
       "      <td>3.034825</td>\n",
       "      <td>0.093753</td>\n",
       "      <td>2.955285</td>\n",
       "      <td>3.257632</td>\n",
       "      <td>0.855585</td>\n",
       "      <td>-0.229016</td>\n",
       "      <td>-0.410510</td>\n",
       "      <td>0.254427</td>\n",
       "      <td>0.425286</td>\n",
       "      <td>0</td>\n",
       "      <td>0</td>\n",
       "      <td>1</td>\n",
       "    </tr>\n",
       "    <tr>\n",
       "      <th>1</th>\n",
       "      <td>-0.155245</td>\n",
       "      <td>2.714721</td>\n",
       "      <td>2.707661</td>\n",
       "      <td>1.163485</td>\n",
       "      <td>1.196334</td>\n",
       "      <td>1.198113</td>\n",
       "      <td>2.369929</td>\n",
       "      <td>0.093753</td>\n",
       "      <td>2.693520</td>\n",
       "      <td>2.243864</td>\n",
       "      <td>-0.189052</td>\n",
       "      <td>-0.229016</td>\n",
       "      <td>-0.410510</td>\n",
       "      <td>-0.764924</td>\n",
       "      <td>0.660522</td>\n",
       "      <td>0</td>\n",
       "      <td>0</td>\n",
       "      <td>1</td>\n",
       "    </tr>\n",
       "    <tr>\n",
       "      <th>2</th>\n",
       "      <td>-0.016308</td>\n",
       "      <td>2.122244</td>\n",
       "      <td>2.420858</td>\n",
       "      <td>1.744789</td>\n",
       "      <td>1.853003</td>\n",
       "      <td>1.198113</td>\n",
       "      <td>2.057037</td>\n",
       "      <td>0.093753</td>\n",
       "      <td>2.137270</td>\n",
       "      <td>2.151176</td>\n",
       "      <td>-0.269408</td>\n",
       "      <td>-0.229016</td>\n",
       "      <td>-0.410510</td>\n",
       "      <td>-0.085356</td>\n",
       "      <td>0.660522</td>\n",
       "      <td>0</td>\n",
       "      <td>0</td>\n",
       "      <td>1</td>\n",
       "    </tr>\n",
       "    <tr>\n",
       "      <th>3</th>\n",
       "      <td>0.817313</td>\n",
       "      <td>1.250954</td>\n",
       "      <td>1.524596</td>\n",
       "      <td>2.071773</td>\n",
       "      <td>2.162023</td>\n",
       "      <td>2.271375</td>\n",
       "      <td>1.705034</td>\n",
       "      <td>0.093753</td>\n",
       "      <td>1.875506</td>\n",
       "      <td>2.006352</td>\n",
       "      <td>0.855585</td>\n",
       "      <td>-0.229016</td>\n",
       "      <td>-0.410510</td>\n",
       "      <td>-0.764924</td>\n",
       "      <td>-1.135830</td>\n",
       "      <td>0</td>\n",
       "      <td>0</td>\n",
       "      <td>1</td>\n",
       "    </tr>\n",
       "    <tr>\n",
       "      <th>4</th>\n",
       "      <td>0.921516</td>\n",
       "      <td>2.122244</td>\n",
       "      <td>2.098204</td>\n",
       "      <td>1.744789</td>\n",
       "      <td>2.162023</td>\n",
       "      <td>1.198113</td>\n",
       "      <td>1.079250</td>\n",
       "      <td>0.093753</td>\n",
       "      <td>1.875506</td>\n",
       "      <td>1.954216</td>\n",
       "      <td>0.694872</td>\n",
       "      <td>-0.229016</td>\n",
       "      <td>0.777959</td>\n",
       "      <td>-0.085356</td>\n",
       "      <td>-0.425843</td>\n",
       "      <td>0</td>\n",
       "      <td>1</td>\n",
       "      <td>0</td>\n",
       "    </tr>\n",
       "    <tr>\n",
       "      <th>...</th>\n",
       "      <td>...</td>\n",
       "      <td>...</td>\n",
       "      <td>...</td>\n",
       "      <td>...</td>\n",
       "      <td>...</td>\n",
       "      <td>...</td>\n",
       "      <td>...</td>\n",
       "      <td>...</td>\n",
       "      <td>...</td>\n",
       "      <td>...</td>\n",
       "      <td>...</td>\n",
       "      <td>...</td>\n",
       "      <td>...</td>\n",
       "      <td>...</td>\n",
       "      <td>...</td>\n",
       "      <td>...</td>\n",
       "      <td>...</td>\n",
       "      <td>...</td>\n",
       "    </tr>\n",
       "    <tr>\n",
       "      <th>202</th>\n",
       "      <td>-0.502587</td>\n",
       "      <td>-1.920542</td>\n",
       "      <td>-2.060448</td>\n",
       "      <td>-2.469664</td>\n",
       "      <td>-2.009752</td>\n",
       "      <td>-0.948411</td>\n",
       "      <td>-1.854111</td>\n",
       "      <td>0.093753</td>\n",
       "      <td>-1.952802</td>\n",
       "      <td>-2.100859</td>\n",
       "      <td>0.534158</td>\n",
       "      <td>-0.229016</td>\n",
       "      <td>-0.410510</td>\n",
       "      <td>0.594211</td>\n",
       "      <td>-0.562708</td>\n",
       "      <td>0</td>\n",
       "      <td>0</td>\n",
       "      <td>1</td>\n",
       "    </tr>\n",
       "    <tr>\n",
       "      <th>203</th>\n",
       "      <td>-0.155245</td>\n",
       "      <td>-1.362917</td>\n",
       "      <td>-2.383102</td>\n",
       "      <td>-3.087299</td>\n",
       "      <td>-2.009752</td>\n",
       "      <td>-0.948411</td>\n",
       "      <td>-1.854111</td>\n",
       "      <td>0.093753</td>\n",
       "      <td>-1.952802</td>\n",
       "      <td>-2.147202</td>\n",
       "      <td>-0.269408</td>\n",
       "      <td>-0.229016</td>\n",
       "      <td>0.777959</td>\n",
       "      <td>3.312481</td>\n",
       "      <td>-0.438675</td>\n",
       "      <td>0</td>\n",
       "      <td>0</td>\n",
       "      <td>1</td>\n",
       "    </tr>\n",
       "    <tr>\n",
       "      <th>204</th>\n",
       "      <td>-0.016308</td>\n",
       "      <td>-1.641729</td>\n",
       "      <td>-2.060448</td>\n",
       "      <td>-1.888360</td>\n",
       "      <td>-2.666420</td>\n",
       "      <td>-2.408048</td>\n",
       "      <td>-2.206115</td>\n",
       "      <td>0.093753</td>\n",
       "      <td>-2.214567</td>\n",
       "      <td>-2.338370</td>\n",
       "      <td>0.694872</td>\n",
       "      <td>-0.229016</td>\n",
       "      <td>4.937598</td>\n",
       "      <td>2.972698</td>\n",
       "      <td>0.643414</td>\n",
       "      <td>0</td>\n",
       "      <td>0</td>\n",
       "      <td>1</td>\n",
       "    </tr>\n",
       "    <tr>\n",
       "      <th>205</th>\n",
       "      <td>-0.155245</td>\n",
       "      <td>-4.255600</td>\n",
       "      <td>-3.566167</td>\n",
       "      <td>-3.087299</td>\n",
       "      <td>-2.009752</td>\n",
       "      <td>-2.408048</td>\n",
       "      <td>-2.519006</td>\n",
       "      <td>0.093753</td>\n",
       "      <td>-2.770817</td>\n",
       "      <td>-3.259451</td>\n",
       "      <td>0.212732</td>\n",
       "      <td>-0.229016</td>\n",
       "      <td>6.720300</td>\n",
       "      <td>3.652265</td>\n",
       "      <td>-1.978405</td>\n",
       "      <td>0</td>\n",
       "      <td>0</td>\n",
       "      <td>1</td>\n",
       "    </tr>\n",
       "    <tr>\n",
       "      <th>206</th>\n",
       "      <td>-0.467853</td>\n",
       "      <td>-1.641729</td>\n",
       "      <td>-2.383102</td>\n",
       "      <td>-3.377951</td>\n",
       "      <td>-3.323089</td>\n",
       "      <td>-3.481310</td>\n",
       "      <td>-3.809685</td>\n",
       "      <td>0.093753</td>\n",
       "      <td>-3.294346</td>\n",
       "      <td>-3.305795</td>\n",
       "      <td>0.453802</td>\n",
       "      <td>-0.229016</td>\n",
       "      <td>-0.410510</td>\n",
       "      <td>-0.425140</td>\n",
       "      <td>0.673353</td>\n",
       "      <td>1</td>\n",
       "      <td>0</td>\n",
       "      <td>0</td>\n",
       "    </tr>\n",
       "  </tbody>\n",
       "</table>\n",
       "<p>207 rows × 18 columns</p>\n",
       "</div>"
      ],
      "text/plain": [
       "     Altitude     Aroma    Flavor  Aftertaste   Acidity      Body   Balance  \\\n",
       "0    0.699217  2.993534  2.707661    2.980060  3.436732  2.614819  3.034825   \n",
       "1   -0.155245  2.714721  2.707661    1.163485  1.196334  1.198113  2.369929   \n",
       "2   -0.016308  2.122244  2.420858    1.744789  1.853003  1.198113  2.057037   \n",
       "3    0.817313  1.250954  1.524596    2.071773  2.162023  2.271375  1.705034   \n",
       "4    0.921516  2.122244  2.098204    1.744789  2.162023  1.198113  1.079250   \n",
       "..        ...       ...       ...         ...       ...       ...       ...   \n",
       "202 -0.502587 -1.920542 -2.060448   -2.469664 -2.009752 -0.948411 -1.854111   \n",
       "203 -0.155245 -1.362917 -2.383102   -3.087299 -2.009752 -0.948411 -1.854111   \n",
       "204 -0.016308 -1.641729 -2.060448   -1.888360 -2.666420 -2.408048 -2.206115   \n",
       "205 -0.155245 -4.255600 -3.566167   -3.087299 -2.009752 -2.408048 -2.519006   \n",
       "206 -0.467853 -1.641729 -2.383102   -3.377951 -3.323089 -3.481310 -3.809685   \n",
       "\n",
       "     Uniformity   Overall  Total Cup Points  Moisture Percentage  \\\n",
       "0      0.093753  2.955285          3.257632             0.855585   \n",
       "1      0.093753  2.693520          2.243864            -0.189052   \n",
       "2      0.093753  2.137270          2.151176            -0.269408   \n",
       "3      0.093753  1.875506          2.006352             0.855585   \n",
       "4      0.093753  1.875506          1.954216             0.694872   \n",
       "..          ...       ...               ...                  ...   \n",
       "202    0.093753 -1.952802         -2.100859             0.534158   \n",
       "203    0.093753 -1.952802         -2.147202            -0.269408   \n",
       "204    0.093753 -2.214567         -2.338370             0.694872   \n",
       "205    0.093753 -2.770817         -3.259451             0.212732   \n",
       "206    0.093753 -3.294346         -3.305795             0.453802   \n",
       "\n",
       "     Category One Defects   Quakers  Category Two Defects       Age  \\\n",
       "0               -0.229016 -0.410510              0.254427  0.425286   \n",
       "1               -0.229016 -0.410510             -0.764924  0.660522   \n",
       "2               -0.229016 -0.410510             -0.085356  0.660522   \n",
       "3               -0.229016 -0.410510             -0.764924 -1.135830   \n",
       "4               -0.229016  0.777959             -0.085356 -0.425843   \n",
       "..                    ...       ...                   ...       ...   \n",
       "202             -0.229016 -0.410510              0.594211 -0.562708   \n",
       "203             -0.229016  0.777959              3.312481 -0.438675   \n",
       "204             -0.229016  4.937598              2.972698  0.643414   \n",
       "205             -0.229016  6.720300              3.652265 -1.978405   \n",
       "206             -0.229016 -0.410510             -0.425140  0.673353   \n",
       "\n",
       "     Processing Method_Natural / Dry  \\\n",
       "0                                  0   \n",
       "1                                  0   \n",
       "2                                  0   \n",
       "3                                  0   \n",
       "4                                  0   \n",
       "..                               ...   \n",
       "202                                0   \n",
       "203                                0   \n",
       "204                                0   \n",
       "205                                0   \n",
       "206                                1   \n",
       "\n",
       "     Processing Method_Pulped natural / honey  Processing Method_Washed / Wet  \n",
       "0                                           0                               1  \n",
       "1                                           0                               1  \n",
       "2                                           0                               1  \n",
       "3                                           0                               1  \n",
       "4                                           1                               0  \n",
       "..                                        ...                             ...  \n",
       "202                                         0                               1  \n",
       "203                                         0                               1  \n",
       "204                                         0                               1  \n",
       "205                                         0                               1  \n",
       "206                                         0                               0  \n",
       "\n",
       "[207 rows x 18 columns]"
      ]
     },
     "execution_count": 243,
     "metadata": {},
     "output_type": "execute_result"
    }
   ],
   "source": [
    "df_prep[df_prep[\"Altitude\"] != \"nan\"]"
   ]
  },
  {
   "cell_type": "code",
   "execution_count": 244,
   "id": "5040bddf",
   "metadata": {},
   "outputs": [],
   "source": [
    "df_prep.dropna(inplace = True)"
   ]
  },
  {
   "cell_type": "code",
   "execution_count": 245,
   "id": "962ee76a",
   "metadata": {
    "scrolled": false
   },
   "outputs": [
    {
     "data": {
      "text/plain": [
       "Altitude                                    0\n",
       "Aroma                                       0\n",
       "Flavor                                      0\n",
       "Aftertaste                                  0\n",
       "Acidity                                     0\n",
       "Body                                        0\n",
       "Balance                                     0\n",
       "Uniformity                                  0\n",
       "Overall                                     0\n",
       "Total Cup Points                            0\n",
       "Moisture Percentage                         0\n",
       "Category One Defects                        0\n",
       "Quakers                                     0\n",
       "Category Two Defects                        0\n",
       "Age                                         0\n",
       "Processing Method_Natural / Dry             0\n",
       "Processing Method_Pulped natural / honey    0\n",
       "Processing Method_Washed / Wet              0\n",
       "dtype: int64"
      ]
     },
     "execution_count": 245,
     "metadata": {},
     "output_type": "execute_result"
    }
   ],
   "source": [
    "df_prep.isnull().sum()"
   ]
  },
  {
   "cell_type": "code",
   "execution_count": 246,
   "id": "93f940c2",
   "metadata": {},
   "outputs": [
    {
     "name": "stdout",
     "output_type": "stream",
     "text": [
      "Empty DataFrame\n",
      "Columns: [Altitude, Aroma, Flavor, Aftertaste, Acidity, Body, Balance, Uniformity, Overall, Total Cup Points, Moisture Percentage, Category One Defects, Quakers, Category Two Defects, Age, Processing Method_Natural / Dry, Processing Method_Pulped natural / honey, Processing Method_Washed / Wet]\n",
      "Index: []\n"
     ]
    }
   ],
   "source": [
    "null_values = df_prep[df_prep.isnull().any(axis=1)]\n",
    "\n",
    "# Print the rows with null values\n",
    "print(null_values)"
   ]
  },
  {
   "cell_type": "code",
   "execution_count": 247,
   "id": "219faebf",
   "metadata": {},
   "outputs": [
    {
     "data": {
      "image/png": "[encoded data removed]",
      "text/plain": [
       "<Figure size 1080x720 with 2 Axes>"
      ]
     },
     "metadata": {},
     "output_type": "display_data"
    },
    {
     "data": {
      "image/png": "[encoded data removed]",
      "text/plain": [
       "<Figure size 432x288 with 2 Axes>"
      ]
     },
     "metadata": {},
     "output_type": "display_data"
    }
   ],
   "source": [
    "corr_matrix = df_prep.corr()\n",
    "\n",
    "plt.figure(figsize=(15, 10))\n",
    "sns.heatmap(corr_matrix, annot=True, cmap='coolwarm', linewidths=0.5, fmt='.2f')\n",
    "plt.title(\"Correlation Matrix Heatmap\")\n",
    "plt.show()\n",
    "\n",
    "corr_matrix_sorted = corr_matrix['Total Cup Points'].drop('Total Cup Points')\n",
    "\n",
    "corr_matrix_sorted = corr_matrix_sorted.sort_values(ascending=False)\n",
    "\n",
    "sns.set(font_scale=0.8)\n",
    "sns.set_style(\"white\")\n",
    "sns.set_palette(\"PuBuGn_d\")\n",
    "sns.heatmap(corr_matrix_sorted.to_frame(), cmap=\"coolwarm\", annot=True, fmt='.2f')\n",
    "plt.title('Correlation with Total Cup Points')\n",
    "plt.show()"
   ]
  },
  {
   "cell_type": "markdown",
   "id": "ff76e829",
   "metadata": {},
   "source": [
    "It seems that the most strongly correlated variables are [overall, flavor, aftertaste, balance, acidity, aroma and body], meaning that when these variables increase, the total cup points variable also increases. However, it does not necessarily mean that these input variable have a casual relationship with the target variable"
   ]
  },
  {
   "cell_type": "code",
   "execution_count": 257,
   "id": "25331909",
   "metadata": {},
   "outputs": [],
   "source": [
    "numerical_columns = ['Altitude', 'Aroma', 'Flavor', 'Aftertaste', 'Acidity', 'Body',\n",
    "                     'Balance', 'Overall', 'Total Cup Points', 'Moisture Percentage',\n",
    "                     'Category One Defects', 'Quakers', 'Category Two Defects', 'Age']\n",
    "\n",
    "# Define preprocessor\n",
    "preprocessor = ColumnTransformer(\n",
    "    transformers=[\n",
    "        ('num', MinMaxScaler(), [col for col in numerical_columns if col != 'Total Cup Points'])])\n",
    "# Append classifier to preprocessing pipeline.\n",
    "clf = Pipeline(steps=[('preprocessor', preprocessor),\n",
    "                      ('classifier', RandomForestRegressor(n_estimators=50, random_state=42))])\n",
    "\n",
    "# Split the data into train and test sets\n",
    "X = df_prep.drop('Total Cup Points', axis=1)\n",
    "y = df_prep['Total Cup Points']\n",
    "X_train, X_test, y_train, y_test = train_test_split(X, y, test_size=0.2, random_state=42)\n"
   ]
  },
  {
   "cell_type": "code",
   "execution_count": 258,
   "id": "9e5cbb09",
   "metadata": {},
   "outputs": [
    {
     "name": "stdout",
     "output_type": "stream",
     "text": [
      "Mean Squared Error: 0.03460648237640896\n"
     ]
    }
   ],
   "source": [
    "clf.fit(X_train, y_train)\n",
    "\n",
    "# Predict on the test set\n",
    "y_pred = clf.predict(X_test)\n",
    "\n",
    "# Evaluate the model\n",
    "mse = mean_squared_error(y_test, y_pred)\n",
    "print('Mean Squared Error:', mse)"
   ]
  },
  {
   "cell_type": "code",
   "execution_count": null,
   "id": "750e2d91",
   "metadata": {},
   "outputs": [],
   "source": []
  },
  {
   "cell_type": "code",
   "execution_count": null,
   "id": "1bfe1d03",
   "metadata": {},
   "outputs": [],
   "source": []
  }
 ],
 "metadata": {
  "kernelspec": {
   "display_name": "Python 3 (ipykernel)",
   "language": "python",
   "name": "python3"
  },
  "language_info": {
   "codemirror_mode": {
    "name": "ipython",
    "version": 3
   },
   "file_extension": ".py",
   "mimetype": "text/x-python",
   "name": "python",
   "nbconvert_exporter": "python",
   "pygments_lexer": "ipython3",
   "version": "3.8.12"
  },
  "toc": {
   "base_numbering": 1,
   "nav_menu": {},
   "number_sections": false,
   "sideBar": true,
   "skip_h1_title": false,
   "title_cell": "Table of Contents",
   "title_sidebar": "Contents",
   "toc_cell": false,
   "toc_position": {},
   "toc_section_display": true,
   "toc_window_display": false
  }
 },
 "nbformat": 4,
 "nbformat_minor": 5
}
